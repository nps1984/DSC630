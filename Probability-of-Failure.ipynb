{
 "cells": [
  {
   "cell_type": "code",
   "execution_count": 1,
   "metadata": {},
   "outputs": [
    {
     "name": "stdout",
     "output_type": "stream",
     "text": [
      "For ensemble 0: 0.002581462836837356\n",
      "For ensemble 1: 0.011654205439999288\n",
      "For ensemble 2: 0.47294772571497457\n",
      "For ensemble 3: 0.46304790101273563\n",
      "For ensemble 4: 0.026389940701285197\n"
     ]
    }
   ],
   "source": [
    "from scipy.stats import binom\n",
    "import numpy as np\n",
    "\n",
    "# ensembles\n",
    "ensembles = [0,1,2,3,4]\n",
    "\n",
    "### Ensemble 0 is a test case from\n",
    "# https://math.stackexchange.com/questions/1712689/to-improve-the-accuracy-a-majority-vote-is-taken-what-is-the-probability-of-an\n",
    "\n",
    "### Ensemble 4 is a test case from\n",
    "# http://courses.washington.edu/css490/2012.Winter/lecture_slides/12_ensemble_methods_1_r1.pdf\n",
    "# Slide 13 indicates probability of a success, since this process is a failure, it should be 1 - 0.97 for about 0.03\n",
    "\n",
    "# Total models in each ensemble\n",
    "num_models = [17,11,11,21,21]\n",
    "\n",
    "# Error rates\n",
    "model_error_rates = [.2,.2,.49,.49,.3]\n",
    "\n",
    "# Majority - 1 to produce a failure\n",
    "minorities = [8,5,5,10,10]\n",
    "\n",
    "for e,n,p,m in zip(ensembles,num_models,model_error_rates,minorities):\n",
    "    total_p = 0\n",
    "    \n",
    "    # Need to add one to our minority iterator because python is not inclusive\n",
    "    for k in range(0, m + 1):  \n",
    "        numerator = np.math.factorial(n)\n",
    "        denominator = (np.math.factorial(n-k)) * np.math.factorial(k)\n",
    "    \n",
    "        curprob = (numerator/denominator)*(p**k)*(1-p)**(n-k)\n",
    "        #print(f'Mine: {curprob}')\n",
    "        #print(f'SciPy: {binom.pmf(k,n,p)}')\n",
    "        total_p += curprob\n",
    "    \n",
    "    print(f'For ensemble {e}: {1-total_p}')"
   ]
  },
  {
   "cell_type": "code",
   "execution_count": null,
   "metadata": {},
   "outputs": [],
   "source": []
  }
 ],
 "metadata": {
  "kernelspec": {
   "display_name": "Python 3",
   "language": "python",
   "name": "python3"
  },
  "language_info": {
   "codemirror_mode": {
    "name": "ipython",
    "version": 3
   },
   "file_extension": ".py",
   "mimetype": "text/x-python",
   "name": "python",
   "nbconvert_exporter": "python",
   "pygments_lexer": "ipython3",
   "version": "3.8.4rc1"
  },
  "varInspector": {
   "cols": {
    "lenName": 16,
    "lenType": 16,
    "lenVar": 40
   },
   "kernels_config": {
    "python": {
     "delete_cmd_postfix": "",
     "delete_cmd_prefix": "del ",
     "library": "var_list.py",
     "varRefreshCmd": "print(var_dic_list())"
    },
    "r": {
     "delete_cmd_postfix": ") ",
     "delete_cmd_prefix": "rm(",
     "library": "var_list.r",
     "varRefreshCmd": "cat(var_dic_list()) "
    }
   },
   "types_to_exclude": [
    "module",
    "function",
    "builtin_function_or_method",
    "instance",
    "_Feature"
   ],
   "window_display": false
  }
 },
 "nbformat": 4,
 "nbformat_minor": 4
}
