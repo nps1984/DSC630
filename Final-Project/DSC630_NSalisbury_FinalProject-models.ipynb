{
 "cells": [
  {
   "cell_type": "code",
   "execution_count": 1,
   "metadata": {},
   "outputs": [],
   "source": [
    "import numpy as np\n",
    "import pandas as pd\n",
    "import os\n",
    "from matplotlib import pyplot as plt\n",
    "import seaborn as sns\n",
    "from pybaseball import pitching_stats, batting_stats\n",
    "\n",
    "from sklearn.pipeline import Pipeline\n",
    "from sklearn.model_selection import train_test_split, GridSearchCV\n",
    "from sklearn.preprocessing import LabelEncoder\n",
    "from sklearn.decomposition import PCA, NMF\n",
    "from sklearn.feature_selection import SelectKBest, chi2\n",
    "from sklearn.svm import SVC"
   ]
  },
  {
   "cell_type": "code",
   "execution_count": 2,
   "metadata": {},
   "outputs": [],
   "source": [
    "#pitch_data = pitching_stats(2003,2019)\n",
    "pitch_data = pd.read_csv(f'pitch_data_2003_2019.csv')"
   ]
  },
  {
   "cell_type": "code",
   "execution_count": 4,
   "metadata": {},
   "outputs": [],
   "source": [
    "#pitch_data.to_csv(f'pitch_data_2003_2019.csv',index=False)"
   ]
  },
  {
   "cell_type": "code",
   "execution_count": 3,
   "metadata": {},
   "outputs": [],
   "source": [
    "#hit_data = batting_stats(2004,2019)\n",
    "hit_data = pd.read_csv(f'hit_data_2004_2019.csv')"
   ]
  },
  {
   "cell_type": "code",
   "execution_count": 7,
   "metadata": {},
   "outputs": [],
   "source": [
    "#hit_data.to_csv(f'hit_data_2004_2019.csv',index=False)"
   ]
  },
  {
   "cell_type": "code",
   "execution_count": 4,
   "metadata": {},
   "outputs": [],
   "source": [
    "# drop pi columns\n",
    "hit_data.drop(list(hit_data.filter(regex='(pi)')),axis=1,inplace=True)\n",
    "hit_data.drop(list(hit_data.filter(regex='(pfx)')),axis=1,inplace=True)"
   ]
  },
  {
   "cell_type": "code",
   "execution_count": 5,
   "metadata": {},
   "outputs": [],
   "source": [
    "hit_data.drop(['IFFB','Pitches','Balls','Strikes','IFH','BUH',\n",
    "               'FB% (Pitch)','FBv','SL%','SLv','CT%','CTv','CB%','CBv','CH%',\n",
    "               'CHv','SF%','SFv','KN%','KNv','XX%'\n",
    "              ],axis=1,inplace=True)"
   ]
  },
  {
   "cell_type": "code",
   "execution_count": 6,
   "metadata": {},
   "outputs": [],
   "source": [
    "hit_data.drop(['wFB','wSL','wCT','wCB','wCH',\n",
    "               'wSF','wKN','wFB/C','wSL/C','wCT/C','wCB/C','wCH/C','wSF/C','wKN/C',\n",
    "               'Clutch','BUH%','TTO%'\n",
    "              ],axis=1,inplace=True)"
   ]
  },
  {
   "cell_type": "code",
   "execution_count": 8,
   "metadata": {},
   "outputs": [
    {
     "data": {
      "text/html": [
       "<div>\n",
       "<style scoped>\n",
       "    .dataframe tbody tr th:only-of-type {\n",
       "        vertical-align: middle;\n",
       "    }\n",
       "\n",
       "    .dataframe tbody tr th {\n",
       "        vertical-align: top;\n",
       "    }\n",
       "\n",
       "    .dataframe thead th {\n",
       "        text-align: right;\n",
       "    }\n",
       "</style>\n",
       "<table border=\"1\" class=\"dataframe\">\n",
       "  <thead>\n",
       "    <tr style=\"text-align: right;\">\n",
       "      <th></th>\n",
       "      <th>Season</th>\n",
       "      <th>Age</th>\n",
       "      <th>G</th>\n",
       "      <th>AB</th>\n",
       "      <th>PA</th>\n",
       "      <th>H</th>\n",
       "      <th>1B</th>\n",
       "      <th>2B</th>\n",
       "      <th>3B</th>\n",
       "      <th>HR</th>\n",
       "      <th>...</th>\n",
       "      <th>UBR</th>\n",
       "      <th>Off</th>\n",
       "      <th>Lg</th>\n",
       "      <th>wGDP</th>\n",
       "      <th>Pull%</th>\n",
       "      <th>Cent%</th>\n",
       "      <th>Oppo%</th>\n",
       "      <th>Soft%</th>\n",
       "      <th>Med%</th>\n",
       "      <th>Hard%</th>\n",
       "    </tr>\n",
       "  </thead>\n",
       "  <tbody>\n",
       "    <tr>\n",
       "      <th>count</th>\n",
       "      <td>15336.000000</td>\n",
       "      <td>15336.000000</td>\n",
       "      <td>15336.000000</td>\n",
       "      <td>15336.000000</td>\n",
       "      <td>15336.000000</td>\n",
       "      <td>15336.000000</td>\n",
       "      <td>15336.000000</td>\n",
       "      <td>15336.000000</td>\n",
       "      <td>15336.000000</td>\n",
       "      <td>15336.000000</td>\n",
       "      <td>...</td>\n",
       "      <td>10045.000000</td>\n",
       "      <td>15336.000000</td>\n",
       "      <td>15336.000000</td>\n",
       "      <td>10045.000000</td>\n",
       "      <td>14457.000000</td>\n",
       "      <td>14457.000000</td>\n",
       "      <td>14457.000000</td>\n",
       "      <td>14457.000000</td>\n",
       "      <td>14457.000000</td>\n",
       "      <td>14457.000000</td>\n",
       "    </tr>\n",
       "    <tr>\n",
       "      <th>mean</th>\n",
       "      <td>2011.540363</td>\n",
       "      <td>28.120762</td>\n",
       "      <td>62.528560</td>\n",
       "      <td>173.322183</td>\n",
       "      <td>193.998957</td>\n",
       "      <td>44.750000</td>\n",
       "      <td>29.505934</td>\n",
       "      <td>8.937076</td>\n",
       "      <td>0.916927</td>\n",
       "      <td>5.390063</td>\n",
       "      <td>...</td>\n",
       "      <td>0.000996</td>\n",
       "      <td>-0.858777</td>\n",
       "      <td>0.506527</td>\n",
       "      <td>-0.000846</td>\n",
       "      <td>0.357256</td>\n",
       "      <td>0.353334</td>\n",
       "      <td>0.289507</td>\n",
       "      <td>0.220061</td>\n",
       "      <td>0.543769</td>\n",
       "      <td>0.236270</td>\n",
       "    </tr>\n",
       "    <tr>\n",
       "      <th>std</th>\n",
       "      <td>4.626507</td>\n",
       "      <td>4.131711</td>\n",
       "      <td>49.591794</td>\n",
       "      <td>199.258645</td>\n",
       "      <td>223.193895</td>\n",
       "      <td>55.740094</td>\n",
       "      <td>36.758000</td>\n",
       "      <td>11.669289</td>\n",
       "      <td>1.802403</td>\n",
       "      <td>8.670435</td>\n",
       "      <td>...</td>\n",
       "      <td>1.697350</td>\n",
       "      <td>9.960633</td>\n",
       "      <td>0.718121</td>\n",
       "      <td>0.953065</td>\n",
       "      <td>0.190337</td>\n",
       "      <td>0.190804</td>\n",
       "      <td>0.194841</td>\n",
       "      <td>0.190688</td>\n",
       "      <td>0.198738</td>\n",
       "      <td>0.161105</td>\n",
       "    </tr>\n",
       "    <tr>\n",
       "      <th>min</th>\n",
       "      <td>2004.000000</td>\n",
       "      <td>19.000000</td>\n",
       "      <td>1.000000</td>\n",
       "      <td>0.000000</td>\n",
       "      <td>1.000000</td>\n",
       "      <td>0.000000</td>\n",
       "      <td>0.000000</td>\n",
       "      <td>0.000000</td>\n",
       "      <td>0.000000</td>\n",
       "      <td>0.000000</td>\n",
       "      <td>...</td>\n",
       "      <td>-10.600000</td>\n",
       "      <td>-39.900000</td>\n",
       "      <td>0.000000</td>\n",
       "      <td>-5.500000</td>\n",
       "      <td>0.000000</td>\n",
       "      <td>0.000000</td>\n",
       "      <td>0.000000</td>\n",
       "      <td>0.000000</td>\n",
       "      <td>0.000000</td>\n",
       "      <td>0.000000</td>\n",
       "    </tr>\n",
       "    <tr>\n",
       "      <th>25%</th>\n",
       "      <td>2008.000000</td>\n",
       "      <td>25.000000</td>\n",
       "      <td>21.000000</td>\n",
       "      <td>8.000000</td>\n",
       "      <td>9.000000</td>\n",
       "      <td>1.000000</td>\n",
       "      <td>1.000000</td>\n",
       "      <td>0.000000</td>\n",
       "      <td>0.000000</td>\n",
       "      <td>0.000000</td>\n",
       "      <td>...</td>\n",
       "      <td>-0.600000</td>\n",
       "      <td>-5.300000</td>\n",
       "      <td>0.000000</td>\n",
       "      <td>-0.400000</td>\n",
       "      <td>0.286000</td>\n",
       "      <td>0.292000</td>\n",
       "      <td>0.209000</td>\n",
       "      <td>0.130000</td>\n",
       "      <td>0.476000</td>\n",
       "      <td>0.139000</td>\n",
       "    </tr>\n",
       "    <tr>\n",
       "      <th>50%</th>\n",
       "      <td>2012.000000</td>\n",
       "      <td>27.000000</td>\n",
       "      <td>44.000000</td>\n",
       "      <td>66.000000</td>\n",
       "      <td>75.000000</td>\n",
       "      <td>14.000000</td>\n",
       "      <td>10.000000</td>\n",
       "      <td>3.000000</td>\n",
       "      <td>0.000000</td>\n",
       "      <td>1.000000</td>\n",
       "      <td>...</td>\n",
       "      <td>0.000000</td>\n",
       "      <td>-1.200000</td>\n",
       "      <td>0.100000</td>\n",
       "      <td>0.000000</td>\n",
       "      <td>0.382000</td>\n",
       "      <td>0.341000</td>\n",
       "      <td>0.260000</td>\n",
       "      <td>0.181000</td>\n",
       "      <td>0.535000</td>\n",
       "      <td>0.253000</td>\n",
       "    </tr>\n",
       "    <tr>\n",
       "      <th>75%</th>\n",
       "      <td>2016.000000</td>\n",
       "      <td>31.000000</td>\n",
       "      <td>105.000000</td>\n",
       "      <td>317.250000</td>\n",
       "      <td>354.250000</td>\n",
       "      <td>80.000000</td>\n",
       "      <td>52.000000</td>\n",
       "      <td>16.000000</td>\n",
       "      <td>1.000000</td>\n",
       "      <td>8.000000</td>\n",
       "      <td>...</td>\n",
       "      <td>0.700000</td>\n",
       "      <td>0.200000</td>\n",
       "      <td>0.700000</td>\n",
       "      <td>0.500000</td>\n",
       "      <td>0.449000</td>\n",
       "      <td>0.394000</td>\n",
       "      <td>0.329000</td>\n",
       "      <td>0.250000</td>\n",
       "      <td>0.614000</td>\n",
       "      <td>0.329000</td>\n",
       "    </tr>\n",
       "    <tr>\n",
       "      <th>max</th>\n",
       "      <td>2019.000000</td>\n",
       "      <td>49.000000</td>\n",
       "      <td>163.000000</td>\n",
       "      <td>716.000000</td>\n",
       "      <td>778.000000</td>\n",
       "      <td>262.000000</td>\n",
       "      <td>225.000000</td>\n",
       "      <td>58.000000</td>\n",
       "      <td>23.000000</td>\n",
       "      <td>59.000000</td>\n",
       "      <td>...</td>\n",
       "      <td>8.300000</td>\n",
       "      <td>105.700000</td>\n",
       "      <td>4.100000</td>\n",
       "      <td>5.000000</td>\n",
       "      <td>1.000000</td>\n",
       "      <td>1.000000</td>\n",
       "      <td>1.000000</td>\n",
       "      <td>1.000000</td>\n",
       "      <td>1.000000</td>\n",
       "      <td>1.000000</td>\n",
       "    </tr>\n",
       "  </tbody>\n",
       "</table>\n",
       "<p>8 rows × 85 columns</p>\n",
       "</div>"
      ],
      "text/plain": [
       "             Season           Age             G            AB            PA  \\\n",
       "count  15336.000000  15336.000000  15336.000000  15336.000000  15336.000000   \n",
       "mean    2011.540363     28.120762     62.528560    173.322183    193.998957   \n",
       "std        4.626507      4.131711     49.591794    199.258645    223.193895   \n",
       "min     2004.000000     19.000000      1.000000      0.000000      1.000000   \n",
       "25%     2008.000000     25.000000     21.000000      8.000000      9.000000   \n",
       "50%     2012.000000     27.000000     44.000000     66.000000     75.000000   \n",
       "75%     2016.000000     31.000000    105.000000    317.250000    354.250000   \n",
       "max     2019.000000     49.000000    163.000000    716.000000    778.000000   \n",
       "\n",
       "                  H            1B            2B            3B            HR  \\\n",
       "count  15336.000000  15336.000000  15336.000000  15336.000000  15336.000000   \n",
       "mean      44.750000     29.505934      8.937076      0.916927      5.390063   \n",
       "std       55.740094     36.758000     11.669289      1.802403      8.670435   \n",
       "min        0.000000      0.000000      0.000000      0.000000      0.000000   \n",
       "25%        1.000000      1.000000      0.000000      0.000000      0.000000   \n",
       "50%       14.000000     10.000000      3.000000      0.000000      1.000000   \n",
       "75%       80.000000     52.000000     16.000000      1.000000      8.000000   \n",
       "max      262.000000    225.000000     58.000000     23.000000     59.000000   \n",
       "\n",
       "       ...           UBR           Off            Lg          wGDP  \\\n",
       "count  ...  10045.000000  15336.000000  15336.000000  10045.000000   \n",
       "mean   ...      0.000996     -0.858777      0.506527     -0.000846   \n",
       "std    ...      1.697350      9.960633      0.718121      0.953065   \n",
       "min    ...    -10.600000    -39.900000      0.000000     -5.500000   \n",
       "25%    ...     -0.600000     -5.300000      0.000000     -0.400000   \n",
       "50%    ...      0.000000     -1.200000      0.100000      0.000000   \n",
       "75%    ...      0.700000      0.200000      0.700000      0.500000   \n",
       "max    ...      8.300000    105.700000      4.100000      5.000000   \n",
       "\n",
       "              Pull%         Cent%         Oppo%         Soft%          Med%  \\\n",
       "count  14457.000000  14457.000000  14457.000000  14457.000000  14457.000000   \n",
       "mean       0.357256      0.353334      0.289507      0.220061      0.543769   \n",
       "std        0.190337      0.190804      0.194841      0.190688      0.198738   \n",
       "min        0.000000      0.000000      0.000000      0.000000      0.000000   \n",
       "25%        0.286000      0.292000      0.209000      0.130000      0.476000   \n",
       "50%        0.382000      0.341000      0.260000      0.181000      0.535000   \n",
       "75%        0.449000      0.394000      0.329000      0.250000      0.614000   \n",
       "max        1.000000      1.000000      1.000000      1.000000      1.000000   \n",
       "\n",
       "              Hard%  \n",
       "count  14457.000000  \n",
       "mean       0.236270  \n",
       "std        0.161105  \n",
       "min        0.000000  \n",
       "25%        0.139000  \n",
       "50%        0.253000  \n",
       "75%        0.329000  \n",
       "max        1.000000  \n",
       "\n",
       "[8 rows x 85 columns]"
      ]
     },
     "execution_count": 8,
     "metadata": {},
     "output_type": "execute_result"
    }
   ],
   "source": [
    "hit_data.describe()"
   ]
  },
  {
   "cell_type": "code",
   "execution_count": 16,
   "metadata": {
    "scrolled": false
   },
   "outputs": [
    {
     "data": {
      "text/plain": [
       "<matplotlib.axes._subplots.AxesSubplot at 0x225f769c280>"
      ]
     },
     "execution_count": 16,
     "metadata": {},
     "output_type": "execute_result"
    },
    {
     "data": {
      "image/png": "[encoded data removed]",
      "text/plain": [
       "<Figure size 432x288 with 1 Axes>"
      ]
     },
     "metadata": {
      "needs_background": "light"
     },
     "output_type": "display_data"
    }
   ],
   "source": [
    "sns.distplot(hit_data['LD%'])"
   ]
  },
  {
   "cell_type": "code",
   "execution_count": 19,
   "metadata": {},
   "outputs": [
    {
     "data": {
      "text/plain": [
       "Index(['Season', 'Name', 'Team', 'Age', 'G', 'AB', 'PA', 'H', '1B', '2B', '3B',\n",
       "       'HR', 'R', 'RBI', 'BB', 'IBB', 'SO', 'HBP', 'SF', 'SH', 'GDP', 'SB',\n",
       "       'CS', 'AVG', 'GB', 'FB', 'LD', 'BU', 'BB%', 'K%', 'BB/K', 'OBP', 'SLG',\n",
       "       'OPS', 'ISO', 'BABIP', 'GB/FB', 'LD%', 'GB%', 'FB%', 'IFFB%', 'HR/FB',\n",
       "       'IFH%', 'wOBA', 'wRAA', 'wRC', 'Bat', 'Fld', 'Rep', 'Pos', 'RAR', 'WAR',\n",
       "       'Dol', 'Spd', 'wRC+', 'WPA', '-WPA', '+WPA', 'RE24', 'REW', 'pLI',\n",
       "       'phLI', 'PH', 'WPA/LI', 'PO%', 'O-Swing%', 'Z-Swing%', 'Swing%',\n",
       "       'O-Contact%', 'Z-Contact%', 'Contact%', 'Zone%', 'F-Strike%', 'SwStr%',\n",
       "       'BsR', 'Pace', 'Def', 'wSB', 'UBR', 'Age Rng', 'Off', 'Lg', 'wGDP',\n",
       "       'Pull%', 'Cent%', 'Oppo%', 'Soft%', 'Med%', 'Hard%'],\n",
       "      dtype='object')"
      ]
     },
     "execution_count": 19,
     "metadata": {},
     "output_type": "execute_result"
    }
   ],
   "source": [
    "hit_data.columns"
   ]
  },
  {
   "cell_type": "code",
   "execution_count": 138,
   "metadata": {},
   "outputs": [
    {
     "data": {
      "text/html": [
       "<div>\n",
       "<style scoped>\n",
       "    .dataframe tbody tr th:only-of-type {\n",
       "        vertical-align: middle;\n",
       "    }\n",
       "\n",
       "    .dataframe tbody tr th {\n",
       "        vertical-align: top;\n",
       "    }\n",
       "\n",
       "    .dataframe thead th {\n",
       "        text-align: right;\n",
       "    }\n",
       "</style>\n",
       "<table border=\"1\" class=\"dataframe\">\n",
       "  <thead>\n",
       "    <tr style=\"text-align: right;\">\n",
       "      <th></th>\n",
       "      <th>Season</th>\n",
       "      <th>Age</th>\n",
       "      <th>WAR</th>\n",
       "    </tr>\n",
       "  </thead>\n",
       "  <tbody>\n",
       "    <tr>\n",
       "      <th>2</th>\n",
       "      <td>2013.0</td>\n",
       "      <td>21.0</td>\n",
       "      <td>10.2</td>\n",
       "    </tr>\n",
       "    <tr>\n",
       "      <th>3</th>\n",
       "      <td>2012.0</td>\n",
       "      <td>20.0</td>\n",
       "      <td>10.1</td>\n",
       "    </tr>\n",
       "    <tr>\n",
       "      <th>5</th>\n",
       "      <td>2018.0</td>\n",
       "      <td>26.0</td>\n",
       "      <td>9.8</td>\n",
       "    </tr>\n",
       "    <tr>\n",
       "      <th>7</th>\n",
       "      <td>2016.0</td>\n",
       "      <td>24.0</td>\n",
       "      <td>9.7</td>\n",
       "    </tr>\n",
       "    <tr>\n",
       "      <th>11</th>\n",
       "      <td>2015.0</td>\n",
       "      <td>23.0</td>\n",
       "      <td>9.3</td>\n",
       "    </tr>\n",
       "    <tr>\n",
       "      <th>17</th>\n",
       "      <td>2019.0</td>\n",
       "      <td>27.0</td>\n",
       "      <td>8.6</td>\n",
       "    </tr>\n",
       "    <tr>\n",
       "      <th>29</th>\n",
       "      <td>2014.0</td>\n",
       "      <td>22.0</td>\n",
       "      <td>8.3</td>\n",
       "    </tr>\n",
       "    <tr>\n",
       "      <th>100</th>\n",
       "      <td>2017.0</td>\n",
       "      <td>25.0</td>\n",
       "      <td>6.8</td>\n",
       "    </tr>\n",
       "    <tr>\n",
       "      <th>3979</th>\n",
       "      <td>2011.0</td>\n",
       "      <td>19.0</td>\n",
       "      <td>0.7</td>\n",
       "    </tr>\n",
       "  </tbody>\n",
       "</table>\n",
       "</div>"
      ],
      "text/plain": [
       "      Season   Age   WAR\n",
       "2     2013.0  21.0  10.2\n",
       "3     2012.0  20.0  10.1\n",
       "5     2018.0  26.0   9.8\n",
       "7     2016.0  24.0   9.7\n",
       "11    2015.0  23.0   9.3\n",
       "17    2019.0  27.0   8.6\n",
       "29    2014.0  22.0   8.3\n",
       "100   2017.0  25.0   6.8\n",
       "3979  2011.0  19.0   0.7"
      ]
     },
     "execution_count": 138,
     "metadata": {},
     "output_type": "execute_result"
    }
   ],
   "source": [
    "hit_data[hit_data['Name']=='Mike Trout'][['Season','Age','WAR']]"
   ]
  },
  {
   "cell_type": "code",
   "execution_count": 139,
   "metadata": {},
   "outputs": [
    {
     "data": {
      "text/html": [
       "<div>\n",
       "<style scoped>\n",
       "    .dataframe tbody tr th:only-of-type {\n",
       "        vertical-align: middle;\n",
       "    }\n",
       "\n",
       "    .dataframe tbody tr th {\n",
       "        vertical-align: top;\n",
       "    }\n",
       "\n",
       "    .dataframe thead th {\n",
       "        text-align: right;\n",
       "    }\n",
       "</style>\n",
       "<table border=\"1\" class=\"dataframe\">\n",
       "  <thead>\n",
       "    <tr style=\"text-align: right;\">\n",
       "      <th></th>\n",
       "      <th>Season</th>\n",
       "      <th>Age</th>\n",
       "      <th>WAR</th>\n",
       "    </tr>\n",
       "  </thead>\n",
       "  <tbody>\n",
       "    <tr>\n",
       "      <th>82</th>\n",
       "      <td>2013.0</td>\n",
       "      <td>27.0</td>\n",
       "      <td>7.1</td>\n",
       "    </tr>\n",
       "    <tr>\n",
       "      <th>261</th>\n",
       "      <td>2015.0</td>\n",
       "      <td>29.0</td>\n",
       "      <td>5.4</td>\n",
       "    </tr>\n",
       "    <tr>\n",
       "      <th>1262</th>\n",
       "      <td>2016.0</td>\n",
       "      <td>30.0</td>\n",
       "      <td>2.9</td>\n",
       "    </tr>\n",
       "    <tr>\n",
       "      <th>2248</th>\n",
       "      <td>2012.0</td>\n",
       "      <td>26.0</td>\n",
       "      <td>1.8</td>\n",
       "    </tr>\n",
       "    <tr>\n",
       "      <th>3579</th>\n",
       "      <td>2014.0</td>\n",
       "      <td>28.0</td>\n",
       "      <td>0.9</td>\n",
       "    </tr>\n",
       "    <tr>\n",
       "      <th>3638</th>\n",
       "      <td>2008.0</td>\n",
       "      <td>22.0</td>\n",
       "      <td>0.8</td>\n",
       "    </tr>\n",
       "    <tr>\n",
       "      <th>7158</th>\n",
       "      <td>2017.0</td>\n",
       "      <td>31.0</td>\n",
       "      <td>0.0</td>\n",
       "    </tr>\n",
       "    <tr>\n",
       "      <th>14079</th>\n",
       "      <td>2009.0</td>\n",
       "      <td>23.0</td>\n",
       "      <td>-0.5</td>\n",
       "    </tr>\n",
       "    <tr>\n",
       "      <th>14093</th>\n",
       "      <td>2011.0</td>\n",
       "      <td>25.0</td>\n",
       "      <td>-0.5</td>\n",
       "    </tr>\n",
       "    <tr>\n",
       "      <th>14692</th>\n",
       "      <td>2010.0</td>\n",
       "      <td>24.0</td>\n",
       "      <td>-0.7</td>\n",
       "    </tr>\n",
       "    <tr>\n",
       "      <th>15205</th>\n",
       "      <td>2019.0</td>\n",
       "      <td>33.0</td>\n",
       "      <td>-1.3</td>\n",
       "    </tr>\n",
       "    <tr>\n",
       "      <th>15334</th>\n",
       "      <td>2018.0</td>\n",
       "      <td>32.0</td>\n",
       "      <td>-3.2</td>\n",
       "    </tr>\n",
       "  </tbody>\n",
       "</table>\n",
       "</div>"
      ],
      "text/plain": [
       "       Season   Age  WAR\n",
       "82     2013.0  27.0  7.1\n",
       "261    2015.0  29.0  5.4\n",
       "1262   2016.0  30.0  2.9\n",
       "2248   2012.0  26.0  1.8\n",
       "3579   2014.0  28.0  0.9\n",
       "3638   2008.0  22.0  0.8\n",
       "7158   2017.0  31.0  0.0\n",
       "14079  2009.0  23.0 -0.5\n",
       "14093  2011.0  25.0 -0.5\n",
       "14692  2010.0  24.0 -0.7\n",
       "15205  2019.0  33.0 -1.3\n",
       "15334  2018.0  32.0 -3.2"
      ]
     },
     "execution_count": 139,
     "metadata": {},
     "output_type": "execute_result"
    }
   ],
   "source": [
    "hit_data[hit_data['Name']=='Chris Davis'][['Season','Age','WAR']]"
   ]
  },
  {
   "cell_type": "code",
   "execution_count": 9,
   "metadata": {},
   "outputs": [
    {
     "ename": "KeyboardInterrupt",
     "evalue": "",
     "output_type": "error",
     "traceback": [
      "\u001b[1;31m---------------------------------------------------------------------------\u001b[0m",
      "\u001b[1;31mKeyboardInterrupt\u001b[0m                         Traceback (most recent call last)",
      "\u001b[1;32m<ipython-input-9-5d9e4ca4f19c>\u001b[0m in \u001b[0;36m<module>\u001b[1;34m\u001b[0m\n\u001b[1;32m----> 1\u001b[1;33m \u001b[0mhit_data_agg\u001b[0m \u001b[1;33m=\u001b[0m \u001b[0mbatting_stats\u001b[0m\u001b[1;33m(\u001b[0m\u001b[1;36m2004\u001b[0m\u001b[1;33m,\u001b[0m \u001b[1;36m2018\u001b[0m\u001b[1;33m,\u001b[0m \u001b[0mind\u001b[0m\u001b[1;33m=\u001b[0m\u001b[1;36m0\u001b[0m\u001b[1;33m)\u001b[0m\u001b[1;33m\u001b[0m\u001b[1;33m\u001b[0m\u001b[0m\n\u001b[0m",
      "\u001b[1;32mc:\\python\\lib\\site-packages\\pybaseball\\batting_leaders.py\u001b[0m in \u001b[0;36mbatting_stats\u001b[1;34m(start_season, end_season, league, qual, ind)\u001b[0m\n\u001b[0;32m     61\u001b[0m     \u001b[1;32mif\u001b[0m \u001b[0mend_season\u001b[0m \u001b[1;32mis\u001b[0m \u001b[1;32mNone\u001b[0m\u001b[1;33m:\u001b[0m\u001b[1;33m\u001b[0m\u001b[1;33m\u001b[0m\u001b[0m\n\u001b[0;32m     62\u001b[0m         \u001b[0mend_season\u001b[0m \u001b[1;33m=\u001b[0m \u001b[0mstart_season\u001b[0m\u001b[1;33m\u001b[0m\u001b[1;33m\u001b[0m\u001b[0m\n\u001b[1;32m---> 63\u001b[1;33m     \u001b[0msoup\u001b[0m \u001b[1;33m=\u001b[0m \u001b[0mget_soup\u001b[0m\u001b[1;33m(\u001b[0m\u001b[0mstart_season\u001b[0m\u001b[1;33m=\u001b[0m\u001b[0mstart_season\u001b[0m\u001b[1;33m,\u001b[0m \u001b[0mend_season\u001b[0m\u001b[1;33m=\u001b[0m\u001b[0mend_season\u001b[0m\u001b[1;33m,\u001b[0m \u001b[0mleague\u001b[0m\u001b[1;33m=\u001b[0m\u001b[0mleague\u001b[0m\u001b[1;33m,\u001b[0m \u001b[0mqual\u001b[0m\u001b[1;33m=\u001b[0m\u001b[0mqual\u001b[0m\u001b[1;33m,\u001b[0m \u001b[0mind\u001b[0m\u001b[1;33m=\u001b[0m\u001b[0mind\u001b[0m\u001b[1;33m)\u001b[0m\u001b[1;33m\u001b[0m\u001b[1;33m\u001b[0m\u001b[0m\n\u001b[0m\u001b[0;32m     64\u001b[0m     \u001b[0mtable\u001b[0m \u001b[1;33m=\u001b[0m \u001b[0mget_table\u001b[0m\u001b[1;33m(\u001b[0m\u001b[0msoup\u001b[0m\u001b[1;33m,\u001b[0m \u001b[0mind\u001b[0m\u001b[1;33m)\u001b[0m\u001b[1;33m\u001b[0m\u001b[1;33m\u001b[0m\u001b[0m\n\u001b[0;32m     65\u001b[0m     \u001b[1;32mreturn\u001b[0m \u001b[0mtable\u001b[0m\u001b[1;33m\u001b[0m\u001b[1;33m\u001b[0m\u001b[0m\n",
      "\u001b[1;32mc:\\python\\lib\\site-packages\\pybaseball\\batting_leaders.py\u001b[0m in \u001b[0;36mget_soup\u001b[1;34m(start_season, end_season, league, qual, ind)\u001b[0m\n\u001b[0;32m      9\u001b[0m     \u001b[1;31m#url = \"http://www.fangraphs.com/leaders.aspx?pos=all&stats=pit&lg={}&qual={}&type=c,3,4,5,6,7,8,9,10,11,12,13,14,15,16,17,18,19,20,21,22,23,24,25,26,27,28,29,30,31,32,33,34,35,36,37,38,39,40,41,42,43,44,45,46,47,48,49,50,51,53,54,55,56,57,58,59,60,61,62,63,64,65,66,67,68,69,70,71,72,73,74,75,76,77,78,79,80,81,82,83,84,85,86,87,88,89,90,91,92,93,94,95,96,97,98,99,100,101,102,103,104,105,106,107,108,109,110,111,112,113,114,115,116,117,118,119,120,121,122,123,124,125,126,127,128,129,130,131,132,133,134,135,136,137,138,139,140,141,142,143,144,145,146,147,148,149,150,151,152,153,154,155,156,157,158,159,160,161,162,163,164,165,166,167,168,169,170,171,172,173,174,175,176,177,178,179,180,181,182,183,184,185,186,187,188,189,190,191,192,193,194,195,196,197,198,199,200,201,202,203,204,205,206,207,208,209,210,211,212,213,214,215,216,217,218,219,220,221,222,223,224,225,226,227,228,229,230,231,232,233,234,235,236,237,238,239,240,241,242,243,244,245,246,247,248,249,250,251,252,253,254,255,256,257,258,259,260,261,262,263,264,265,266,267,268,269,270,271,272,273,274,275,276,277,278,279,280,281,282,283,284,285,286,-1&season={}&month=0&season1={}&ind={}&team=&rost=&age=&filter=&players=&page=1_100000\"\u001b[0m\u001b[1;33m\u001b[0m\u001b[1;33m\u001b[0m\u001b[1;33m\u001b[0m\u001b[0m\n\u001b[0;32m     10\u001b[0m     \u001b[0murl\u001b[0m \u001b[1;33m=\u001b[0m \u001b[0murl\u001b[0m\u001b[1;33m.\u001b[0m\u001b[0mformat\u001b[0m\u001b[1;33m(\u001b[0m\u001b[0mleague\u001b[0m\u001b[1;33m,\u001b[0m \u001b[0mqual\u001b[0m\u001b[1;33m,\u001b[0m \u001b[0mend_season\u001b[0m\u001b[1;33m,\u001b[0m \u001b[0mstart_season\u001b[0m\u001b[1;33m,\u001b[0m \u001b[0mind\u001b[0m\u001b[1;33m)\u001b[0m\u001b[1;33m\u001b[0m\u001b[1;33m\u001b[0m\u001b[0m\n\u001b[1;32m---> 11\u001b[1;33m     \u001b[0ms\u001b[0m\u001b[1;33m=\u001b[0m\u001b[0mrequests\u001b[0m\u001b[1;33m.\u001b[0m\u001b[0mget\u001b[0m\u001b[1;33m(\u001b[0m\u001b[0murl\u001b[0m\u001b[1;33m)\u001b[0m\u001b[1;33m.\u001b[0m\u001b[0mcontent\u001b[0m\u001b[1;33m\u001b[0m\u001b[1;33m\u001b[0m\u001b[0m\n\u001b[0m\u001b[0;32m     12\u001b[0m     \u001b[1;31m#print(s)\u001b[0m\u001b[1;33m\u001b[0m\u001b[1;33m\u001b[0m\u001b[1;33m\u001b[0m\u001b[0m\n\u001b[0;32m     13\u001b[0m     \u001b[1;32mreturn\u001b[0m \u001b[0mBeautifulSoup\u001b[0m\u001b[1;33m(\u001b[0m\u001b[0ms\u001b[0m\u001b[1;33m,\u001b[0m \u001b[1;34m\"lxml\"\u001b[0m\u001b[1;33m)\u001b[0m\u001b[1;33m\u001b[0m\u001b[1;33m\u001b[0m\u001b[0m\n",
      "\u001b[1;32mc:\\python\\lib\\site-packages\\requests\\api.py\u001b[0m in \u001b[0;36mget\u001b[1;34m(url, params, **kwargs)\u001b[0m\n\u001b[0;32m     74\u001b[0m \u001b[1;33m\u001b[0m\u001b[0m\n\u001b[0;32m     75\u001b[0m     \u001b[0mkwargs\u001b[0m\u001b[1;33m.\u001b[0m\u001b[0msetdefault\u001b[0m\u001b[1;33m(\u001b[0m\u001b[1;34m'allow_redirects'\u001b[0m\u001b[1;33m,\u001b[0m \u001b[1;32mTrue\u001b[0m\u001b[1;33m)\u001b[0m\u001b[1;33m\u001b[0m\u001b[1;33m\u001b[0m\u001b[0m\n\u001b[1;32m---> 76\u001b[1;33m     \u001b[1;32mreturn\u001b[0m \u001b[0mrequest\u001b[0m\u001b[1;33m(\u001b[0m\u001b[1;34m'get'\u001b[0m\u001b[1;33m,\u001b[0m \u001b[0murl\u001b[0m\u001b[1;33m,\u001b[0m \u001b[0mparams\u001b[0m\u001b[1;33m=\u001b[0m\u001b[0mparams\u001b[0m\u001b[1;33m,\u001b[0m \u001b[1;33m**\u001b[0m\u001b[0mkwargs\u001b[0m\u001b[1;33m)\u001b[0m\u001b[1;33m\u001b[0m\u001b[1;33m\u001b[0m\u001b[0m\n\u001b[0m\u001b[0;32m     77\u001b[0m \u001b[1;33m\u001b[0m\u001b[0m\n\u001b[0;32m     78\u001b[0m \u001b[1;33m\u001b[0m\u001b[0m\n",
      "\u001b[1;32mc:\\python\\lib\\site-packages\\requests\\api.py\u001b[0m in \u001b[0;36mrequest\u001b[1;34m(method, url, **kwargs)\u001b[0m\n\u001b[0;32m     59\u001b[0m     \u001b[1;31m# cases, and look like a memory leak in others.\u001b[0m\u001b[1;33m\u001b[0m\u001b[1;33m\u001b[0m\u001b[1;33m\u001b[0m\u001b[0m\n\u001b[0;32m     60\u001b[0m     \u001b[1;32mwith\u001b[0m \u001b[0msessions\u001b[0m\u001b[1;33m.\u001b[0m\u001b[0mSession\u001b[0m\u001b[1;33m(\u001b[0m\u001b[1;33m)\u001b[0m \u001b[1;32mas\u001b[0m \u001b[0msession\u001b[0m\u001b[1;33m:\u001b[0m\u001b[1;33m\u001b[0m\u001b[1;33m\u001b[0m\u001b[0m\n\u001b[1;32m---> 61\u001b[1;33m         \u001b[1;32mreturn\u001b[0m \u001b[0msession\u001b[0m\u001b[1;33m.\u001b[0m\u001b[0mrequest\u001b[0m\u001b[1;33m(\u001b[0m\u001b[0mmethod\u001b[0m\u001b[1;33m=\u001b[0m\u001b[0mmethod\u001b[0m\u001b[1;33m,\u001b[0m \u001b[0murl\u001b[0m\u001b[1;33m=\u001b[0m\u001b[0murl\u001b[0m\u001b[1;33m,\u001b[0m \u001b[1;33m**\u001b[0m\u001b[0mkwargs\u001b[0m\u001b[1;33m)\u001b[0m\u001b[1;33m\u001b[0m\u001b[1;33m\u001b[0m\u001b[0m\n\u001b[0m\u001b[0;32m     62\u001b[0m \u001b[1;33m\u001b[0m\u001b[0m\n\u001b[0;32m     63\u001b[0m \u001b[1;33m\u001b[0m\u001b[0m\n",
      "\u001b[1;32mc:\\python\\lib\\site-packages\\requests\\sessions.py\u001b[0m in \u001b[0;36mrequest\u001b[1;34m(self, method, url, params, data, headers, cookies, files, auth, timeout, allow_redirects, proxies, hooks, stream, verify, cert, json)\u001b[0m\n\u001b[0;32m    528\u001b[0m         }\n\u001b[0;32m    529\u001b[0m         \u001b[0msend_kwargs\u001b[0m\u001b[1;33m.\u001b[0m\u001b[0mupdate\u001b[0m\u001b[1;33m(\u001b[0m\u001b[0msettings\u001b[0m\u001b[1;33m)\u001b[0m\u001b[1;33m\u001b[0m\u001b[1;33m\u001b[0m\u001b[0m\n\u001b[1;32m--> 530\u001b[1;33m         \u001b[0mresp\u001b[0m \u001b[1;33m=\u001b[0m \u001b[0mself\u001b[0m\u001b[1;33m.\u001b[0m\u001b[0msend\u001b[0m\u001b[1;33m(\u001b[0m\u001b[0mprep\u001b[0m\u001b[1;33m,\u001b[0m \u001b[1;33m**\u001b[0m\u001b[0msend_kwargs\u001b[0m\u001b[1;33m)\u001b[0m\u001b[1;33m\u001b[0m\u001b[1;33m\u001b[0m\u001b[0m\n\u001b[0m\u001b[0;32m    531\u001b[0m \u001b[1;33m\u001b[0m\u001b[0m\n\u001b[0;32m    532\u001b[0m         \u001b[1;32mreturn\u001b[0m \u001b[0mresp\u001b[0m\u001b[1;33m\u001b[0m\u001b[1;33m\u001b[0m\u001b[0m\n",
      "\u001b[1;32mc:\\python\\lib\\site-packages\\requests\\sessions.py\u001b[0m in \u001b[0;36msend\u001b[1;34m(self, request, **kwargs)\u001b[0m\n\u001b[0;32m    663\u001b[0m             \u001b[1;31m# Redirect resolving generator.\u001b[0m\u001b[1;33m\u001b[0m\u001b[1;33m\u001b[0m\u001b[1;33m\u001b[0m\u001b[0m\n\u001b[0;32m    664\u001b[0m             \u001b[0mgen\u001b[0m \u001b[1;33m=\u001b[0m \u001b[0mself\u001b[0m\u001b[1;33m.\u001b[0m\u001b[0mresolve_redirects\u001b[0m\u001b[1;33m(\u001b[0m\u001b[0mr\u001b[0m\u001b[1;33m,\u001b[0m \u001b[0mrequest\u001b[0m\u001b[1;33m,\u001b[0m \u001b[1;33m**\u001b[0m\u001b[0mkwargs\u001b[0m\u001b[1;33m)\u001b[0m\u001b[1;33m\u001b[0m\u001b[1;33m\u001b[0m\u001b[0m\n\u001b[1;32m--> 665\u001b[1;33m             \u001b[0mhistory\u001b[0m \u001b[1;33m=\u001b[0m \u001b[1;33m[\u001b[0m\u001b[0mresp\u001b[0m \u001b[1;32mfor\u001b[0m \u001b[0mresp\u001b[0m \u001b[1;32min\u001b[0m \u001b[0mgen\u001b[0m\u001b[1;33m]\u001b[0m\u001b[1;33m\u001b[0m\u001b[1;33m\u001b[0m\u001b[0m\n\u001b[0m\u001b[0;32m    666\u001b[0m         \u001b[1;32melse\u001b[0m\u001b[1;33m:\u001b[0m\u001b[1;33m\u001b[0m\u001b[1;33m\u001b[0m\u001b[0m\n\u001b[0;32m    667\u001b[0m             \u001b[0mhistory\u001b[0m \u001b[1;33m=\u001b[0m \u001b[1;33m[\u001b[0m\u001b[1;33m]\u001b[0m\u001b[1;33m\u001b[0m\u001b[1;33m\u001b[0m\u001b[0m\n",
      "\u001b[1;32mc:\\python\\lib\\site-packages\\requests\\sessions.py\u001b[0m in \u001b[0;36m<listcomp>\u001b[1;34m(.0)\u001b[0m\n\u001b[0;32m    663\u001b[0m             \u001b[1;31m# Redirect resolving generator.\u001b[0m\u001b[1;33m\u001b[0m\u001b[1;33m\u001b[0m\u001b[1;33m\u001b[0m\u001b[0m\n\u001b[0;32m    664\u001b[0m             \u001b[0mgen\u001b[0m \u001b[1;33m=\u001b[0m \u001b[0mself\u001b[0m\u001b[1;33m.\u001b[0m\u001b[0mresolve_redirects\u001b[0m\u001b[1;33m(\u001b[0m\u001b[0mr\u001b[0m\u001b[1;33m,\u001b[0m \u001b[0mrequest\u001b[0m\u001b[1;33m,\u001b[0m \u001b[1;33m**\u001b[0m\u001b[0mkwargs\u001b[0m\u001b[1;33m)\u001b[0m\u001b[1;33m\u001b[0m\u001b[1;33m\u001b[0m\u001b[0m\n\u001b[1;32m--> 665\u001b[1;33m             \u001b[0mhistory\u001b[0m \u001b[1;33m=\u001b[0m \u001b[1;33m[\u001b[0m\u001b[0mresp\u001b[0m \u001b[1;32mfor\u001b[0m \u001b[0mresp\u001b[0m \u001b[1;32min\u001b[0m \u001b[0mgen\u001b[0m\u001b[1;33m]\u001b[0m\u001b[1;33m\u001b[0m\u001b[1;33m\u001b[0m\u001b[0m\n\u001b[0m\u001b[0;32m    666\u001b[0m         \u001b[1;32melse\u001b[0m\u001b[1;33m:\u001b[0m\u001b[1;33m\u001b[0m\u001b[1;33m\u001b[0m\u001b[0m\n\u001b[0;32m    667\u001b[0m             \u001b[0mhistory\u001b[0m \u001b[1;33m=\u001b[0m \u001b[1;33m[\u001b[0m\u001b[1;33m]\u001b[0m\u001b[1;33m\u001b[0m\u001b[1;33m\u001b[0m\u001b[0m\n",
      "\u001b[1;32mc:\\python\\lib\\site-packages\\requests\\sessions.py\u001b[0m in \u001b[0;36mresolve_redirects\u001b[1;34m(self, resp, req, stream, timeout, verify, cert, proxies, yield_requests, **adapter_kwargs)\u001b[0m\n\u001b[0;32m    235\u001b[0m             \u001b[1;32melse\u001b[0m\u001b[1;33m:\u001b[0m\u001b[1;33m\u001b[0m\u001b[1;33m\u001b[0m\u001b[0m\n\u001b[0;32m    236\u001b[0m \u001b[1;33m\u001b[0m\u001b[0m\n\u001b[1;32m--> 237\u001b[1;33m                 resp = self.send(\n\u001b[0m\u001b[0;32m    238\u001b[0m                     \u001b[0mreq\u001b[0m\u001b[1;33m,\u001b[0m\u001b[1;33m\u001b[0m\u001b[1;33m\u001b[0m\u001b[0m\n\u001b[0;32m    239\u001b[0m                     \u001b[0mstream\u001b[0m\u001b[1;33m=\u001b[0m\u001b[0mstream\u001b[0m\u001b[1;33m,\u001b[0m\u001b[1;33m\u001b[0m\u001b[1;33m\u001b[0m\u001b[0m\n",
      "\u001b[1;32mc:\\python\\lib\\site-packages\\requests\\sessions.py\u001b[0m in \u001b[0;36msend\u001b[1;34m(self, request, **kwargs)\u001b[0m\n\u001b[0;32m    683\u001b[0m \u001b[1;33m\u001b[0m\u001b[0m\n\u001b[0;32m    684\u001b[0m         \u001b[1;32mif\u001b[0m \u001b[1;32mnot\u001b[0m \u001b[0mstream\u001b[0m\u001b[1;33m:\u001b[0m\u001b[1;33m\u001b[0m\u001b[1;33m\u001b[0m\u001b[0m\n\u001b[1;32m--> 685\u001b[1;33m             \u001b[0mr\u001b[0m\u001b[1;33m.\u001b[0m\u001b[0mcontent\u001b[0m\u001b[1;33m\u001b[0m\u001b[1;33m\u001b[0m\u001b[0m\n\u001b[0m\u001b[0;32m    686\u001b[0m \u001b[1;33m\u001b[0m\u001b[0m\n\u001b[0;32m    687\u001b[0m         \u001b[1;32mreturn\u001b[0m \u001b[0mr\u001b[0m\u001b[1;33m\u001b[0m\u001b[1;33m\u001b[0m\u001b[0m\n",
      "\u001b[1;32mc:\\python\\lib\\site-packages\\requests\\models.py\u001b[0m in \u001b[0;36mcontent\u001b[1;34m(self)\u001b[0m\n\u001b[0;32m    827\u001b[0m                 \u001b[0mself\u001b[0m\u001b[1;33m.\u001b[0m\u001b[0m_content\u001b[0m \u001b[1;33m=\u001b[0m \u001b[1;32mNone\u001b[0m\u001b[1;33m\u001b[0m\u001b[1;33m\u001b[0m\u001b[0m\n\u001b[0;32m    828\u001b[0m             \u001b[1;32melse\u001b[0m\u001b[1;33m:\u001b[0m\u001b[1;33m\u001b[0m\u001b[1;33m\u001b[0m\u001b[0m\n\u001b[1;32m--> 829\u001b[1;33m                 \u001b[0mself\u001b[0m\u001b[1;33m.\u001b[0m\u001b[0m_content\u001b[0m \u001b[1;33m=\u001b[0m \u001b[1;34mb''\u001b[0m\u001b[1;33m.\u001b[0m\u001b[0mjoin\u001b[0m\u001b[1;33m(\u001b[0m\u001b[0mself\u001b[0m\u001b[1;33m.\u001b[0m\u001b[0miter_content\u001b[0m\u001b[1;33m(\u001b[0m\u001b[0mCONTENT_CHUNK_SIZE\u001b[0m\u001b[1;33m)\u001b[0m\u001b[1;33m)\u001b[0m \u001b[1;32mor\u001b[0m \u001b[1;34mb''\u001b[0m\u001b[1;33m\u001b[0m\u001b[1;33m\u001b[0m\u001b[0m\n\u001b[0m\u001b[0;32m    830\u001b[0m \u001b[1;33m\u001b[0m\u001b[0m\n\u001b[0;32m    831\u001b[0m         \u001b[0mself\u001b[0m\u001b[1;33m.\u001b[0m\u001b[0m_content_consumed\u001b[0m \u001b[1;33m=\u001b[0m \u001b[1;32mTrue\u001b[0m\u001b[1;33m\u001b[0m\u001b[1;33m\u001b[0m\u001b[0m\n",
      "\u001b[1;32mc:\\python\\lib\\site-packages\\requests\\models.py\u001b[0m in \u001b[0;36mgenerate\u001b[1;34m()\u001b[0m\n\u001b[0;32m    749\u001b[0m             \u001b[1;32mif\u001b[0m \u001b[0mhasattr\u001b[0m\u001b[1;33m(\u001b[0m\u001b[0mself\u001b[0m\u001b[1;33m.\u001b[0m\u001b[0mraw\u001b[0m\u001b[1;33m,\u001b[0m \u001b[1;34m'stream'\u001b[0m\u001b[1;33m)\u001b[0m\u001b[1;33m:\u001b[0m\u001b[1;33m\u001b[0m\u001b[1;33m\u001b[0m\u001b[0m\n\u001b[0;32m    750\u001b[0m                 \u001b[1;32mtry\u001b[0m\u001b[1;33m:\u001b[0m\u001b[1;33m\u001b[0m\u001b[1;33m\u001b[0m\u001b[0m\n\u001b[1;32m--> 751\u001b[1;33m                     \u001b[1;32mfor\u001b[0m \u001b[0mchunk\u001b[0m \u001b[1;32min\u001b[0m \u001b[0mself\u001b[0m\u001b[1;33m.\u001b[0m\u001b[0mraw\u001b[0m\u001b[1;33m.\u001b[0m\u001b[0mstream\u001b[0m\u001b[1;33m(\u001b[0m\u001b[0mchunk_size\u001b[0m\u001b[1;33m,\u001b[0m \u001b[0mdecode_content\u001b[0m\u001b[1;33m=\u001b[0m\u001b[1;32mTrue\u001b[0m\u001b[1;33m)\u001b[0m\u001b[1;33m:\u001b[0m\u001b[1;33m\u001b[0m\u001b[1;33m\u001b[0m\u001b[0m\n\u001b[0m\u001b[0;32m    752\u001b[0m                         \u001b[1;32myield\u001b[0m \u001b[0mchunk\u001b[0m\u001b[1;33m\u001b[0m\u001b[1;33m\u001b[0m\u001b[0m\n\u001b[0;32m    753\u001b[0m                 \u001b[1;32mexcept\u001b[0m \u001b[0mProtocolError\u001b[0m \u001b[1;32mas\u001b[0m \u001b[0me\u001b[0m\u001b[1;33m:\u001b[0m\u001b[1;33m\u001b[0m\u001b[1;33m\u001b[0m\u001b[0m\n",
      "\u001b[1;32mc:\\python\\lib\\site-packages\\urllib3\\response.py\u001b[0m in \u001b[0;36mstream\u001b[1;34m(self, amt, decode_content)\u001b[0m\n\u001b[0;32m    574\u001b[0m         \u001b[1;32melse\u001b[0m\u001b[1;33m:\u001b[0m\u001b[1;33m\u001b[0m\u001b[1;33m\u001b[0m\u001b[0m\n\u001b[0;32m    575\u001b[0m             \u001b[1;32mwhile\u001b[0m \u001b[1;32mnot\u001b[0m \u001b[0mis_fp_closed\u001b[0m\u001b[1;33m(\u001b[0m\u001b[0mself\u001b[0m\u001b[1;33m.\u001b[0m\u001b[0m_fp\u001b[0m\u001b[1;33m)\u001b[0m\u001b[1;33m:\u001b[0m\u001b[1;33m\u001b[0m\u001b[1;33m\u001b[0m\u001b[0m\n\u001b[1;32m--> 576\u001b[1;33m                 \u001b[0mdata\u001b[0m \u001b[1;33m=\u001b[0m \u001b[0mself\u001b[0m\u001b[1;33m.\u001b[0m\u001b[0mread\u001b[0m\u001b[1;33m(\u001b[0m\u001b[0mamt\u001b[0m\u001b[1;33m=\u001b[0m\u001b[0mamt\u001b[0m\u001b[1;33m,\u001b[0m \u001b[0mdecode_content\u001b[0m\u001b[1;33m=\u001b[0m\u001b[0mdecode_content\u001b[0m\u001b[1;33m)\u001b[0m\u001b[1;33m\u001b[0m\u001b[1;33m\u001b[0m\u001b[0m\n\u001b[0m\u001b[0;32m    577\u001b[0m \u001b[1;33m\u001b[0m\u001b[0m\n\u001b[0;32m    578\u001b[0m                 \u001b[1;32mif\u001b[0m \u001b[0mdata\u001b[0m\u001b[1;33m:\u001b[0m\u001b[1;33m\u001b[0m\u001b[1;33m\u001b[0m\u001b[0m\n",
      "\u001b[1;32mc:\\python\\lib\\site-packages\\urllib3\\response.py\u001b[0m in \u001b[0;36mread\u001b[1;34m(self, amt, decode_content, cache_content)\u001b[0m\n\u001b[0;32m    517\u001b[0m             \u001b[1;32melse\u001b[0m\u001b[1;33m:\u001b[0m\u001b[1;33m\u001b[0m\u001b[1;33m\u001b[0m\u001b[0m\n\u001b[0;32m    518\u001b[0m                 \u001b[0mcache_content\u001b[0m \u001b[1;33m=\u001b[0m \u001b[1;32mFalse\u001b[0m\u001b[1;33m\u001b[0m\u001b[1;33m\u001b[0m\u001b[0m\n\u001b[1;32m--> 519\u001b[1;33m                 \u001b[0mdata\u001b[0m \u001b[1;33m=\u001b[0m \u001b[0mself\u001b[0m\u001b[1;33m.\u001b[0m\u001b[0m_fp\u001b[0m\u001b[1;33m.\u001b[0m\u001b[0mread\u001b[0m\u001b[1;33m(\u001b[0m\u001b[0mamt\u001b[0m\u001b[1;33m)\u001b[0m \u001b[1;32mif\u001b[0m \u001b[1;32mnot\u001b[0m \u001b[0mfp_closed\u001b[0m \u001b[1;32melse\u001b[0m \u001b[1;34mb\"\"\u001b[0m\u001b[1;33m\u001b[0m\u001b[1;33m\u001b[0m\u001b[0m\n\u001b[0m\u001b[0;32m    520\u001b[0m                 if (\n\u001b[0;32m    521\u001b[0m                     \u001b[0mamt\u001b[0m \u001b[1;33m!=\u001b[0m \u001b[1;36m0\u001b[0m \u001b[1;32mand\u001b[0m \u001b[1;32mnot\u001b[0m \u001b[0mdata\u001b[0m\u001b[1;33m\u001b[0m\u001b[1;33m\u001b[0m\u001b[0m\n",
      "\u001b[1;32mc:\\python\\lib\\http\\client.py\u001b[0m in \u001b[0;36mread\u001b[1;34m(self, amt)\u001b[0m\n\u001b[0;32m    452\u001b[0m             \u001b[1;31m# Amount is given, implement using readinto\u001b[0m\u001b[1;33m\u001b[0m\u001b[1;33m\u001b[0m\u001b[1;33m\u001b[0m\u001b[0m\n\u001b[0;32m    453\u001b[0m             \u001b[0mb\u001b[0m \u001b[1;33m=\u001b[0m \u001b[0mbytearray\u001b[0m\u001b[1;33m(\u001b[0m\u001b[0mamt\u001b[0m\u001b[1;33m)\u001b[0m\u001b[1;33m\u001b[0m\u001b[1;33m\u001b[0m\u001b[0m\n\u001b[1;32m--> 454\u001b[1;33m             \u001b[0mn\u001b[0m \u001b[1;33m=\u001b[0m \u001b[0mself\u001b[0m\u001b[1;33m.\u001b[0m\u001b[0mreadinto\u001b[0m\u001b[1;33m(\u001b[0m\u001b[0mb\u001b[0m\u001b[1;33m)\u001b[0m\u001b[1;33m\u001b[0m\u001b[1;33m\u001b[0m\u001b[0m\n\u001b[0m\u001b[0;32m    455\u001b[0m             \u001b[1;32mreturn\u001b[0m \u001b[0mmemoryview\u001b[0m\u001b[1;33m(\u001b[0m\u001b[0mb\u001b[0m\u001b[1;33m)\u001b[0m\u001b[1;33m[\u001b[0m\u001b[1;33m:\u001b[0m\u001b[0mn\u001b[0m\u001b[1;33m]\u001b[0m\u001b[1;33m.\u001b[0m\u001b[0mtobytes\u001b[0m\u001b[1;33m(\u001b[0m\u001b[1;33m)\u001b[0m\u001b[1;33m\u001b[0m\u001b[1;33m\u001b[0m\u001b[0m\n\u001b[0;32m    456\u001b[0m         \u001b[1;32melse\u001b[0m\u001b[1;33m:\u001b[0m\u001b[1;33m\u001b[0m\u001b[1;33m\u001b[0m\u001b[0m\n",
      "\u001b[1;32mc:\\python\\lib\\http\\client.py\u001b[0m in \u001b[0;36mreadinto\u001b[1;34m(self, b)\u001b[0m\n\u001b[0;32m    496\u001b[0m         \u001b[1;31m# connection, and the user is reading more bytes than will be provided\u001b[0m\u001b[1;33m\u001b[0m\u001b[1;33m\u001b[0m\u001b[1;33m\u001b[0m\u001b[0m\n\u001b[0;32m    497\u001b[0m         \u001b[1;31m# (for example, reading in 1k chunks)\u001b[0m\u001b[1;33m\u001b[0m\u001b[1;33m\u001b[0m\u001b[1;33m\u001b[0m\u001b[0m\n\u001b[1;32m--> 498\u001b[1;33m         \u001b[0mn\u001b[0m \u001b[1;33m=\u001b[0m \u001b[0mself\u001b[0m\u001b[1;33m.\u001b[0m\u001b[0mfp\u001b[0m\u001b[1;33m.\u001b[0m\u001b[0mreadinto\u001b[0m\u001b[1;33m(\u001b[0m\u001b[0mb\u001b[0m\u001b[1;33m)\u001b[0m\u001b[1;33m\u001b[0m\u001b[1;33m\u001b[0m\u001b[0m\n\u001b[0m\u001b[0;32m    499\u001b[0m         \u001b[1;32mif\u001b[0m \u001b[1;32mnot\u001b[0m \u001b[0mn\u001b[0m \u001b[1;32mand\u001b[0m \u001b[0mb\u001b[0m\u001b[1;33m:\u001b[0m\u001b[1;33m\u001b[0m\u001b[1;33m\u001b[0m\u001b[0m\n\u001b[0;32m    500\u001b[0m             \u001b[1;31m# Ideally, we would raise IncompleteRead if the content-length\u001b[0m\u001b[1;33m\u001b[0m\u001b[1;33m\u001b[0m\u001b[1;33m\u001b[0m\u001b[0m\n",
      "\u001b[1;32mc:\\python\\lib\\socket.py\u001b[0m in \u001b[0;36mreadinto\u001b[1;34m(self, b)\u001b[0m\n\u001b[0;32m    667\u001b[0m         \u001b[1;32mwhile\u001b[0m \u001b[1;32mTrue\u001b[0m\u001b[1;33m:\u001b[0m\u001b[1;33m\u001b[0m\u001b[1;33m\u001b[0m\u001b[0m\n\u001b[0;32m    668\u001b[0m             \u001b[1;32mtry\u001b[0m\u001b[1;33m:\u001b[0m\u001b[1;33m\u001b[0m\u001b[1;33m\u001b[0m\u001b[0m\n\u001b[1;32m--> 669\u001b[1;33m                 \u001b[1;32mreturn\u001b[0m \u001b[0mself\u001b[0m\u001b[1;33m.\u001b[0m\u001b[0m_sock\u001b[0m\u001b[1;33m.\u001b[0m\u001b[0mrecv_into\u001b[0m\u001b[1;33m(\u001b[0m\u001b[0mb\u001b[0m\u001b[1;33m)\u001b[0m\u001b[1;33m\u001b[0m\u001b[1;33m\u001b[0m\u001b[0m\n\u001b[0m\u001b[0;32m    670\u001b[0m             \u001b[1;32mexcept\u001b[0m \u001b[0mtimeout\u001b[0m\u001b[1;33m:\u001b[0m\u001b[1;33m\u001b[0m\u001b[1;33m\u001b[0m\u001b[0m\n\u001b[0;32m    671\u001b[0m                 \u001b[0mself\u001b[0m\u001b[1;33m.\u001b[0m\u001b[0m_timeout_occurred\u001b[0m \u001b[1;33m=\u001b[0m \u001b[1;32mTrue\u001b[0m\u001b[1;33m\u001b[0m\u001b[1;33m\u001b[0m\u001b[0m\n",
      "\u001b[1;32mc:\\python\\lib\\ssl.py\u001b[0m in \u001b[0;36mrecv_into\u001b[1;34m(self, buffer, nbytes, flags)\u001b[0m\n\u001b[0;32m   1239\u001b[0m                   \u001b[1;34m\"non-zero flags not allowed in calls to recv_into() on %s\"\u001b[0m \u001b[1;33m%\u001b[0m\u001b[1;33m\u001b[0m\u001b[1;33m\u001b[0m\u001b[0m\n\u001b[0;32m   1240\u001b[0m                   self.__class__)\n\u001b[1;32m-> 1241\u001b[1;33m             \u001b[1;32mreturn\u001b[0m \u001b[0mself\u001b[0m\u001b[1;33m.\u001b[0m\u001b[0mread\u001b[0m\u001b[1;33m(\u001b[0m\u001b[0mnbytes\u001b[0m\u001b[1;33m,\u001b[0m \u001b[0mbuffer\u001b[0m\u001b[1;33m)\u001b[0m\u001b[1;33m\u001b[0m\u001b[1;33m\u001b[0m\u001b[0m\n\u001b[0m\u001b[0;32m   1242\u001b[0m         \u001b[1;32melse\u001b[0m\u001b[1;33m:\u001b[0m\u001b[1;33m\u001b[0m\u001b[1;33m\u001b[0m\u001b[0m\n\u001b[0;32m   1243\u001b[0m             \u001b[1;32mreturn\u001b[0m \u001b[0msuper\u001b[0m\u001b[1;33m(\u001b[0m\u001b[1;33m)\u001b[0m\u001b[1;33m.\u001b[0m\u001b[0mrecv_into\u001b[0m\u001b[1;33m(\u001b[0m\u001b[0mbuffer\u001b[0m\u001b[1;33m,\u001b[0m \u001b[0mnbytes\u001b[0m\u001b[1;33m,\u001b[0m \u001b[0mflags\u001b[0m\u001b[1;33m)\u001b[0m\u001b[1;33m\u001b[0m\u001b[1;33m\u001b[0m\u001b[0m\n",
      "\u001b[1;32mc:\\python\\lib\\ssl.py\u001b[0m in \u001b[0;36mread\u001b[1;34m(self, len, buffer)\u001b[0m\n\u001b[0;32m   1097\u001b[0m         \u001b[1;32mtry\u001b[0m\u001b[1;33m:\u001b[0m\u001b[1;33m\u001b[0m\u001b[1;33m\u001b[0m\u001b[0m\n\u001b[0;32m   1098\u001b[0m             \u001b[1;32mif\u001b[0m \u001b[0mbuffer\u001b[0m \u001b[1;32mis\u001b[0m \u001b[1;32mnot\u001b[0m \u001b[1;32mNone\u001b[0m\u001b[1;33m:\u001b[0m\u001b[1;33m\u001b[0m\u001b[1;33m\u001b[0m\u001b[0m\n\u001b[1;32m-> 1099\u001b[1;33m                 \u001b[1;32mreturn\u001b[0m \u001b[0mself\u001b[0m\u001b[1;33m.\u001b[0m\u001b[0m_sslobj\u001b[0m\u001b[1;33m.\u001b[0m\u001b[0mread\u001b[0m\u001b[1;33m(\u001b[0m\u001b[0mlen\u001b[0m\u001b[1;33m,\u001b[0m \u001b[0mbuffer\u001b[0m\u001b[1;33m)\u001b[0m\u001b[1;33m\u001b[0m\u001b[1;33m\u001b[0m\u001b[0m\n\u001b[0m\u001b[0;32m   1100\u001b[0m             \u001b[1;32melse\u001b[0m\u001b[1;33m:\u001b[0m\u001b[1;33m\u001b[0m\u001b[1;33m\u001b[0m\u001b[0m\n\u001b[0;32m   1101\u001b[0m                 \u001b[1;32mreturn\u001b[0m \u001b[0mself\u001b[0m\u001b[1;33m.\u001b[0m\u001b[0m_sslobj\u001b[0m\u001b[1;33m.\u001b[0m\u001b[0mread\u001b[0m\u001b[1;33m(\u001b[0m\u001b[0mlen\u001b[0m\u001b[1;33m)\u001b[0m\u001b[1;33m\u001b[0m\u001b[1;33m\u001b[0m\u001b[0m\n",
      "\u001b[1;31mKeyboardInterrupt\u001b[0m: "
     ]
    }
   ],
   "source": [
    "hit_data_agg = batting_stats(2004, 2018, ind=0)"
   ]
  },
  {
   "cell_type": "code",
   "execution_count": 64,
   "metadata": {},
   "outputs": [],
   "source": [
    "#hit_data_agg.to_csv(f'hit_data_2004_2018_aggregated.csv',index=False)"
   ]
  },
  {
   "cell_type": "code",
   "execution_count": 10,
   "metadata": {},
   "outputs": [],
   "source": [
    "hit_data_agg = pd.read_csv(f'hit_data_2004_2018_aggregated.csv')"
   ]
  },
  {
   "cell_type": "code",
   "execution_count": 11,
   "metadata": {},
   "outputs": [
    {
     "ename": "KeyError",
     "evalue": "\"['IFFB' 'Pitches' 'Balls' 'Strikes' 'IFH' 'BUH' 'FB% (Pitch)' 'FBv' 'SL%'\\n 'SLv' 'CT%' 'CTv' 'CB%' 'CBv' 'CH%' 'CHv' 'SF%' 'SFv' 'KN%' 'KNv' 'XX%'\\n 'wFB' 'wSL' 'wCT' 'wCB' 'wCH' 'wSF' 'wKN' 'wFB/C' 'wSL/C' 'wCT/C' 'wCB/C'\\n 'wCH/C' 'wSF/C' 'wKN/C' 'Clutch' 'BUH%' 'TTO%'] not found in axis\"",
     "output_type": "error",
     "traceback": [
      "\u001b[1;31m---------------------------------------------------------------------------\u001b[0m",
      "\u001b[1;31mKeyError\u001b[0m                                  Traceback (most recent call last)",
      "\u001b[1;32m<ipython-input-11-8277fc8b0e34>\u001b[0m in \u001b[0;36m<module>\u001b[1;34m\u001b[0m\n\u001b[0;32m      2\u001b[0m \u001b[0mhit_data_agg\u001b[0m\u001b[1;33m.\u001b[0m\u001b[0mdrop\u001b[0m\u001b[1;33m(\u001b[0m\u001b[0mlist\u001b[0m\u001b[1;33m(\u001b[0m\u001b[0mhit_data_agg\u001b[0m\u001b[1;33m.\u001b[0m\u001b[0mfilter\u001b[0m\u001b[1;33m(\u001b[0m\u001b[0mregex\u001b[0m\u001b[1;33m=\u001b[0m\u001b[1;34m'(pi)'\u001b[0m\u001b[1;33m)\u001b[0m\u001b[1;33m)\u001b[0m\u001b[1;33m,\u001b[0m\u001b[0maxis\u001b[0m\u001b[1;33m=\u001b[0m\u001b[1;36m1\u001b[0m\u001b[1;33m,\u001b[0m\u001b[0minplace\u001b[0m\u001b[1;33m=\u001b[0m\u001b[1;32mTrue\u001b[0m\u001b[1;33m)\u001b[0m\u001b[1;33m\u001b[0m\u001b[1;33m\u001b[0m\u001b[0m\n\u001b[0;32m      3\u001b[0m \u001b[0mhit_data_agg\u001b[0m\u001b[1;33m.\u001b[0m\u001b[0mdrop\u001b[0m\u001b[1;33m(\u001b[0m\u001b[0mlist\u001b[0m\u001b[1;33m(\u001b[0m\u001b[0mhit_data_agg\u001b[0m\u001b[1;33m.\u001b[0m\u001b[0mfilter\u001b[0m\u001b[1;33m(\u001b[0m\u001b[0mregex\u001b[0m\u001b[1;33m=\u001b[0m\u001b[1;34m'(pfx)'\u001b[0m\u001b[1;33m)\u001b[0m\u001b[1;33m)\u001b[0m\u001b[1;33m,\u001b[0m\u001b[0maxis\u001b[0m\u001b[1;33m=\u001b[0m\u001b[1;36m1\u001b[0m\u001b[1;33m,\u001b[0m\u001b[0minplace\u001b[0m\u001b[1;33m=\u001b[0m\u001b[1;32mTrue\u001b[0m\u001b[1;33m)\u001b[0m\u001b[1;33m\u001b[0m\u001b[1;33m\u001b[0m\u001b[0m\n\u001b[1;32m----> 4\u001b[1;33m hit_data_agg.drop(['IFFB','Pitches','Balls','Strikes','IFH','BUH',\n\u001b[0m\u001b[0;32m      5\u001b[0m                \u001b[1;34m'FB% (Pitch)'\u001b[0m\u001b[1;33m,\u001b[0m\u001b[1;34m'FBv'\u001b[0m\u001b[1;33m,\u001b[0m\u001b[1;34m'SL%'\u001b[0m\u001b[1;33m,\u001b[0m\u001b[1;34m'SLv'\u001b[0m\u001b[1;33m,\u001b[0m\u001b[1;34m'CT%'\u001b[0m\u001b[1;33m,\u001b[0m\u001b[1;34m'CTv'\u001b[0m\u001b[1;33m,\u001b[0m\u001b[1;34m'CB%'\u001b[0m\u001b[1;33m,\u001b[0m\u001b[1;34m'CBv'\u001b[0m\u001b[1;33m,\u001b[0m\u001b[1;34m'CH%'\u001b[0m\u001b[1;33m,\u001b[0m\u001b[1;33m\u001b[0m\u001b[1;33m\u001b[0m\u001b[0m\n\u001b[0;32m      6\u001b[0m                \u001b[1;34m'CHv'\u001b[0m\u001b[1;33m,\u001b[0m\u001b[1;34m'SF%'\u001b[0m\u001b[1;33m,\u001b[0m\u001b[1;34m'SFv'\u001b[0m\u001b[1;33m,\u001b[0m\u001b[1;34m'KN%'\u001b[0m\u001b[1;33m,\u001b[0m\u001b[1;34m'KNv'\u001b[0m\u001b[1;33m,\u001b[0m\u001b[1;34m'XX%'\u001b[0m\u001b[1;33m,\u001b[0m\u001b[1;34m'wFB'\u001b[0m\u001b[1;33m,\u001b[0m\u001b[1;34m'wSL'\u001b[0m\u001b[1;33m,\u001b[0m\u001b[1;34m'wCT'\u001b[0m\u001b[1;33m,\u001b[0m\u001b[1;34m'wCB'\u001b[0m\u001b[1;33m,\u001b[0m\u001b[1;34m'wCH'\u001b[0m\u001b[1;33m,\u001b[0m\u001b[1;33m\u001b[0m\u001b[1;33m\u001b[0m\u001b[0m\n",
      "\u001b[1;32mc:\\python\\lib\\site-packages\\pandas\\core\\frame.py\u001b[0m in \u001b[0;36mdrop\u001b[1;34m(self, labels, axis, index, columns, level, inplace, errors)\u001b[0m\n\u001b[0;32m   3988\u001b[0m                 \u001b[0mweight\u001b[0m  \u001b[1;36m1.0\u001b[0m     \u001b[1;36m0.8\u001b[0m\u001b[1;33m\u001b[0m\u001b[1;33m\u001b[0m\u001b[0m\n\u001b[0;32m   3989\u001b[0m         \"\"\"\n\u001b[1;32m-> 3990\u001b[1;33m         return super().drop(\n\u001b[0m\u001b[0;32m   3991\u001b[0m             \u001b[0mlabels\u001b[0m\u001b[1;33m=\u001b[0m\u001b[0mlabels\u001b[0m\u001b[1;33m,\u001b[0m\u001b[1;33m\u001b[0m\u001b[1;33m\u001b[0m\u001b[0m\n\u001b[0;32m   3992\u001b[0m             \u001b[0maxis\u001b[0m\u001b[1;33m=\u001b[0m\u001b[0maxis\u001b[0m\u001b[1;33m,\u001b[0m\u001b[1;33m\u001b[0m\u001b[1;33m\u001b[0m\u001b[0m\n",
      "\u001b[1;32mc:\\python\\lib\\site-packages\\pandas\\core\\generic.py\u001b[0m in \u001b[0;36mdrop\u001b[1;34m(self, labels, axis, index, columns, level, inplace, errors)\u001b[0m\n\u001b[0;32m   3934\u001b[0m         \u001b[1;32mfor\u001b[0m \u001b[0maxis\u001b[0m\u001b[1;33m,\u001b[0m \u001b[0mlabels\u001b[0m \u001b[1;32min\u001b[0m \u001b[0maxes\u001b[0m\u001b[1;33m.\u001b[0m\u001b[0mitems\u001b[0m\u001b[1;33m(\u001b[0m\u001b[1;33m)\u001b[0m\u001b[1;33m:\u001b[0m\u001b[1;33m\u001b[0m\u001b[1;33m\u001b[0m\u001b[0m\n\u001b[0;32m   3935\u001b[0m             \u001b[1;32mif\u001b[0m \u001b[0mlabels\u001b[0m \u001b[1;32mis\u001b[0m \u001b[1;32mnot\u001b[0m \u001b[1;32mNone\u001b[0m\u001b[1;33m:\u001b[0m\u001b[1;33m\u001b[0m\u001b[1;33m\u001b[0m\u001b[0m\n\u001b[1;32m-> 3936\u001b[1;33m                 \u001b[0mobj\u001b[0m \u001b[1;33m=\u001b[0m \u001b[0mobj\u001b[0m\u001b[1;33m.\u001b[0m\u001b[0m_drop_axis\u001b[0m\u001b[1;33m(\u001b[0m\u001b[0mlabels\u001b[0m\u001b[1;33m,\u001b[0m \u001b[0maxis\u001b[0m\u001b[1;33m,\u001b[0m \u001b[0mlevel\u001b[0m\u001b[1;33m=\u001b[0m\u001b[0mlevel\u001b[0m\u001b[1;33m,\u001b[0m \u001b[0merrors\u001b[0m\u001b[1;33m=\u001b[0m\u001b[0merrors\u001b[0m\u001b[1;33m)\u001b[0m\u001b[1;33m\u001b[0m\u001b[1;33m\u001b[0m\u001b[0m\n\u001b[0m\u001b[0;32m   3937\u001b[0m \u001b[1;33m\u001b[0m\u001b[0m\n\u001b[0;32m   3938\u001b[0m         \u001b[1;32mif\u001b[0m \u001b[0minplace\u001b[0m\u001b[1;33m:\u001b[0m\u001b[1;33m\u001b[0m\u001b[1;33m\u001b[0m\u001b[0m\n",
      "\u001b[1;32mc:\\python\\lib\\site-packages\\pandas\\core\\generic.py\u001b[0m in \u001b[0;36m_drop_axis\u001b[1;34m(self, labels, axis, level, errors)\u001b[0m\n\u001b[0;32m   3968\u001b[0m                 \u001b[0mnew_axis\u001b[0m \u001b[1;33m=\u001b[0m \u001b[0maxis\u001b[0m\u001b[1;33m.\u001b[0m\u001b[0mdrop\u001b[0m\u001b[1;33m(\u001b[0m\u001b[0mlabels\u001b[0m\u001b[1;33m,\u001b[0m \u001b[0mlevel\u001b[0m\u001b[1;33m=\u001b[0m\u001b[0mlevel\u001b[0m\u001b[1;33m,\u001b[0m \u001b[0merrors\u001b[0m\u001b[1;33m=\u001b[0m\u001b[0merrors\u001b[0m\u001b[1;33m)\u001b[0m\u001b[1;33m\u001b[0m\u001b[1;33m\u001b[0m\u001b[0m\n\u001b[0;32m   3969\u001b[0m             \u001b[1;32melse\u001b[0m\u001b[1;33m:\u001b[0m\u001b[1;33m\u001b[0m\u001b[1;33m\u001b[0m\u001b[0m\n\u001b[1;32m-> 3970\u001b[1;33m                 \u001b[0mnew_axis\u001b[0m \u001b[1;33m=\u001b[0m \u001b[0maxis\u001b[0m\u001b[1;33m.\u001b[0m\u001b[0mdrop\u001b[0m\u001b[1;33m(\u001b[0m\u001b[0mlabels\u001b[0m\u001b[1;33m,\u001b[0m \u001b[0merrors\u001b[0m\u001b[1;33m=\u001b[0m\u001b[0merrors\u001b[0m\u001b[1;33m)\u001b[0m\u001b[1;33m\u001b[0m\u001b[1;33m\u001b[0m\u001b[0m\n\u001b[0m\u001b[0;32m   3971\u001b[0m             \u001b[0mresult\u001b[0m \u001b[1;33m=\u001b[0m \u001b[0mself\u001b[0m\u001b[1;33m.\u001b[0m\u001b[0mreindex\u001b[0m\u001b[1;33m(\u001b[0m\u001b[1;33m**\u001b[0m\u001b[1;33m{\u001b[0m\u001b[0maxis_name\u001b[0m\u001b[1;33m:\u001b[0m \u001b[0mnew_axis\u001b[0m\u001b[1;33m}\u001b[0m\u001b[1;33m)\u001b[0m\u001b[1;33m\u001b[0m\u001b[1;33m\u001b[0m\u001b[0m\n\u001b[0;32m   3972\u001b[0m \u001b[1;33m\u001b[0m\u001b[0m\n",
      "\u001b[1;32mc:\\python\\lib\\site-packages\\pandas\\core\\indexes\\base.py\u001b[0m in \u001b[0;36mdrop\u001b[1;34m(self, labels, errors)\u001b[0m\n\u001b[0;32m   5016\u001b[0m         \u001b[1;32mif\u001b[0m \u001b[0mmask\u001b[0m\u001b[1;33m.\u001b[0m\u001b[0many\u001b[0m\u001b[1;33m(\u001b[0m\u001b[1;33m)\u001b[0m\u001b[1;33m:\u001b[0m\u001b[1;33m\u001b[0m\u001b[1;33m\u001b[0m\u001b[0m\n\u001b[0;32m   5017\u001b[0m             \u001b[1;32mif\u001b[0m \u001b[0merrors\u001b[0m \u001b[1;33m!=\u001b[0m \u001b[1;34m\"ignore\"\u001b[0m\u001b[1;33m:\u001b[0m\u001b[1;33m\u001b[0m\u001b[1;33m\u001b[0m\u001b[0m\n\u001b[1;32m-> 5018\u001b[1;33m                 \u001b[1;32mraise\u001b[0m \u001b[0mKeyError\u001b[0m\u001b[1;33m(\u001b[0m\u001b[1;34mf\"{labels[mask]} not found in axis\"\u001b[0m\u001b[1;33m)\u001b[0m\u001b[1;33m\u001b[0m\u001b[1;33m\u001b[0m\u001b[0m\n\u001b[0m\u001b[0;32m   5019\u001b[0m             \u001b[0mindexer\u001b[0m \u001b[1;33m=\u001b[0m \u001b[0mindexer\u001b[0m\u001b[1;33m[\u001b[0m\u001b[1;33m~\u001b[0m\u001b[0mmask\u001b[0m\u001b[1;33m]\u001b[0m\u001b[1;33m\u001b[0m\u001b[1;33m\u001b[0m\u001b[0m\n\u001b[0;32m   5020\u001b[0m         \u001b[1;32mreturn\u001b[0m \u001b[0mself\u001b[0m\u001b[1;33m.\u001b[0m\u001b[0mdelete\u001b[0m\u001b[1;33m(\u001b[0m\u001b[0mindexer\u001b[0m\u001b[1;33m)\u001b[0m\u001b[1;33m\u001b[0m\u001b[1;33m\u001b[0m\u001b[0m\n",
      "\u001b[1;31mKeyError\u001b[0m: \"['IFFB' 'Pitches' 'Balls' 'Strikes' 'IFH' 'BUH' 'FB% (Pitch)' 'FBv' 'SL%'\\n 'SLv' 'CT%' 'CTv' 'CB%' 'CBv' 'CH%' 'CHv' 'SF%' 'SFv' 'KN%' 'KNv' 'XX%'\\n 'wFB' 'wSL' 'wCT' 'wCB' 'wCH' 'wSF' 'wKN' 'wFB/C' 'wSL/C' 'wCT/C' 'wCB/C'\\n 'wCH/C' 'wSF/C' 'wKN/C' 'Clutch' 'BUH%' 'TTO%'] not found in axis\""
     ]
    }
   ],
   "source": [
    "# drop pi columns\n",
    "hit_data_agg.drop(list(hit_data_agg.filter(regex='(pi)')),axis=1,inplace=True)\n",
    "hit_data_agg.drop(list(hit_data_agg.filter(regex='(pfx)')),axis=1,inplace=True)\n",
    "hit_data_agg.drop(['IFFB','Pitches','Balls','Strikes','IFH','BUH',\n",
    "               'FB% (Pitch)','FBv','SL%','SLv','CT%','CTv','CB%','CBv','CH%',\n",
    "               'CHv','SF%','SFv','KN%','KNv','XX%','wFB','wSL','wCT','wCB','wCH',\n",
    "               'wSF','wKN','wFB/C','wSL/C','wCT/C','wCB/C','wCH/C','wSF/C','wKN/C',\n",
    "               'Clutch','BUH%','TTO%'\n",
    "              ],axis=1,inplace=True)"
   ]
  },
  {
   "cell_type": "code",
   "execution_count": 12,
   "metadata": {},
   "outputs": [
    {
     "data": {
      "text/plain": [
       "0       no\n",
       "1       no\n",
       "2       no\n",
       "3       no\n",
       "4       no\n",
       "        ..\n",
       "3697    no\n",
       "3698    no\n",
       "3699    no\n",
       "3700    no\n",
       "3701    no\n",
       "Name: Pull%, Length: 3702, dtype: category\n",
       "Categories (2, object): [no < yes]"
      ]
     },
     "execution_count": 12,
     "metadata": {},
     "output_type": "execute_result"
    }
   ],
   "source": [
    "#hit_data_agg['pull_hitter'] \n",
    "pd.cut(hit_data_agg['Pull%'], bins=[0,40, 200], labels=['no','yes'])"
   ]
  },
  {
   "cell_type": "code",
   "execution_count": 52,
   "metadata": {},
   "outputs": [
    {
     "data": {
      "text/plain": [
       "<matplotlib.axes._subplots.AxesSubplot at 0x2258166ed00>"
      ]
     },
     "execution_count": 52,
     "metadata": {},
     "output_type": "execute_result"
    },
    {
     "data": {
      "image/png": "[encoded data removed]",
      "text/plain": [
       "<Figure size 432x288 with 1 Axes>"
      ]
     },
     "metadata": {
      "needs_background": "light"
     },
     "output_type": "display_data"
    }
   ],
   "source": [
    "sns.distplot(hit_data_agg['PA'])"
   ]
  },
  {
   "cell_type": "code",
   "execution_count": 66,
   "metadata": {},
   "outputs": [],
   "source": [
    "#hit_data_agg[(hit_data_agg['PA']>=500) & (hit_data_agg['PA']<750)]\n",
    "hit_data_agg = hit_data_agg[hit_data_agg['PA'] >= 750]"
   ]
  },
  {
   "cell_type": "code",
   "execution_count": 67,
   "metadata": {},
   "outputs": [
    {
     "data": {
      "text/plain": [
       "<matplotlib.axes._subplots.AxesSubplot at 0x225818a8250>"
      ]
     },
     "execution_count": 67,
     "metadata": {},
     "output_type": "execute_result"
    },
    {
     "data": {
      "image/png": "[encoded data removed]",
      "text/plain": [
       "<Figure size 432x288 with 1 Axes>"
      ]
     },
     "metadata": {
      "needs_background": "light"
     },
     "output_type": "display_data"
    }
   ],
   "source": [
    "sns.distplot(hit_data_agg['PA'])"
   ]
  },
  {
   "cell_type": "code",
   "execution_count": 68,
   "metadata": {},
   "outputs": [
    {
     "data": {
      "text/plain": [
       "<matplotlib.axes._subplots.AxesSubplot at 0x225815c3760>"
      ]
     },
     "execution_count": 68,
     "metadata": {},
     "output_type": "execute_result"
    },
    {
     "data": {
      "image/png": "[encoded data removed]",
      "text/plain": [
       "<Figure size 432x288 with 1 Axes>"
      ]
     },
     "metadata": {
      "needs_background": "light"
     },
     "output_type": "display_data"
    }
   ],
   "source": [
    "sns.distplot(hit_data_agg['AVG'])"
   ]
  },
  {
   "cell_type": "code",
   "execution_count": 69,
   "metadata": {},
   "outputs": [
    {
     "data": {
      "text/plain": [
       "<matplotlib.axes._subplots.AxesSubplot at 0x22581777fd0>"
      ]
     },
     "execution_count": 69,
     "metadata": {},
     "output_type": "execute_result"
    },
    {
     "data": {
      "image/png": "[encoded data removed]",
      "text/plain": [
       "<Figure size 432x288 with 1 Axes>"
      ]
     },
     "metadata": {
      "needs_background": "light"
     },
     "output_type": "display_data"
    }
   ],
   "source": [
    "sns.distplot(hit_data_agg['LD%'])"
   ]
  },
  {
   "cell_type": "code",
   "execution_count": 87,
   "metadata": {},
   "outputs": [],
   "source": [
    "hit_data_agg['driver'] = pd.cut(hit_data_agg['LD%'], bins=[0,.19, .4], labels=['no','yes'])"
   ]
  },
  {
   "cell_type": "code",
   "execution_count": 70,
   "metadata": {},
   "outputs": [
    {
     "data": {
      "text/plain": [
       "<matplotlib.axes._subplots.AxesSubplot at 0x225810501c0>"
      ]
     },
     "execution_count": 70,
     "metadata": {},
     "output_type": "execute_result"
    },
    {
     "data": {
      "image/png": "[encoded data removed]",
      "text/plain": [
       "<Figure size 432x288 with 1 Axes>"
      ]
     },
     "metadata": {
      "needs_background": "light"
     },
     "output_type": "display_data"
    }
   ],
   "source": [
    "sns.distplot(hit_data_agg['Pull%'])"
   ]
  },
  {
   "cell_type": "code",
   "execution_count": 71,
   "metadata": {},
   "outputs": [],
   "source": [
    "hit_data_agg['pull_hitter'] = pd.cut(hit_data_agg['Pull%'], bins=[0,40, 200], labels=['no','yes'])"
   ]
  },
  {
   "cell_type": "code",
   "execution_count": 75,
   "metadata": {},
   "outputs": [
    {
     "data": {
      "text/plain": [
       "<matplotlib.axes._subplots.AxesSubplot at 0x225818bff40>"
      ]
     },
     "execution_count": 75,
     "metadata": {},
     "output_type": "execute_result"
    },
    {
     "data": {
      "image/png": "[encoded data removed]",
      "text/plain": [
       "<Figure size 432x288 with 1 Axes>"
      ]
     },
     "metadata": {
      "needs_background": "light"
     },
     "output_type": "display_data"
    }
   ],
   "source": [
    "sns.distplot(hit_data_agg['O-Swing%'])"
   ]
  },
  {
   "cell_type": "code",
   "execution_count": 77,
   "metadata": {},
   "outputs": [],
   "source": [
    "hit_data_agg['wild_swinger'] = pd.cut(hit_data_agg['O-Swing%'], bins=[0,.48, 1], labels=['no','yes'])"
   ]
  },
  {
   "cell_type": "code",
   "execution_count": 78,
   "metadata": {},
   "outputs": [
    {
     "data": {
      "text/plain": [
       "<matplotlib.axes._subplots.AxesSubplot at 0x225a3ef6040>"
      ]
     },
     "execution_count": 78,
     "metadata": {},
     "output_type": "execute_result"
    },
    {
     "data": {
      "image/png": "[encoded data removed]",
      "text/plain": [
       "<Figure size 432x288 with 1 Axes>"
      ]
     },
     "metadata": {
      "needs_background": "light"
     },
     "output_type": "display_data"
    }
   ],
   "source": [
    "sns.distplot(hit_data_agg['Contact%'])"
   ]
  },
  {
   "cell_type": "code",
   "execution_count": 82,
   "metadata": {},
   "outputs": [],
   "source": [
    "hit_data_agg['high_contact'] = pd.cut(hit_data_agg['Contact%'], bins=[0,.8, 1], labels=['no','yes'])"
   ]
  },
  {
   "cell_type": "code",
   "execution_count": 89,
   "metadata": {},
   "outputs": [
    {
     "data": {
      "text/plain": [
       "<matplotlib.axes._subplots.AxesSubplot at 0x2258068a490>"
      ]
     },
     "execution_count": 89,
     "metadata": {},
     "output_type": "execute_result"
    },
    {
     "data": {
      "image/png": "[encoded data removed]",
      "text/plain": [
       "<Figure size 432x288 with 1 Axes>"
      ]
     },
     "metadata": {
      "needs_background": "light"
     },
     "output_type": "display_data"
    }
   ],
   "source": [
    "sns.distplot(hit_data_agg['Hard%'])"
   ]
  },
  {
   "cell_type": "code",
   "execution_count": 13,
   "metadata": {},
   "outputs": [
    {
     "data": {
      "text/plain": [
       "<seaborn.axisgrid.FacetGrid at 0x1957be8b790>"
      ]
     },
     "execution_count": 13,
     "metadata": {},
     "output_type": "execute_result"
    },
    {
     "data": {
      "image/png": "[encoded data removed]",
      "text/plain": [
       "<Figure size 360x360 with 1 Axes>"
      ]
     },
     "metadata": {
      "needs_background": "light"
     },
     "output_type": "display_data"
    }
   ],
   "source": [
    "sns.relplot(x='Age',y='WAR',data=hit_data)"
   ]
  },
  {
   "cell_type": "code",
   "execution_count": 90,
   "metadata": {},
   "outputs": [],
   "source": [
    "hit_data_agg['hard_hitter'] = pd.cut(hit_data_agg['Hard%'], bins=[0,.3, 1], labels=['no','yes'])"
   ]
  },
  {
   "cell_type": "code",
   "execution_count": 93,
   "metadata": {},
   "outputs": [
    {
     "data": {
      "text/html": [
       "<div>\n",
       "<style scoped>\n",
       "    .dataframe tbody tr th:only-of-type {\n",
       "        vertical-align: middle;\n",
       "    }\n",
       "\n",
       "    .dataframe tbody tr th {\n",
       "        vertical-align: top;\n",
       "    }\n",
       "\n",
       "    .dataframe thead th {\n",
       "        text-align: right;\n",
       "    }\n",
       "</style>\n",
       "<table border=\"1\" class=\"dataframe\">\n",
       "  <thead>\n",
       "    <tr style=\"text-align: right;\">\n",
       "      <th></th>\n",
       "      <th>Name</th>\n",
       "      <th>AVG</th>\n",
       "      <th>pull_hitter</th>\n",
       "      <th>wild_swinger</th>\n",
       "      <th>high_contact</th>\n",
       "      <th>driver</th>\n",
       "      <th>hard_hitter</th>\n",
       "    </tr>\n",
       "  </thead>\n",
       "  <tbody>\n",
       "    <tr>\n",
       "      <th>104</th>\n",
       "      <td>Miguel Cabrera</td>\n",
       "      <td>0.318</td>\n",
       "      <td>no</td>\n",
       "      <td>no</td>\n",
       "      <td>no</td>\n",
       "      <td>yes</td>\n",
       "      <td>yes</td>\n",
       "    </tr>\n",
       "    <tr>\n",
       "      <th>217</th>\n",
       "      <td>Adrian Beltre</td>\n",
       "      <td>0.295</td>\n",
       "      <td>no</td>\n",
       "      <td>no</td>\n",
       "      <td>yes</td>\n",
       "      <td>yes</td>\n",
       "      <td>yes</td>\n",
       "    </tr>\n",
       "    <tr>\n",
       "      <th>128</th>\n",
       "      <td>Albert Pujols</td>\n",
       "      <td>0.296</td>\n",
       "      <td>no</td>\n",
       "      <td>no</td>\n",
       "      <td>yes</td>\n",
       "      <td>no</td>\n",
       "      <td>yes</td>\n",
       "    </tr>\n",
       "    <tr>\n",
       "      <th>93</th>\n",
       "      <td>Mike Trout</td>\n",
       "      <td>0.307</td>\n",
       "      <td>no</td>\n",
       "      <td>no</td>\n",
       "      <td>yes</td>\n",
       "      <td>yes</td>\n",
       "      <td>yes</td>\n",
       "    </tr>\n",
       "    <tr>\n",
       "      <th>235</th>\n",
       "      <td>Chase Utley</td>\n",
       "      <td>0.276</td>\n",
       "      <td>no</td>\n",
       "      <td>no</td>\n",
       "      <td>yes</td>\n",
       "      <td>yes</td>\n",
       "      <td>yes</td>\n",
       "    </tr>\n",
       "    <tr>\n",
       "      <th>...</th>\n",
       "      <td>...</td>\n",
       "      <td>...</td>\n",
       "      <td>...</td>\n",
       "      <td>...</td>\n",
       "      <td>...</td>\n",
       "      <td>...</td>\n",
       "      <td>...</td>\n",
       "    </tr>\n",
       "    <tr>\n",
       "      <th>1206</th>\n",
       "      <td>Jordan Pacheco</td>\n",
       "      <td>0.272</td>\n",
       "      <td>no</td>\n",
       "      <td>no</td>\n",
       "      <td>yes</td>\n",
       "      <td>yes</td>\n",
       "      <td>no</td>\n",
       "    </tr>\n",
       "    <tr>\n",
       "      <th>1308</th>\n",
       "      <td>Gerald Laird</td>\n",
       "      <td>0.243</td>\n",
       "      <td>no</td>\n",
       "      <td>no</td>\n",
       "      <td>yes</td>\n",
       "      <td>no</td>\n",
       "      <td>no</td>\n",
       "    </tr>\n",
       "    <tr>\n",
       "      <th>1760</th>\n",
       "      <td>Rob Johnson</td>\n",
       "      <td>0.200</td>\n",
       "      <td>no</td>\n",
       "      <td>no</td>\n",
       "      <td>no</td>\n",
       "      <td>yes</td>\n",
       "      <td>no</td>\n",
       "    </tr>\n",
       "    <tr>\n",
       "      <th>1875</th>\n",
       "      <td>Koyie Hill</td>\n",
       "      <td>0.207</td>\n",
       "      <td>no</td>\n",
       "      <td>no</td>\n",
       "      <td>no</td>\n",
       "      <td>yes</td>\n",
       "      <td>no</td>\n",
       "    </tr>\n",
       "    <tr>\n",
       "      <th>595</th>\n",
       "      <td>Ryan Doumit</td>\n",
       "      <td>0.264</td>\n",
       "      <td>no</td>\n",
       "      <td>no</td>\n",
       "      <td>no</td>\n",
       "      <td>yes</td>\n",
       "      <td>yes</td>\n",
       "    </tr>\n",
       "  </tbody>\n",
       "</table>\n",
       "<p>910 rows × 7 columns</p>\n",
       "</div>"
      ],
      "text/plain": [
       "                Name    AVG pull_hitter wild_swinger high_contact driver  \\\n",
       "104   Miguel Cabrera  0.318          no           no           no    yes   \n",
       "217    Adrian Beltre  0.295          no           no          yes    yes   \n",
       "128    Albert Pujols  0.296          no           no          yes     no   \n",
       "93        Mike Trout  0.307          no           no          yes    yes   \n",
       "235      Chase Utley  0.276          no           no          yes    yes   \n",
       "...              ...    ...         ...          ...          ...    ...   \n",
       "1206  Jordan Pacheco  0.272          no           no          yes    yes   \n",
       "1308    Gerald Laird  0.243          no           no          yes     no   \n",
       "1760     Rob Johnson  0.200          no           no           no    yes   \n",
       "1875      Koyie Hill  0.207          no           no           no    yes   \n",
       "595      Ryan Doumit  0.264          no           no           no    yes   \n",
       "\n",
       "     hard_hitter  \n",
       "104          yes  \n",
       "217          yes  \n",
       "128          yes  \n",
       "93           yes  \n",
       "235          yes  \n",
       "...          ...  \n",
       "1206          no  \n",
       "1308          no  \n",
       "1760          no  \n",
       "1875          no  \n",
       "595          yes  \n",
       "\n",
       "[910 rows x 7 columns]"
      ]
     },
     "execution_count": 93,
     "metadata": {},
     "output_type": "execute_result"
    }
   ],
   "source": [
    "hit_data_agg[['Name','AVG','pull_hitter','wild_swinger','high_contact','driver','hard_hitter']]"
   ]
  },
  {
   "cell_type": "code",
   "execution_count": 94,
   "metadata": {},
   "outputs": [
    {
     "data": {
      "text/html": [
       "<div>\n",
       "<style scoped>\n",
       "    .dataframe tbody tr th:only-of-type {\n",
       "        vertical-align: middle;\n",
       "    }\n",
       "\n",
       "    .dataframe tbody tr th {\n",
       "        vertical-align: top;\n",
       "    }\n",
       "\n",
       "    .dataframe thead th {\n",
       "        text-align: right;\n",
       "    }\n",
       "</style>\n",
       "<table border=\"1\" class=\"dataframe\">\n",
       "  <thead>\n",
       "    <tr style=\"text-align: right;\">\n",
       "      <th></th>\n",
       "      <th>Name</th>\n",
       "      <th>Team</th>\n",
       "      <th>Age</th>\n",
       "      <th>G</th>\n",
       "      <th>AB</th>\n",
       "      <th>PA</th>\n",
       "      <th>H</th>\n",
       "      <th>1B</th>\n",
       "      <th>2B</th>\n",
       "      <th>3B</th>\n",
       "      <th>...</th>\n",
       "      <th>Cent%</th>\n",
       "      <th>Oppo%</th>\n",
       "      <th>Soft%</th>\n",
       "      <th>Med%</th>\n",
       "      <th>Hard%</th>\n",
       "      <th>pull_hitter</th>\n",
       "      <th>wild_swinger</th>\n",
       "      <th>high_contact</th>\n",
       "      <th>driver</th>\n",
       "      <th>hard_hitter</th>\n",
       "    </tr>\n",
       "  </thead>\n",
       "  <tbody>\n",
       "    <tr>\n",
       "      <th>104</th>\n",
       "      <td>Miguel Cabrera</td>\n",
       "      <td>- - -</td>\n",
       "      <td>28.0</td>\n",
       "      <td>2177.0</td>\n",
       "      <td>8142.0</td>\n",
       "      <td>9341.0</td>\n",
       "      <td>2592.0</td>\n",
       "      <td>1590.0</td>\n",
       "      <td>535.0</td>\n",
       "      <td>14.0</td>\n",
       "      <td>...</td>\n",
       "      <td>0.328</td>\n",
       "      <td>0.283</td>\n",
       "      <td>0.111</td>\n",
       "      <td>0.490</td>\n",
       "      <td>0.399</td>\n",
       "      <td>no</td>\n",
       "      <td>no</td>\n",
       "      <td>no</td>\n",
       "      <td>yes</td>\n",
       "      <td>yes</td>\n",
       "    </tr>\n",
       "    <tr>\n",
       "      <th>217</th>\n",
       "      <td>Adrian Beltre</td>\n",
       "      <td>- - -</td>\n",
       "      <td>32.0</td>\n",
       "      <td>2123.0</td>\n",
       "      <td>8204.0</td>\n",
       "      <td>8969.0</td>\n",
       "      <td>2417.0</td>\n",
       "      <td>1527.0</td>\n",
       "      <td>492.0</td>\n",
       "      <td>20.0</td>\n",
       "      <td>...</td>\n",
       "      <td>0.345</td>\n",
       "      <td>0.249</td>\n",
       "      <td>0.143</td>\n",
       "      <td>0.506</td>\n",
       "      <td>0.351</td>\n",
       "      <td>no</td>\n",
       "      <td>no</td>\n",
       "      <td>yes</td>\n",
       "      <td>yes</td>\n",
       "      <td>yes</td>\n",
       "    </tr>\n",
       "    <tr>\n",
       "      <th>128</th>\n",
       "      <td>Albert Pujols</td>\n",
       "      <td>- - -</td>\n",
       "      <td>31.0</td>\n",
       "      <td>2217.0</td>\n",
       "      <td>8425.0</td>\n",
       "      <td>9650.0</td>\n",
       "      <td>2491.0</td>\n",
       "      <td>1462.0</td>\n",
       "      <td>501.0</td>\n",
       "      <td>9.0</td>\n",
       "      <td>...</td>\n",
       "      <td>0.338</td>\n",
       "      <td>0.191</td>\n",
       "      <td>0.146</td>\n",
       "      <td>0.484</td>\n",
       "      <td>0.371</td>\n",
       "      <td>no</td>\n",
       "      <td>no</td>\n",
       "      <td>yes</td>\n",
       "      <td>no</td>\n",
       "      <td>yes</td>\n",
       "    </tr>\n",
       "    <tr>\n",
       "      <th>93</th>\n",
       "      <td>Mike Trout</td>\n",
       "      <td>Angels</td>\n",
       "      <td>23.0</td>\n",
       "      <td>1065.0</td>\n",
       "      <td>3870.0</td>\n",
       "      <td>4673.0</td>\n",
       "      <td>1187.0</td>\n",
       "      <td>679.0</td>\n",
       "      <td>224.0</td>\n",
       "      <td>44.0</td>\n",
       "      <td>...</td>\n",
       "      <td>0.358</td>\n",
       "      <td>0.274</td>\n",
       "      <td>0.144</td>\n",
       "      <td>0.471</td>\n",
       "      <td>0.386</td>\n",
       "      <td>no</td>\n",
       "      <td>no</td>\n",
       "      <td>yes</td>\n",
       "      <td>yes</td>\n",
       "      <td>yes</td>\n",
       "    </tr>\n",
       "    <tr>\n",
       "      <th>235</th>\n",
       "      <td>Chase Utley</td>\n",
       "      <td>- - -</td>\n",
       "      <td>32.0</td>\n",
       "      <td>1894.0</td>\n",
       "      <td>6723.0</td>\n",
       "      <td>7711.0</td>\n",
       "      <td>1853.0</td>\n",
       "      <td>1138.0</td>\n",
       "      <td>401.0</td>\n",
       "      <td>57.0</td>\n",
       "      <td>...</td>\n",
       "      <td>0.333</td>\n",
       "      <td>0.214</td>\n",
       "      <td>0.143</td>\n",
       "      <td>0.501</td>\n",
       "      <td>0.356</td>\n",
       "      <td>no</td>\n",
       "      <td>no</td>\n",
       "      <td>yes</td>\n",
       "      <td>yes</td>\n",
       "      <td>yes</td>\n",
       "    </tr>\n",
       "    <tr>\n",
       "      <th>...</th>\n",
       "      <td>...</td>\n",
       "      <td>...</td>\n",
       "      <td>...</td>\n",
       "      <td>...</td>\n",
       "      <td>...</td>\n",
       "      <td>...</td>\n",
       "      <td>...</td>\n",
       "      <td>...</td>\n",
       "      <td>...</td>\n",
       "      <td>...</td>\n",
       "      <td>...</td>\n",
       "      <td>...</td>\n",
       "      <td>...</td>\n",
       "      <td>...</td>\n",
       "      <td>...</td>\n",
       "      <td>...</td>\n",
       "      <td>...</td>\n",
       "      <td>...</td>\n",
       "      <td>...</td>\n",
       "      <td>...</td>\n",
       "      <td>...</td>\n",
       "    </tr>\n",
       "    <tr>\n",
       "      <th>1206</th>\n",
       "      <td>Jordan Pacheco</td>\n",
       "      <td>- - -</td>\n",
       "      <td>28.0</td>\n",
       "      <td>377.0</td>\n",
       "      <td>1076.0</td>\n",
       "      <td>1149.0</td>\n",
       "      <td>293.0</td>\n",
       "      <td>217.0</td>\n",
       "      <td>62.0</td>\n",
       "      <td>4.0</td>\n",
       "      <td>...</td>\n",
       "      <td>0.373</td>\n",
       "      <td>0.249</td>\n",
       "      <td>0.171</td>\n",
       "      <td>0.588</td>\n",
       "      <td>0.241</td>\n",
       "      <td>no</td>\n",
       "      <td>no</td>\n",
       "      <td>yes</td>\n",
       "      <td>yes</td>\n",
       "      <td>no</td>\n",
       "    </tr>\n",
       "    <tr>\n",
       "      <th>1308</th>\n",
       "      <td>Gerald Laird</td>\n",
       "      <td>- - -</td>\n",
       "      <td>30.0</td>\n",
       "      <td>780.0</td>\n",
       "      <td>2408.0</td>\n",
       "      <td>2684.0</td>\n",
       "      <td>585.0</td>\n",
       "      <td>405.0</td>\n",
       "      <td>135.0</td>\n",
       "      <td>8.0</td>\n",
       "      <td>...</td>\n",
       "      <td>0.317</td>\n",
       "      <td>0.248</td>\n",
       "      <td>0.187</td>\n",
       "      <td>0.559</td>\n",
       "      <td>0.254</td>\n",
       "      <td>no</td>\n",
       "      <td>no</td>\n",
       "      <td>yes</td>\n",
       "      <td>no</td>\n",
       "      <td>no</td>\n",
       "    </tr>\n",
       "    <tr>\n",
       "      <th>1760</th>\n",
       "      <td>Rob Johnson</td>\n",
       "      <td>- - -</td>\n",
       "      <td>27.0</td>\n",
       "      <td>265.0</td>\n",
       "      <td>736.0</td>\n",
       "      <td>829.0</td>\n",
       "      <td>147.0</td>\n",
       "      <td>97.0</td>\n",
       "      <td>38.0</td>\n",
       "      <td>4.0</td>\n",
       "      <td>...</td>\n",
       "      <td>0.355</td>\n",
       "      <td>0.236</td>\n",
       "      <td>0.192</td>\n",
       "      <td>0.576</td>\n",
       "      <td>0.232</td>\n",
       "      <td>no</td>\n",
       "      <td>no</td>\n",
       "      <td>no</td>\n",
       "      <td>yes</td>\n",
       "      <td>no</td>\n",
       "    </tr>\n",
       "    <tr>\n",
       "      <th>1875</th>\n",
       "      <td>Koyie Hill</td>\n",
       "      <td>- - -</td>\n",
       "      <td>30.0</td>\n",
       "      <td>338.0</td>\n",
       "      <td>948.0</td>\n",
       "      <td>1046.0</td>\n",
       "      <td>196.0</td>\n",
       "      <td>141.0</td>\n",
       "      <td>43.0</td>\n",
       "      <td>4.0</td>\n",
       "      <td>...</td>\n",
       "      <td>0.331</td>\n",
       "      <td>0.213</td>\n",
       "      <td>0.171</td>\n",
       "      <td>0.567</td>\n",
       "      <td>0.262</td>\n",
       "      <td>no</td>\n",
       "      <td>no</td>\n",
       "      <td>no</td>\n",
       "      <td>yes</td>\n",
       "      <td>no</td>\n",
       "    </tr>\n",
       "    <tr>\n",
       "      <th>595</th>\n",
       "      <td>Ryan Doumit</td>\n",
       "      <td>- - -</td>\n",
       "      <td>29.0</td>\n",
       "      <td>980.0</td>\n",
       "      <td>3093.0</td>\n",
       "      <td>3407.0</td>\n",
       "      <td>818.0</td>\n",
       "      <td>516.0</td>\n",
       "      <td>191.0</td>\n",
       "      <td>7.0</td>\n",
       "      <td>...</td>\n",
       "      <td>0.321</td>\n",
       "      <td>0.178</td>\n",
       "      <td>0.152</td>\n",
       "      <td>0.525</td>\n",
       "      <td>0.322</td>\n",
       "      <td>no</td>\n",
       "      <td>no</td>\n",
       "      <td>no</td>\n",
       "      <td>yes</td>\n",
       "      <td>yes</td>\n",
       "    </tr>\n",
       "  </tbody>\n",
       "</table>\n",
       "<p>910 rows × 93 columns</p>\n",
       "</div>"
      ],
      "text/plain": [
       "                Name    Team   Age       G      AB      PA       H      1B  \\\n",
       "104   Miguel Cabrera   - - -  28.0  2177.0  8142.0  9341.0  2592.0  1590.0   \n",
       "217    Adrian Beltre   - - -  32.0  2123.0  8204.0  8969.0  2417.0  1527.0   \n",
       "128    Albert Pujols   - - -  31.0  2217.0  8425.0  9650.0  2491.0  1462.0   \n",
       "93        Mike Trout  Angels  23.0  1065.0  3870.0  4673.0  1187.0   679.0   \n",
       "235      Chase Utley   - - -  32.0  1894.0  6723.0  7711.0  1853.0  1138.0   \n",
       "...              ...     ...   ...     ...     ...     ...     ...     ...   \n",
       "1206  Jordan Pacheco   - - -  28.0   377.0  1076.0  1149.0   293.0   217.0   \n",
       "1308    Gerald Laird   - - -  30.0   780.0  2408.0  2684.0   585.0   405.0   \n",
       "1760     Rob Johnson   - - -  27.0   265.0   736.0   829.0   147.0    97.0   \n",
       "1875      Koyie Hill   - - -  30.0   338.0   948.0  1046.0   196.0   141.0   \n",
       "595      Ryan Doumit   - - -  29.0   980.0  3093.0  3407.0   818.0   516.0   \n",
       "\n",
       "         2B    3B  ...  Cent%  Oppo%  Soft%   Med%  Hard%  pull_hitter  \\\n",
       "104   535.0  14.0  ...  0.328  0.283  0.111  0.490  0.399           no   \n",
       "217   492.0  20.0  ...  0.345  0.249  0.143  0.506  0.351           no   \n",
       "128   501.0   9.0  ...  0.338  0.191  0.146  0.484  0.371           no   \n",
       "93    224.0  44.0  ...  0.358  0.274  0.144  0.471  0.386           no   \n",
       "235   401.0  57.0  ...  0.333  0.214  0.143  0.501  0.356           no   \n",
       "...     ...   ...  ...    ...    ...    ...    ...    ...          ...   \n",
       "1206   62.0   4.0  ...  0.373  0.249  0.171  0.588  0.241           no   \n",
       "1308  135.0   8.0  ...  0.317  0.248  0.187  0.559  0.254           no   \n",
       "1760   38.0   4.0  ...  0.355  0.236  0.192  0.576  0.232           no   \n",
       "1875   43.0   4.0  ...  0.331  0.213  0.171  0.567  0.262           no   \n",
       "595   191.0   7.0  ...  0.321  0.178  0.152  0.525  0.322           no   \n",
       "\n",
       "      wild_swinger  high_contact  driver  hard_hitter  \n",
       "104             no            no     yes          yes  \n",
       "217             no           yes     yes          yes  \n",
       "128             no           yes      no          yes  \n",
       "93              no           yes     yes          yes  \n",
       "235             no           yes     yes          yes  \n",
       "...            ...           ...     ...          ...  \n",
       "1206            no           yes     yes           no  \n",
       "1308            no           yes      no           no  \n",
       "1760            no            no     yes           no  \n",
       "1875            no            no     yes           no  \n",
       "595             no            no     yes          yes  \n",
       "\n",
       "[910 rows x 93 columns]"
      ]
     },
     "execution_count": 94,
     "metadata": {},
     "output_type": "execute_result"
    }
   ],
   "source": [
    "hit_data_agg"
   ]
  },
  {
   "cell_type": "code",
   "execution_count": 145,
   "metadata": {},
   "outputs": [],
   "source": [
    "hit_data_trans = batting_stats(2004, 2006)"
   ]
  },
  {
   "cell_type": "code",
   "execution_count": 146,
   "metadata": {},
   "outputs": [],
   "source": [
    "hit_data_trans.drop(list(hit_data_trans.filter(regex='(pi)')),axis=1,inplace=True)\n",
    "hit_data_trans.drop(list(hit_data_trans.filter(regex='(pfx)')),axis=1,inplace=True)\n",
    "hit_data_trans.drop(['IFFB','Pitches','Balls','Strikes','IFH','BUH',\n",
    "               'FB% (Pitch)','FBv','SL%','SLv','CT%','CTv','CB%','CBv','CH%',\n",
    "               'CHv','SF%','SFv','KN%','KNv','XX%','wFB','wSL','wCT','wCB','wCH',\n",
    "               'wSF','wKN','wFB/C','wSL/C','wCT/C','wCB/C','wCH/C','wSF/C','wKN/C',\n",
    "               'Clutch','BUH%','TTO%','GB','FB','LD','BU','OBP','SLG',\n",
    "               'GB/FB','Bat','Rep','Pos','Dol','Spd','wRC+','WPA','-WPA',\n",
    "               '+WPA','RE24','REW','pLI','phLI','PH','WPA/LI','PO%','BsR','Pace','Def',\n",
    "               'wSB','UBR','Off','Lg','wGDP'\n",
    "              ],axis=1,inplace=True)"
   ]
  },
  {
   "cell_type": "code",
   "execution_count": 156,
   "metadata": {},
   "outputs": [],
   "source": [
    "hit_data_trans = hit_data_trans[hit_data_trans['PA'] >= 180]"
   ]
  },
  {
   "cell_type": "code",
   "execution_count": 147,
   "metadata": {},
   "outputs": [
    {
     "data": {
      "text/plain": [
       "Index(['Season', 'Name', 'Team', 'Age', 'G', 'AB', 'PA', 'H', '1B', '2B', '3B',\n",
       "       'HR', 'R', 'RBI', 'BB', 'IBB', 'SO', 'HBP', 'SF', 'SH', 'GDP', 'SB',\n",
       "       'CS', 'AVG', 'BB%', 'K%', 'BB/K', 'OPS', 'ISO', 'BABIP', 'LD%', 'GB%',\n",
       "       'FB%', 'IFFB%', 'HR/FB', 'IFH%', 'wOBA', 'wRAA', 'wRC', 'Fld', 'RAR',\n",
       "       'WAR', 'O-Swing%', 'Z-Swing%', 'Swing%', 'O-Contact%', 'Z-Contact%',\n",
       "       'Contact%', 'Zone%', 'F-Strike%', 'SwStr%', 'Age Rng', 'Pull%', 'Cent%',\n",
       "       'Oppo%', 'Soft%', 'Med%', 'Hard%'],\n",
       "      dtype='object')"
      ]
     },
     "execution_count": 147,
     "metadata": {},
     "output_type": "execute_result"
    }
   ],
   "source": [
    "hit_data_trans.columns"
   ]
  },
  {
   "cell_type": "code",
   "execution_count": 157,
   "metadata": {},
   "outputs": [],
   "source": [
    "hit_data_pivot = pd.pivot_table(hit_data_trans,index='Name',columns='Season')"
   ]
  },
  {
   "cell_type": "code",
   "execution_count": 158,
   "metadata": {},
   "outputs": [],
   "source": [
    "hit_data_pivot = hit_data_pivot.sort_index(axis=1, level=1)"
   ]
  },
  {
   "cell_type": "code",
   "execution_count": 159,
   "metadata": {},
   "outputs": [],
   "source": [
    "hit_data_pivot.columns = [f'{x}_{int(y)}' for x,y in hit_data_pivot.columns]"
   ]
  },
  {
   "cell_type": "code",
   "execution_count": 160,
   "metadata": {},
   "outputs": [
    {
     "data": {
      "text/html": [
       "<div>\n",
       "<style scoped>\n",
       "    .dataframe tbody tr th:only-of-type {\n",
       "        vertical-align: middle;\n",
       "    }\n",
       "\n",
       "    .dataframe tbody tr th {\n",
       "        vertical-align: top;\n",
       "    }\n",
       "\n",
       "    .dataframe thead th {\n",
       "        text-align: right;\n",
       "    }\n",
       "</style>\n",
       "<table border=\"1\" class=\"dataframe\">\n",
       "  <thead>\n",
       "    <tr style=\"text-align: right;\">\n",
       "      <th></th>\n",
       "      <th>Name</th>\n",
       "      <th>1B_2004</th>\n",
       "      <th>2B_2004</th>\n",
       "      <th>3B_2004</th>\n",
       "      <th>AB_2004</th>\n",
       "      <th>AVG_2004</th>\n",
       "      <th>Age_2004</th>\n",
       "      <th>BABIP_2004</th>\n",
       "      <th>BB_2004</th>\n",
       "      <th>BB%_2004</th>\n",
       "      <th>...</th>\n",
       "      <th>Soft%_2006</th>\n",
       "      <th>SwStr%_2006</th>\n",
       "      <th>Swing%_2006</th>\n",
       "      <th>WAR_2006</th>\n",
       "      <th>Z-Contact%_2006</th>\n",
       "      <th>Z-Swing%_2006</th>\n",
       "      <th>Zone%_2006</th>\n",
       "      <th>wOBA_2006</th>\n",
       "      <th>wRAA_2006</th>\n",
       "      <th>wRC_2006</th>\n",
       "    </tr>\n",
       "  </thead>\n",
       "  <tbody>\n",
       "    <tr>\n",
       "      <th>0</th>\n",
       "      <td>A.J. Pierzynski</td>\n",
       "      <td>87.0</td>\n",
       "      <td>28.0</td>\n",
       "      <td>2.0</td>\n",
       "      <td>471.0</td>\n",
       "      <td>0.272</td>\n",
       "      <td>27.0</td>\n",
       "      <td>0.268</td>\n",
       "      <td>19.0</td>\n",
       "      <td>0.037</td>\n",
       "      <td>...</td>\n",
       "      <td>0.125</td>\n",
       "      <td>0.106</td>\n",
       "      <td>0.605</td>\n",
       "      <td>2.0</td>\n",
       "      <td>0.889</td>\n",
       "      <td>0.826</td>\n",
       "      <td>0.497</td>\n",
       "      <td>0.330</td>\n",
       "      <td>-0.5</td>\n",
       "      <td>68.0</td>\n",
       "    </tr>\n",
       "    <tr>\n",
       "      <th>1</th>\n",
       "      <td>Aaron Boone</td>\n",
       "      <td>NaN</td>\n",
       "      <td>NaN</td>\n",
       "      <td>NaN</td>\n",
       "      <td>NaN</td>\n",
       "      <td>NaN</td>\n",
       "      <td>NaN</td>\n",
       "      <td>NaN</td>\n",
       "      <td>NaN</td>\n",
       "      <td>NaN</td>\n",
       "      <td>...</td>\n",
       "      <td>0.135</td>\n",
       "      <td>0.097</td>\n",
       "      <td>0.495</td>\n",
       "      <td>-0.8</td>\n",
       "      <td>0.894</td>\n",
       "      <td>0.697</td>\n",
       "      <td>0.520</td>\n",
       "      <td>0.302</td>\n",
       "      <td>-9.8</td>\n",
       "      <td>39.0</td>\n",
       "    </tr>\n",
       "    <tr>\n",
       "      <th>2</th>\n",
       "      <td>Aaron Hill</td>\n",
       "      <td>NaN</td>\n",
       "      <td>NaN</td>\n",
       "      <td>NaN</td>\n",
       "      <td>NaN</td>\n",
       "      <td>NaN</td>\n",
       "      <td>NaN</td>\n",
       "      <td>NaN</td>\n",
       "      <td>NaN</td>\n",
       "      <td>NaN</td>\n",
       "      <td>...</td>\n",
       "      <td>0.117</td>\n",
       "      <td>0.054</td>\n",
       "      <td>0.420</td>\n",
       "      <td>2.5</td>\n",
       "      <td>0.932</td>\n",
       "      <td>0.624</td>\n",
       "      <td>0.540</td>\n",
       "      <td>0.323</td>\n",
       "      <td>-4.6</td>\n",
       "      <td>71.0</td>\n",
       "    </tr>\n",
       "    <tr>\n",
       "      <th>3</th>\n",
       "      <td>Aaron Miles</td>\n",
       "      <td>129.0</td>\n",
       "      <td>15.0</td>\n",
       "      <td>3.0</td>\n",
       "      <td>522.0</td>\n",
       "      <td>0.293</td>\n",
       "      <td>27.0</td>\n",
       "      <td>0.313</td>\n",
       "      <td>29.0</td>\n",
       "      <td>0.051</td>\n",
       "      <td>...</td>\n",
       "      <td>0.134</td>\n",
       "      <td>0.042</td>\n",
       "      <td>0.431</td>\n",
       "      <td>-0.6</td>\n",
       "      <td>0.957</td>\n",
       "      <td>0.592</td>\n",
       "      <td>0.550</td>\n",
       "      <td>0.292</td>\n",
       "      <td>-16.0</td>\n",
       "      <td>43.0</td>\n",
       "    </tr>\n",
       "    <tr>\n",
       "      <th>4</th>\n",
       "      <td>Aaron Rowand</td>\n",
       "      <td>87.0</td>\n",
       "      <td>38.0</td>\n",
       "      <td>2.0</td>\n",
       "      <td>487.0</td>\n",
       "      <td>0.310</td>\n",
       "      <td>26.0</td>\n",
       "      <td>0.340</td>\n",
       "      <td>30.0</td>\n",
       "      <td>0.056</td>\n",
       "      <td>...</td>\n",
       "      <td>0.123</td>\n",
       "      <td>0.095</td>\n",
       "      <td>0.496</td>\n",
       "      <td>1.2</td>\n",
       "      <td>0.905</td>\n",
       "      <td>0.708</td>\n",
       "      <td>0.513</td>\n",
       "      <td>0.323</td>\n",
       "      <td>-3.3</td>\n",
       "      <td>52.0</td>\n",
       "    </tr>\n",
       "    <tr>\n",
       "      <th>...</th>\n",
       "      <td>...</td>\n",
       "      <td>...</td>\n",
       "      <td>...</td>\n",
       "      <td>...</td>\n",
       "      <td>...</td>\n",
       "      <td>...</td>\n",
       "      <td>...</td>\n",
       "      <td>...</td>\n",
       "      <td>...</td>\n",
       "      <td>...</td>\n",
       "      <td>...</td>\n",
       "      <td>...</td>\n",
       "      <td>...</td>\n",
       "      <td>...</td>\n",
       "      <td>...</td>\n",
       "      <td>...</td>\n",
       "      <td>...</td>\n",
       "      <td>...</td>\n",
       "      <td>...</td>\n",
       "      <td>...</td>\n",
       "      <td>...</td>\n",
       "    </tr>\n",
       "    <tr>\n",
       "      <th>487</th>\n",
       "      <td>Wily Mo Pena</td>\n",
       "      <td>50.0</td>\n",
       "      <td>10.0</td>\n",
       "      <td>1.0</td>\n",
       "      <td>336.0</td>\n",
       "      <td>0.259</td>\n",
       "      <td>22.0</td>\n",
       "      <td>0.302</td>\n",
       "      <td>22.0</td>\n",
       "      <td>0.060</td>\n",
       "      <td>...</td>\n",
       "      <td>0.094</td>\n",
       "      <td>0.197</td>\n",
       "      <td>0.551</td>\n",
       "      <td>1.0</td>\n",
       "      <td>0.827</td>\n",
       "      <td>0.777</td>\n",
       "      <td>0.470</td>\n",
       "      <td>0.358</td>\n",
       "      <td>6.8</td>\n",
       "      <td>45.0</td>\n",
       "    </tr>\n",
       "    <tr>\n",
       "      <th>488</th>\n",
       "      <td>Xavier Nady</td>\n",
       "      <td>NaN</td>\n",
       "      <td>NaN</td>\n",
       "      <td>NaN</td>\n",
       "      <td>NaN</td>\n",
       "      <td>NaN</td>\n",
       "      <td>NaN</td>\n",
       "      <td>NaN</td>\n",
       "      <td>NaN</td>\n",
       "      <td>NaN</td>\n",
       "      <td>...</td>\n",
       "      <td>0.101</td>\n",
       "      <td>0.104</td>\n",
       "      <td>0.516</td>\n",
       "      <td>0.2</td>\n",
       "      <td>0.895</td>\n",
       "      <td>0.725</td>\n",
       "      <td>0.517</td>\n",
       "      <td>0.338</td>\n",
       "      <td>2.7</td>\n",
       "      <td>67.0</td>\n",
       "    </tr>\n",
       "    <tr>\n",
       "      <th>489</th>\n",
       "      <td>Yadier Molina</td>\n",
       "      <td>NaN</td>\n",
       "      <td>NaN</td>\n",
       "      <td>NaN</td>\n",
       "      <td>NaN</td>\n",
       "      <td>NaN</td>\n",
       "      <td>NaN</td>\n",
       "      <td>NaN</td>\n",
       "      <td>NaN</td>\n",
       "      <td>NaN</td>\n",
       "      <td>...</td>\n",
       "      <td>0.119</td>\n",
       "      <td>0.066</td>\n",
       "      <td>0.507</td>\n",
       "      <td>-0.3</td>\n",
       "      <td>0.920</td>\n",
       "      <td>0.708</td>\n",
       "      <td>0.543</td>\n",
       "      <td>0.263</td>\n",
       "      <td>-27.0</td>\n",
       "      <td>31.0</td>\n",
       "    </tr>\n",
       "    <tr>\n",
       "      <th>490</th>\n",
       "      <td>Yorvit Torrealba</td>\n",
       "      <td>23.0</td>\n",
       "      <td>7.0</td>\n",
       "      <td>3.0</td>\n",
       "      <td>172.0</td>\n",
       "      <td>0.227</td>\n",
       "      <td>25.0</td>\n",
       "      <td>0.243</td>\n",
       "      <td>17.0</td>\n",
       "      <td>0.087</td>\n",
       "      <td>...</td>\n",
       "      <td>0.164</td>\n",
       "      <td>0.092</td>\n",
       "      <td>0.439</td>\n",
       "      <td>0.8</td>\n",
       "      <td>0.877</td>\n",
       "      <td>0.630</td>\n",
       "      <td>0.530</td>\n",
       "      <td>0.312</td>\n",
       "      <td>-4.1</td>\n",
       "      <td>26.0</td>\n",
       "    </tr>\n",
       "    <tr>\n",
       "      <th>491</th>\n",
       "      <td>Yuniesky Betancourt</td>\n",
       "      <td>NaN</td>\n",
       "      <td>NaN</td>\n",
       "      <td>NaN</td>\n",
       "      <td>NaN</td>\n",
       "      <td>NaN</td>\n",
       "      <td>NaN</td>\n",
       "      <td>NaN</td>\n",
       "      <td>NaN</td>\n",
       "      <td>NaN</td>\n",
       "      <td>...</td>\n",
       "      <td>0.086</td>\n",
       "      <td>0.058</td>\n",
       "      <td>0.490</td>\n",
       "      <td>1.6</td>\n",
       "      <td>0.926</td>\n",
       "      <td>0.670</td>\n",
       "      <td>0.543</td>\n",
       "      <td>0.309</td>\n",
       "      <td>-11.1</td>\n",
       "      <td>62.0</td>\n",
       "    </tr>\n",
       "  </tbody>\n",
       "</table>\n",
       "<p>492 rows × 163 columns</p>\n",
       "</div>"
      ],
      "text/plain": [
       "                    Name  1B_2004  2B_2004  3B_2004  AB_2004  AVG_2004  \\\n",
       "0        A.J. Pierzynski     87.0     28.0      2.0    471.0     0.272   \n",
       "1            Aaron Boone      NaN      NaN      NaN      NaN       NaN   \n",
       "2             Aaron Hill      NaN      NaN      NaN      NaN       NaN   \n",
       "3            Aaron Miles    129.0     15.0      3.0    522.0     0.293   \n",
       "4           Aaron Rowand     87.0     38.0      2.0    487.0     0.310   \n",
       "..                   ...      ...      ...      ...      ...       ...   \n",
       "487         Wily Mo Pena     50.0     10.0      1.0    336.0     0.259   \n",
       "488          Xavier Nady      NaN      NaN      NaN      NaN       NaN   \n",
       "489        Yadier Molina      NaN      NaN      NaN      NaN       NaN   \n",
       "490     Yorvit Torrealba     23.0      7.0      3.0    172.0     0.227   \n",
       "491  Yuniesky Betancourt      NaN      NaN      NaN      NaN       NaN   \n",
       "\n",
       "     Age_2004  BABIP_2004  BB_2004  BB%_2004  ...  Soft%_2006  SwStr%_2006  \\\n",
       "0        27.0       0.268     19.0     0.037  ...       0.125        0.106   \n",
       "1         NaN         NaN      NaN       NaN  ...       0.135        0.097   \n",
       "2         NaN         NaN      NaN       NaN  ...       0.117        0.054   \n",
       "3        27.0       0.313     29.0     0.051  ...       0.134        0.042   \n",
       "4        26.0       0.340     30.0     0.056  ...       0.123        0.095   \n",
       "..        ...         ...      ...       ...  ...         ...          ...   \n",
       "487      22.0       0.302     22.0     0.060  ...       0.094        0.197   \n",
       "488       NaN         NaN      NaN       NaN  ...       0.101        0.104   \n",
       "489       NaN         NaN      NaN       NaN  ...       0.119        0.066   \n",
       "490      25.0       0.243     17.0     0.087  ...       0.164        0.092   \n",
       "491       NaN         NaN      NaN       NaN  ...       0.086        0.058   \n",
       "\n",
       "     Swing%_2006  WAR_2006  Z-Contact%_2006  Z-Swing%_2006  Zone%_2006  \\\n",
       "0          0.605       2.0            0.889          0.826       0.497   \n",
       "1          0.495      -0.8            0.894          0.697       0.520   \n",
       "2          0.420       2.5            0.932          0.624       0.540   \n",
       "3          0.431      -0.6            0.957          0.592       0.550   \n",
       "4          0.496       1.2            0.905          0.708       0.513   \n",
       "..           ...       ...              ...            ...         ...   \n",
       "487        0.551       1.0            0.827          0.777       0.470   \n",
       "488        0.516       0.2            0.895          0.725       0.517   \n",
       "489        0.507      -0.3            0.920          0.708       0.543   \n",
       "490        0.439       0.8            0.877          0.630       0.530   \n",
       "491        0.490       1.6            0.926          0.670       0.543   \n",
       "\n",
       "     wOBA_2006  wRAA_2006  wRC_2006  \n",
       "0        0.330       -0.5      68.0  \n",
       "1        0.302       -9.8      39.0  \n",
       "2        0.323       -4.6      71.0  \n",
       "3        0.292      -16.0      43.0  \n",
       "4        0.323       -3.3      52.0  \n",
       "..         ...        ...       ...  \n",
       "487      0.358        6.8      45.0  \n",
       "488      0.338        2.7      67.0  \n",
       "489      0.263      -27.0      31.0  \n",
       "490      0.312       -4.1      26.0  \n",
       "491      0.309      -11.1      62.0  \n",
       "\n",
       "[492 rows x 163 columns]"
      ]
     },
     "execution_count": 160,
     "metadata": {},
     "output_type": "execute_result"
    }
   ],
   "source": [
    "hit_data_pivot = hit_data_pivot.reset_index()\n",
    "hit_data_pivot"
   ]
  },
  {
   "cell_type": "code",
   "execution_count": 103,
   "metadata": {},
   "outputs": [
    {
     "data": {
      "text/html": [
       "<div>\n",
       "<style scoped>\n",
       "    .dataframe tbody tr th:only-of-type {\n",
       "        vertical-align: middle;\n",
       "    }\n",
       "\n",
       "    .dataframe tbody tr th {\n",
       "        vertical-align: top;\n",
       "    }\n",
       "\n",
       "    .dataframe thead tr th {\n",
       "        text-align: left;\n",
       "    }\n",
       "</style>\n",
       "<table border=\"1\" class=\"dataframe\">\n",
       "  <thead>\n",
       "    <tr>\n",
       "      <th></th>\n",
       "      <th>Season</th>\n",
       "      <th>Name</th>\n",
       "      <th>0</th>\n",
       "      <th>1</th>\n",
       "      <th>2</th>\n",
       "      <th>3</th>\n",
       "      <th>4</th>\n",
       "      <th>5</th>\n",
       "      <th>6</th>\n",
       "      <th>7</th>\n",
       "      <th>...</th>\n",
       "      <th>79</th>\n",
       "      <th>80</th>\n",
       "      <th>81</th>\n",
       "      <th>82</th>\n",
       "      <th>83</th>\n",
       "      <th>84</th>\n",
       "      <th>85</th>\n",
       "      <th>86</th>\n",
       "      <th>87</th>\n",
       "      <th>88</th>\n",
       "    </tr>\n",
       "    <tr>\n",
       "      <th></th>\n",
       "      <th></th>\n",
       "      <th></th>\n",
       "      <th>0</th>\n",
       "      <th>0</th>\n",
       "      <th>0</th>\n",
       "      <th>0</th>\n",
       "      <th>0</th>\n",
       "      <th>0</th>\n",
       "      <th>0</th>\n",
       "      <th>0</th>\n",
       "      <th>...</th>\n",
       "      <th>0</th>\n",
       "      <th>0</th>\n",
       "      <th>0</th>\n",
       "      <th>0</th>\n",
       "      <th>0</th>\n",
       "      <th>0</th>\n",
       "      <th>0</th>\n",
       "      <th>0</th>\n",
       "      <th>0</th>\n",
       "      <th>0</th>\n",
       "    </tr>\n",
       "  </thead>\n",
       "  <tbody>\n",
       "    <tr>\n",
       "      <th>0</th>\n",
       "      <td>2004.0</td>\n",
       "      <td>Mark DeRosa</td>\n",
       "      <td>2004</td>\n",
       "      <td>Mark DeRosa</td>\n",
       "      <td>Braves</td>\n",
       "      <td>29</td>\n",
       "      <td>118</td>\n",
       "      <td>309</td>\n",
       "      <td>345</td>\n",
       "      <td>74</td>\n",
       "      <td>...</td>\n",
       "      <td>29 - 29</td>\n",
       "      <td>-20.7</td>\n",
       "      <td>0.9</td>\n",
       "      <td>0.1</td>\n",
       "      <td>0.297</td>\n",
       "      <td>0.293</td>\n",
       "      <td>0.41</td>\n",
       "      <td>0.135</td>\n",
       "      <td>0.677</td>\n",
       "      <td>0.188</td>\n",
       "    </tr>\n",
       "    <tr>\n",
       "      <th>1</th>\n",
       "      <td>2005.0</td>\n",
       "      <td>Mark DeRosa</td>\n",
       "      <td>2005</td>\n",
       "      <td>Mark DeRosa</td>\n",
       "      <td>Rangers</td>\n",
       "      <td>30</td>\n",
       "      <td>66</td>\n",
       "      <td>148</td>\n",
       "      <td>166</td>\n",
       "      <td>36</td>\n",
       "      <td>...</td>\n",
       "      <td>30 - 30</td>\n",
       "      <td>-1.5</td>\n",
       "      <td>0.5</td>\n",
       "      <td>-0.9</td>\n",
       "      <td>0.407</td>\n",
       "      <td>0.363</td>\n",
       "      <td>0.23</td>\n",
       "      <td>0.133</td>\n",
       "      <td>0.549</td>\n",
       "      <td>0.319</td>\n",
       "    </tr>\n",
       "    <tr>\n",
       "      <th>2</th>\n",
       "      <td>2006.0</td>\n",
       "      <td>Mark DeRosa</td>\n",
       "      <td>2006</td>\n",
       "      <td>Mark DeRosa</td>\n",
       "      <td>Rangers</td>\n",
       "      <td>31</td>\n",
       "      <td>136</td>\n",
       "      <td>520</td>\n",
       "      <td>572</td>\n",
       "      <td>154</td>\n",
       "      <td>...</td>\n",
       "      <td>31 - 31</td>\n",
       "      <td>3.2</td>\n",
       "      <td>1.9</td>\n",
       "      <td>-0.4</td>\n",
       "      <td>0.405</td>\n",
       "      <td>0.369</td>\n",
       "      <td>0.226</td>\n",
       "      <td>0.098</td>\n",
       "      <td>0.605</td>\n",
       "      <td>0.298</td>\n",
       "    </tr>\n",
       "  </tbody>\n",
       "</table>\n",
       "<p>3 rows × 91 columns</p>\n",
       "</div>"
      ],
      "text/plain": [
       "   Season         Name     0            1        2   3    4    5    6    7  \\\n",
       "                           0            0        0   0    0    0    0    0   \n",
       "0  2004.0  Mark DeRosa  2004  Mark DeRosa   Braves  29  118  309  345   74   \n",
       "1  2005.0  Mark DeRosa  2005  Mark DeRosa  Rangers  30   66  148  166   36   \n",
       "2  2006.0  Mark DeRosa  2006  Mark DeRosa  Rangers  31  136  520  572  154   \n",
       "\n",
       "   ...       79    80   81   82     83     84     85     86     87     88  \n",
       "   ...        0     0    0    0      0      0      0      0      0      0  \n",
       "0  ...  29 - 29 -20.7  0.9  0.1  0.297  0.293   0.41  0.135  0.677  0.188  \n",
       "1  ...  30 - 30  -1.5  0.5 -0.9  0.407  0.363   0.23  0.133  0.549  0.319  \n",
       "2  ...  31 - 31   3.2  1.9 -0.4  0.405  0.369  0.226  0.098  0.605  0.298  \n",
       "\n",
       "[3 rows x 91 columns]"
      ]
     },
     "execution_count": 103,
     "metadata": {},
     "output_type": "execute_result"
    }
   ],
   "source": [
    "#df = df.groupby('device_id')['p_food', 'p_phone'].apply(lambda x: pd.DataFrame(x.values)).unstack().reset_index()\n",
    "#df.columns = df.columns.droplevel()\n",
    "#df.columns = ['device_id','p_food_1', 'p_food_2', 'p_phone_1','p_phone_2']\n",
    "\n",
    "\n",
    "hit_data_trans[hit_data_trans['Name']=='Mark DeRosa'].groupby(['Season','Name']).apply(lambda x: pd.DataFrame(x.values)).unstack(2).reset_index()"
   ]
  },
  {
   "cell_type": "code",
   "execution_count": 161,
   "metadata": {},
   "outputs": [
    {
     "name": "stdout",
     "output_type": "stream",
     "text": [
      "2004\n",
      "2005\n",
      "2006\n"
     ]
    }
   ],
   "source": [
    "for s in range(2007-3,2007):\n",
    "    print(s)"
   ]
  },
  {
   "cell_type": "code",
   "execution_count": 200,
   "metadata": {},
   "outputs": [],
   "source": [
    "seasons = [2007,2008,2009,2010,2011,2012,2013,2014,2015,2016,2017,2018,2019]\n",
    "\n",
    "list_hit_data = []\n",
    "\n",
    "for season in seasons:\n",
    "    # get prev 3 season range\n",
    "    begin_range = season - 3\n",
    "    end_range = season - 1\n",
    "    \n",
    "    # get current season stats\n",
    "    hit_data = batting_stats(season)\n",
    "    \n",
    "    # get previous seasons\n",
    "    hit_data_trans = batting_stats(begin_range, end_range)\n",
    "    \n",
    "    # clean up gross columns in both df's\n",
    "    hit_data.drop(list(hit_data.filter(regex='(pi)')),axis=1,inplace=True)\n",
    "    hit_data.drop(list(hit_data.filter(regex='(pfx)')),axis=1,inplace=True)\n",
    "    hit_data.drop(['IFFB','Pitches','Balls','Strikes','IFH','BUH',\n",
    "                   'FB% (Pitch)','FBv','SL%','SLv','CT%','CTv','CB%','CBv','CH%',\n",
    "                   'CHv','SF%','SFv','KN%','KNv','XX%','wFB','wSL','wCT','wCB','wCH',\n",
    "                   'wSF','wKN','wFB/C','wSL/C','wCT/C','wCB/C','wCH/C','wSF/C','wKN/C',\n",
    "                   'Clutch','BUH%','TTO%','GB','FB','LD','BU','OBP','SLG',\n",
    "                   'GB/FB','Bat','Rep','Pos','Dol','Spd','wRC+','WPA','-WPA',\n",
    "                   '+WPA','RE24','REW','pLI','phLI','PH','WPA/LI','PO%','BsR','Pace','Def',\n",
    "                   'wSB','UBR','Off','Lg','wGDP'\n",
    "                  ],axis=1,inplace=True)\n",
    "        \n",
    "    hit_data_trans.drop(list(hit_data_trans.filter(regex='(pi)')),axis=1,inplace=True)\n",
    "    hit_data_trans.drop(list(hit_data_trans.filter(regex='(pfx)')),axis=1,inplace=True)\n",
    "    hit_data_trans.drop(['IFFB','Pitches','Balls','Strikes','IFH','BUH',\n",
    "                   'FB% (Pitch)','FBv','SL%','SLv','CT%','CTv','CB%','CBv','CH%',\n",
    "                   'CHv','SF%','SFv','KN%','KNv','XX%','wFB','wSL','wCT','wCB','wCH',\n",
    "                   'wSF','wKN','wFB/C','wSL/C','wCT/C','wCB/C','wCH/C','wSF/C','wKN/C',\n",
    "                   'Clutch','BUH%','TTO%','GB','FB','LD','BU','OBP','SLG',\n",
    "                   'GB/FB','Bat','Rep','Pos','Dol','Spd','wRC+','WPA','-WPA',\n",
    "                   '+WPA','RE24','REW','pLI','phLI','PH','WPA/LI','PO%','BsR','Pace','Def',\n",
    "                   'wSB','UBR','Off','Lg','wGDP'\n",
    "                  ],axis=1,inplace=True)\n",
    "    \n",
    "    # filter out rows, this mostly hits pitchers and players w/o much playing time\n",
    "    hit_data = hit_data[hit_data['PA'] >= 180]\n",
    "    hit_data_trans = hit_data_trans[hit_data_trans['PA'] >= 180]\n",
    "\n",
    "    \n",
    "    # pivot the previous 3 years\n",
    "    hit_data_pivot = pd.pivot_table(hit_data_trans,index='Name',columns='Season')\n",
    "    hit_data_pivot = hit_data_pivot.sort_index(axis=1, level=1)\n",
    "    hit_data_pivot.columns = [f'{x}_{season-int(y)}' for x,y in hit_data_pivot.columns]\n",
    "    hit_data_pivot = hit_data_pivot.reset_index()\n",
    "    \n",
    "    # merge current season w/ previous 3 seasons\n",
    "    merged = hit_data.merge(hit_data_pivot, how='left', on='Name')\n",
    "    \n",
    "    list_hit_data.append(merged)\n",
    "    \n",
    "    \n",
    "all_hit = pd.concat(list_hit_data, ignore_index=True)\n",
    "    "
   ]
  },
  {
   "cell_type": "code",
   "execution_count": 305,
   "metadata": {},
   "outputs": [],
   "source": [
    "all_hit.to_csv(f'all_hit_data.csv',index=False)"
   ]
  },
  {
   "cell_type": "code",
   "execution_count": 2,
   "metadata": {},
   "outputs": [],
   "source": [
    "all_hit = pd.read_csv(f'all_hit_data.csv')"
   ]
  },
  {
   "cell_type": "code",
   "execution_count": 15,
   "metadata": {},
   "outputs": [
    {
     "data": {
      "text/plain": [
       "0       9.6\n",
       "1       8.4\n",
       "2       8.0\n",
       "3       7.9\n",
       "4       7.7\n",
       "       ... \n",
       "4793   -1.3\n",
       "4794   -1.4\n",
       "4795   -1.5\n",
       "4796   -1.7\n",
       "4797   -2.1\n",
       "Name: WAR, Length: 4798, dtype: float64"
      ]
     },
     "execution_count": 15,
     "metadata": {},
     "output_type": "execute_result"
    }
   ],
   "source": [
    "all_hit['WAR']"
   ]
  },
  {
   "cell_type": "code",
   "execution_count": 16,
   "metadata": {},
   "outputs": [
    {
     "data": {
      "text/plain": [
       "<seaborn.axisgrid.FacetGrid at 0x1950719ad90>"
      ]
     },
     "execution_count": 16,
     "metadata": {},
     "output_type": "execute_result"
    },
    {
     "data": {
      "image/png": "[encoded data removed]",
      "text/plain": [
       "<Figure size 360x360 with 1 Axes>"
      ]
     },
     "metadata": {
      "needs_background": "light"
     },
     "output_type": "display_data"
    }
   ],
   "source": [
    "sns.relplot(x='Age',y='WAR',data=all_hit[all_hit['WAR_3']>4])"
   ]
  },
  {
   "cell_type": "code",
   "execution_count": 21,
   "metadata": {},
   "outputs": [
    {
     "data": {
      "text/plain": [
       "<seaborn.axisgrid.FacetGrid at 0x195045bd850>"
      ]
     },
     "execution_count": 21,
     "metadata": {},
     "output_type": "execute_result"
    },
    {
     "data": {
      "image/png": "[encoded data removed]",
      "text/plain": [
       "<Figure size 360x360 with 1 Axes>"
      ]
     },
     "metadata": {
      "needs_background": "light"
     },
     "output_type": "display_data"
    }
   ],
   "source": [
    "sns.relplot(x='Age',y='WAR',data=all_hit[all_hit['WAR_3']>2])"
   ]
  },
  {
   "cell_type": "code",
   "execution_count": 20,
   "metadata": {},
   "outputs": [
    {
     "data": {
      "text/plain": [
       "<matplotlib.axes._subplots.AxesSubplot at 0x1950457f520>"
      ]
     },
     "execution_count": 20,
     "metadata": {},
     "output_type": "execute_result"
    },
    {
     "data": {
      "image/png": "[encoded data removed]",
      "text/plain": [
       "<Figure size 432x288 with 1 Axes>"
      ]
     },
     "metadata": {
      "needs_background": "light"
     },
     "output_type": "display_data"
    }
   ],
   "source": [
    "sns.distplot([all_hit['AB']])"
   ]
  },
  {
   "cell_type": "code",
   "execution_count": 201,
   "metadata": {},
   "outputs": [
    {
     "name": "stdout",
     "output_type": "stream",
     "text": [
      "0 Season\n",
      "1 Name\n",
      "2 Team\n",
      "3 Age\n",
      "4 G\n",
      "5 AB\n",
      "6 PA\n",
      "7 H\n",
      "8 1B\n",
      "9 2B\n",
      "10 3B\n",
      "11 HR\n",
      "12 R\n",
      "13 RBI\n",
      "14 BB\n",
      "15 IBB\n",
      "16 SO\n",
      "17 HBP\n",
      "18 SF\n",
      "19 SH\n",
      "20 GDP\n",
      "21 SB\n",
      "22 CS\n",
      "23 AVG\n",
      "24 BB%\n",
      "25 K%\n",
      "26 BB/K\n",
      "27 OPS\n",
      "28 ISO\n",
      "29 BABIP\n",
      "30 LD%\n",
      "31 GB%\n",
      "32 FB%\n",
      "33 IFFB%\n",
      "34 HR/FB\n",
      "35 IFH%\n",
      "36 wOBA\n",
      "37 wRAA\n",
      "38 wRC\n",
      "39 Fld\n",
      "40 RAR\n",
      "41 WAR\n",
      "42 O-Swing%\n",
      "43 Z-Swing%\n",
      "44 Swing%\n",
      "45 O-Contact%\n",
      "46 Z-Contact%\n",
      "47 Contact%\n",
      "48 Zone%\n",
      "49 F-Strike%\n",
      "50 SwStr%\n",
      "51 Age Rng\n",
      "52 Pull%\n",
      "53 Cent%\n",
      "54 Oppo%\n",
      "55 Soft%\n",
      "56 Med%\n",
      "57 Hard%\n",
      "58 1B_3\n",
      "59 2B_3\n",
      "60 3B_3\n",
      "61 AB_3\n",
      "62 AVG_3\n",
      "63 Age_3\n",
      "64 BABIP_3\n",
      "65 BB_3\n",
      "66 BB%_3\n",
      "67 BB/K_3\n",
      "68 CS_3\n",
      "69 Cent%_3\n",
      "70 Contact%_3\n",
      "71 F-Strike%_3\n",
      "72 FB%_3\n",
      "73 Fld_3\n",
      "74 G_3\n",
      "75 GB%_3\n",
      "76 GDP_3\n",
      "77 H_3\n",
      "78 HBP_3\n",
      "79 HR_3\n",
      "80 HR/FB_3\n",
      "81 Hard%_3\n",
      "82 IBB_3\n",
      "83 IFFB%_3\n",
      "84 IFH%_3\n",
      "85 ISO_3\n",
      "86 K%_3\n",
      "87 LD%_3\n",
      "88 Med%_3\n",
      "89 O-Contact%_3\n",
      "90 O-Swing%_3\n",
      "91 OPS_3\n",
      "92 Oppo%_3\n",
      "93 PA_3\n",
      "94 Pull%_3\n",
      "95 R_3\n",
      "96 RAR_3\n",
      "97 RBI_3\n",
      "98 SB_3\n",
      "99 SF_3\n",
      "100 SH_3\n",
      "101 SO_3\n",
      "102 Soft%_3\n",
      "103 SwStr%_3\n",
      "104 Swing%_3\n",
      "105 WAR_3\n",
      "106 Z-Contact%_3\n",
      "107 Z-Swing%_3\n",
      "108 Zone%_3\n",
      "109 wOBA_3\n",
      "110 wRAA_3\n",
      "111 wRC_3\n",
      "112 1B_2\n",
      "113 2B_2\n",
      "114 3B_2\n",
      "115 AB_2\n",
      "116 AVG_2\n",
      "117 Age_2\n",
      "118 BABIP_2\n",
      "119 BB_2\n",
      "120 BB%_2\n",
      "121 BB/K_2\n",
      "122 CS_2\n",
      "123 Cent%_2\n",
      "124 Contact%_2\n",
      "125 F-Strike%_2\n",
      "126 FB%_2\n",
      "127 Fld_2\n",
      "128 G_2\n",
      "129 GB%_2\n",
      "130 GDP_2\n",
      "131 H_2\n",
      "132 HBP_2\n",
      "133 HR_2\n",
      "134 HR/FB_2\n",
      "135 Hard%_2\n",
      "136 IBB_2\n",
      "137 IFFB%_2\n",
      "138 IFH%_2\n",
      "139 ISO_2\n",
      "140 K%_2\n",
      "141 LD%_2\n",
      "142 Med%_2\n",
      "143 O-Contact%_2\n",
      "144 O-Swing%_2\n",
      "145 OPS_2\n",
      "146 Oppo%_2\n",
      "147 PA_2\n",
      "148 Pull%_2\n",
      "149 R_2\n",
      "150 RAR_2\n",
      "151 RBI_2\n",
      "152 SB_2\n",
      "153 SF_2\n",
      "154 SH_2\n",
      "155 SO_2\n",
      "156 Soft%_2\n",
      "157 SwStr%_2\n",
      "158 Swing%_2\n",
      "159 WAR_2\n",
      "160 Z-Contact%_2\n",
      "161 Z-Swing%_2\n",
      "162 Zone%_2\n",
      "163 wOBA_2\n",
      "164 wRAA_2\n",
      "165 wRC_2\n",
      "166 1B_1\n",
      "167 2B_1\n",
      "168 3B_1\n",
      "169 AB_1\n",
      "170 AVG_1\n",
      "171 Age_1\n",
      "172 BABIP_1\n",
      "173 BB_1\n",
      "174 BB%_1\n",
      "175 BB/K_1\n",
      "176 CS_1\n",
      "177 Cent%_1\n",
      "178 Contact%_1\n",
      "179 F-Strike%_1\n",
      "180 FB%_1\n",
      "181 Fld_1\n",
      "182 G_1\n",
      "183 GB%_1\n",
      "184 GDP_1\n",
      "185 H_1\n",
      "186 HBP_1\n",
      "187 HR_1\n",
      "188 HR/FB_1\n",
      "189 Hard%_1\n",
      "190 IBB_1\n",
      "191 IFFB%_1\n",
      "192 IFH%_1\n",
      "193 ISO_1\n",
      "194 K%_1\n",
      "195 LD%_1\n",
      "196 Med%_1\n",
      "197 O-Contact%_1\n",
      "198 O-Swing%_1\n",
      "199 OPS_1\n",
      "200 Oppo%_1\n",
      "201 PA_1\n",
      "202 Pull%_1\n",
      "203 R_1\n",
      "204 RAR_1\n",
      "205 RBI_1\n",
      "206 SB_1\n",
      "207 SF_1\n",
      "208 SH_1\n",
      "209 SO_1\n",
      "210 Soft%_1\n",
      "211 SwStr%_1\n",
      "212 Swing%_1\n",
      "213 WAR_1\n",
      "214 Z-Contact%_1\n",
      "215 Z-Swing%_1\n",
      "216 Zone%_1\n",
      "217 wOBA_1\n",
      "218 wRAA_1\n",
      "219 wRC_1\n"
     ]
    }
   ],
   "source": [
    "for i,column in enumerate(all_hit.columns):\n",
    "    print(i,column)"
   ]
  },
  {
   "cell_type": "code",
   "execution_count": 141,
   "metadata": {},
   "outputs": [
    {
     "data": {
      "text/html": [
       "<div>\n",
       "<style scoped>\n",
       "    .dataframe tbody tr th:only-of-type {\n",
       "        vertical-align: middle;\n",
       "    }\n",
       "\n",
       "    .dataframe tbody tr th {\n",
       "        vertical-align: top;\n",
       "    }\n",
       "\n",
       "    .dataframe thead th {\n",
       "        text-align: right;\n",
       "    }\n",
       "</style>\n",
       "<table border=\"1\" class=\"dataframe\">\n",
       "  <thead>\n",
       "    <tr style=\"text-align: right;\">\n",
       "      <th></th>\n",
       "      <th>Season</th>\n",
       "      <th>Name</th>\n",
       "      <th>Team</th>\n",
       "      <th>Age</th>\n",
       "      <th>G</th>\n",
       "      <th>AB</th>\n",
       "      <th>PA</th>\n",
       "      <th>H</th>\n",
       "      <th>1B</th>\n",
       "      <th>2B</th>\n",
       "      <th>...</th>\n",
       "      <th>Soft%_1</th>\n",
       "      <th>SwStr%_1</th>\n",
       "      <th>Swing%_1</th>\n",
       "      <th>WAR_1</th>\n",
       "      <th>Z-Contact%_1</th>\n",
       "      <th>Z-Swing%_1</th>\n",
       "      <th>Zone%_1</th>\n",
       "      <th>wOBA_1</th>\n",
       "      <th>wRAA_1</th>\n",
       "      <th>wRC_1</th>\n",
       "    </tr>\n",
       "  </thead>\n",
       "  <tbody>\n",
       "    <tr>\n",
       "      <th>0</th>\n",
       "      <td>2007.0</td>\n",
       "      <td>Alex Rodriguez</td>\n",
       "      <td>Yankees</td>\n",
       "      <td>31.0</td>\n",
       "      <td>158.0</td>\n",
       "      <td>583.0</td>\n",
       "      <td>708.0</td>\n",
       "      <td>183.0</td>\n",
       "      <td>98.0</td>\n",
       "      <td>31.0</td>\n",
       "      <td>...</td>\n",
       "      <td>0.089</td>\n",
       "      <td>0.110</td>\n",
       "      <td>0.434</td>\n",
       "      <td>3.8</td>\n",
       "      <td>0.819</td>\n",
       "      <td>0.677</td>\n",
       "      <td>0.481</td>\n",
       "      <td>0.389</td>\n",
       "      <td>33.3</td>\n",
       "      <td>118.0</td>\n",
       "    </tr>\n",
       "    <tr>\n",
       "      <th>1</th>\n",
       "      <td>2007.0</td>\n",
       "      <td>David Wright</td>\n",
       "      <td>Mets</td>\n",
       "      <td>24.0</td>\n",
       "      <td>160.0</td>\n",
       "      <td>604.0</td>\n",
       "      <td>711.0</td>\n",
       "      <td>196.0</td>\n",
       "      <td>123.0</td>\n",
       "      <td>42.0</td>\n",
       "      <td>...</td>\n",
       "      <td>0.073</td>\n",
       "      <td>0.069</td>\n",
       "      <td>0.443</td>\n",
       "      <td>4.7</td>\n",
       "      <td>0.902</td>\n",
       "      <td>0.666</td>\n",
       "      <td>0.534</td>\n",
       "      <td>0.382</td>\n",
       "      <td>28.7</td>\n",
       "      <td>112.0</td>\n",
       "    </tr>\n",
       "    <tr>\n",
       "      <th>2</th>\n",
       "      <td>2007.0</td>\n",
       "      <td>Magglio Ordonez</td>\n",
       "      <td>Tigers</td>\n",
       "      <td>33.0</td>\n",
       "      <td>157.0</td>\n",
       "      <td>595.0</td>\n",
       "      <td>679.0</td>\n",
       "      <td>216.0</td>\n",
       "      <td>134.0</td>\n",
       "      <td>54.0</td>\n",
       "      <td>...</td>\n",
       "      <td>0.090</td>\n",
       "      <td>0.081</td>\n",
       "      <td>0.515</td>\n",
       "      <td>1.2</td>\n",
       "      <td>0.907</td>\n",
       "      <td>0.775</td>\n",
       "      <td>0.523</td>\n",
       "      <td>0.355</td>\n",
       "      <td>12.7</td>\n",
       "      <td>94.0</td>\n",
       "    </tr>\n",
       "    <tr>\n",
       "      <th>3</th>\n",
       "      <td>2007.0</td>\n",
       "      <td>Curtis Granderson</td>\n",
       "      <td>Tigers</td>\n",
       "      <td>26.0</td>\n",
       "      <td>158.0</td>\n",
       "      <td>612.0</td>\n",
       "      <td>676.0</td>\n",
       "      <td>185.0</td>\n",
       "      <td>101.0</td>\n",
       "      <td>38.0</td>\n",
       "      <td>...</td>\n",
       "      <td>0.094</td>\n",
       "      <td>0.123</td>\n",
       "      <td>0.425</td>\n",
       "      <td>4.0</td>\n",
       "      <td>0.810</td>\n",
       "      <td>0.632</td>\n",
       "      <td>0.512</td>\n",
       "      <td>0.335</td>\n",
       "      <td>1.9</td>\n",
       "      <td>87.0</td>\n",
       "    </tr>\n",
       "    <tr>\n",
       "      <th>4</th>\n",
       "      <td>2007.0</td>\n",
       "      <td>Albert Pujols</td>\n",
       "      <td>Cardinals</td>\n",
       "      <td>27.0</td>\n",
       "      <td>158.0</td>\n",
       "      <td>565.0</td>\n",
       "      <td>679.0</td>\n",
       "      <td>185.0</td>\n",
       "      <td>114.0</td>\n",
       "      <td>38.0</td>\n",
       "      <td>...</td>\n",
       "      <td>0.078</td>\n",
       "      <td>0.055</td>\n",
       "      <td>0.417</td>\n",
       "      <td>8.1</td>\n",
       "      <td>0.926</td>\n",
       "      <td>0.651</td>\n",
       "      <td>0.491</td>\n",
       "      <td>0.447</td>\n",
       "      <td>62.6</td>\n",
       "      <td>142.0</td>\n",
       "    </tr>\n",
       "    <tr>\n",
       "      <th>...</th>\n",
       "      <td>...</td>\n",
       "      <td>...</td>\n",
       "      <td>...</td>\n",
       "      <td>...</td>\n",
       "      <td>...</td>\n",
       "      <td>...</td>\n",
       "      <td>...</td>\n",
       "      <td>...</td>\n",
       "      <td>...</td>\n",
       "      <td>...</td>\n",
       "      <td>...</td>\n",
       "      <td>...</td>\n",
       "      <td>...</td>\n",
       "      <td>...</td>\n",
       "      <td>...</td>\n",
       "      <td>...</td>\n",
       "      <td>...</td>\n",
       "      <td>...</td>\n",
       "      <td>...</td>\n",
       "      <td>...</td>\n",
       "      <td>...</td>\n",
       "    </tr>\n",
       "    <tr>\n",
       "      <th>4793</th>\n",
       "      <td>2019.0</td>\n",
       "      <td>Chris Davis</td>\n",
       "      <td>Orioles</td>\n",
       "      <td>33.0</td>\n",
       "      <td>105.0</td>\n",
       "      <td>307.0</td>\n",
       "      <td>352.0</td>\n",
       "      <td>55.0</td>\n",
       "      <td>34.0</td>\n",
       "      <td>9.0</td>\n",
       "      <td>...</td>\n",
       "      <td>0.131</td>\n",
       "      <td>0.142</td>\n",
       "      <td>0.451</td>\n",
       "      <td>-3.2</td>\n",
       "      <td>0.783</td>\n",
       "      <td>0.650</td>\n",
       "      <td>0.432</td>\n",
       "      <td>0.239</td>\n",
       "      <td>-32.3</td>\n",
       "      <td>29.0</td>\n",
       "    </tr>\n",
       "    <tr>\n",
       "      <th>4794</th>\n",
       "      <td>2019.0</td>\n",
       "      <td>Curtis Granderson</td>\n",
       "      <td>Marlins</td>\n",
       "      <td>38.0</td>\n",
       "      <td>138.0</td>\n",
       "      <td>317.0</td>\n",
       "      <td>363.0</td>\n",
       "      <td>58.0</td>\n",
       "      <td>28.0</td>\n",
       "      <td>17.0</td>\n",
       "      <td>...</td>\n",
       "      <td>0.155</td>\n",
       "      <td>0.099</td>\n",
       "      <td>0.389</td>\n",
       "      <td>0.9</td>\n",
       "      <td>0.836</td>\n",
       "      <td>0.589</td>\n",
       "      <td>0.420</td>\n",
       "      <td>0.341</td>\n",
       "      <td>8.8</td>\n",
       "      <td>56.0</td>\n",
       "    </tr>\n",
       "    <tr>\n",
       "      <th>4795</th>\n",
       "      <td>2019.0</td>\n",
       "      <td>Elias Diaz</td>\n",
       "      <td>Pirates</td>\n",
       "      <td>28.0</td>\n",
       "      <td>101.0</td>\n",
       "      <td>303.0</td>\n",
       "      <td>332.0</td>\n",
       "      <td>73.0</td>\n",
       "      <td>57.0</td>\n",
       "      <td>14.0</td>\n",
       "      <td>...</td>\n",
       "      <td>0.195</td>\n",
       "      <td>0.095</td>\n",
       "      <td>0.465</td>\n",
       "      <td>1.8</td>\n",
       "      <td>0.899</td>\n",
       "      <td>0.692</td>\n",
       "      <td>0.429</td>\n",
       "      <td>0.340</td>\n",
       "      <td>5.7</td>\n",
       "      <td>38.0</td>\n",
       "    </tr>\n",
       "    <tr>\n",
       "      <th>4796</th>\n",
       "      <td>2019.0</td>\n",
       "      <td>Lewis Brinson</td>\n",
       "      <td>Marlins</td>\n",
       "      <td>25.0</td>\n",
       "      <td>75.0</td>\n",
       "      <td>226.0</td>\n",
       "      <td>248.0</td>\n",
       "      <td>39.0</td>\n",
       "      <td>29.0</td>\n",
       "      <td>9.0</td>\n",
       "      <td>...</td>\n",
       "      <td>0.189</td>\n",
       "      <td>0.172</td>\n",
       "      <td>0.529</td>\n",
       "      <td>-1.0</td>\n",
       "      <td>0.764</td>\n",
       "      <td>0.723</td>\n",
       "      <td>0.441</td>\n",
       "      <td>0.248</td>\n",
       "      <td>-22.1</td>\n",
       "      <td>25.0</td>\n",
       "    </tr>\n",
       "    <tr>\n",
       "      <th>4797</th>\n",
       "      <td>2019.0</td>\n",
       "      <td>Jeff Mathis</td>\n",
       "      <td>Rangers</td>\n",
       "      <td>36.0</td>\n",
       "      <td>88.0</td>\n",
       "      <td>228.0</td>\n",
       "      <td>244.0</td>\n",
       "      <td>36.0</td>\n",
       "      <td>25.0</td>\n",
       "      <td>9.0</td>\n",
       "      <td>...</td>\n",
       "      <td>0.159</td>\n",
       "      <td>0.131</td>\n",
       "      <td>0.440</td>\n",
       "      <td>0.9</td>\n",
       "      <td>0.798</td>\n",
       "      <td>0.674</td>\n",
       "      <td>0.420</td>\n",
       "      <td>0.243</td>\n",
       "      <td>-12.7</td>\n",
       "      <td>13.0</td>\n",
       "    </tr>\n",
       "  </tbody>\n",
       "</table>\n",
       "<p>4798 rows × 220 columns</p>\n",
       "</div>"
      ],
      "text/plain": [
       "      Season               Name       Team   Age      G     AB     PA      H  \\\n",
       "0     2007.0     Alex Rodriguez    Yankees  31.0  158.0  583.0  708.0  183.0   \n",
       "1     2007.0       David Wright       Mets  24.0  160.0  604.0  711.0  196.0   \n",
       "2     2007.0    Magglio Ordonez     Tigers  33.0  157.0  595.0  679.0  216.0   \n",
       "3     2007.0  Curtis Granderson     Tigers  26.0  158.0  612.0  676.0  185.0   \n",
       "4     2007.0      Albert Pujols  Cardinals  27.0  158.0  565.0  679.0  185.0   \n",
       "...      ...                ...        ...   ...    ...    ...    ...    ...   \n",
       "4793  2019.0        Chris Davis    Orioles  33.0  105.0  307.0  352.0   55.0   \n",
       "4794  2019.0  Curtis Granderson    Marlins  38.0  138.0  317.0  363.0   58.0   \n",
       "4795  2019.0         Elias Diaz    Pirates  28.0  101.0  303.0  332.0   73.0   \n",
       "4796  2019.0      Lewis Brinson    Marlins  25.0   75.0  226.0  248.0   39.0   \n",
       "4797  2019.0        Jeff Mathis    Rangers  36.0   88.0  228.0  244.0   36.0   \n",
       "\n",
       "         1B    2B  ...  Soft%_1  SwStr%_1  Swing%_1  WAR_1  Z-Contact%_1  \\\n",
       "0      98.0  31.0  ...    0.089     0.110     0.434    3.8         0.819   \n",
       "1     123.0  42.0  ...    0.073     0.069     0.443    4.7         0.902   \n",
       "2     134.0  54.0  ...    0.090     0.081     0.515    1.2         0.907   \n",
       "3     101.0  38.0  ...    0.094     0.123     0.425    4.0         0.810   \n",
       "4     114.0  38.0  ...    0.078     0.055     0.417    8.1         0.926   \n",
       "...     ...   ...  ...      ...       ...       ...    ...           ...   \n",
       "4793   34.0   9.0  ...    0.131     0.142     0.451   -3.2         0.783   \n",
       "4794   28.0  17.0  ...    0.155     0.099     0.389    0.9         0.836   \n",
       "4795   57.0  14.0  ...    0.195     0.095     0.465    1.8         0.899   \n",
       "4796   29.0   9.0  ...    0.189     0.172     0.529   -1.0         0.764   \n",
       "4797   25.0   9.0  ...    0.159     0.131     0.440    0.9         0.798   \n",
       "\n",
       "      Z-Swing%_1  Zone%_1  wOBA_1  wRAA_1  wRC_1  \n",
       "0          0.677    0.481   0.389    33.3  118.0  \n",
       "1          0.666    0.534   0.382    28.7  112.0  \n",
       "2          0.775    0.523   0.355    12.7   94.0  \n",
       "3          0.632    0.512   0.335     1.9   87.0  \n",
       "4          0.651    0.491   0.447    62.6  142.0  \n",
       "...          ...      ...     ...     ...    ...  \n",
       "4793       0.650    0.432   0.239   -32.3   29.0  \n",
       "4794       0.589    0.420   0.341     8.8   56.0  \n",
       "4795       0.692    0.429   0.340     5.7   38.0  \n",
       "4796       0.723    0.441   0.248   -22.1   25.0  \n",
       "4797       0.674    0.420   0.243   -12.7   13.0  \n",
       "\n",
       "[4798 rows x 220 columns]"
      ]
     },
     "execution_count": 141,
     "metadata": {},
     "output_type": "execute_result"
    }
   ],
   "source": [
    "all_hit"
   ]
  },
  {
   "cell_type": "code",
   "execution_count": 15,
   "metadata": {},
   "outputs": [],
   "source": [
    "from sklearn.svm import SVR\n",
    "from sklearn.model_selection import GridSearchCV\n",
    "from sklearn.model_selection import learning_curve\n",
    "from sklearn.kernel_ridge import KernelRidge\n",
    "import matplotlib.pyplot as plt\n",
    "from sklearn.preprocessing import OneHotEncoder, StandardScaler\n",
    "from sklearn.impute import SimpleImputer\n",
    "from sklearn.metrics import r2_score, mean_squared_error, make_scorer\n",
    "from sklearn.pipeline import make_pipeline"
   ]
  },
  {
   "cell_type": "code",
   "execution_count": 4,
   "metadata": {},
   "outputs": [],
   "source": [
    "# build train and test sets\n",
    "#model_data = all_hit.filter(regex='(^Age$)|(^AVG$)|(^Season$)|(_\\d$)', axis=1)\n",
    "model_data = all_hit.filter(regex='(^Age$)|(^WAR$)|(^Season$)|(_\\d$)', axis=1)"
   ]
  },
  {
   "cell_type": "code",
   "execution_count": 8,
   "metadata": {},
   "outputs": [
    {
     "data": {
      "text/html": [
       "<div>\n",
       "<style scoped>\n",
       "    .dataframe tbody tr th:only-of-type {\n",
       "        vertical-align: middle;\n",
       "    }\n",
       "\n",
       "    .dataframe tbody tr th {\n",
       "        vertical-align: top;\n",
       "    }\n",
       "\n",
       "    .dataframe thead th {\n",
       "        text-align: right;\n",
       "    }\n",
       "</style>\n",
       "<table border=\"1\" class=\"dataframe\">\n",
       "  <thead>\n",
       "    <tr style=\"text-align: right;\">\n",
       "      <th></th>\n",
       "      <th>WAR</th>\n",
       "      <th>WAR_3</th>\n",
       "      <th>WAR_2</th>\n",
       "      <th>WAR_1</th>\n",
       "    </tr>\n",
       "  </thead>\n",
       "  <tbody>\n",
       "    <tr>\n",
       "      <th>count</th>\n",
       "      <td>4798.000000</td>\n",
       "      <td>2748.000000</td>\n",
       "      <td>3189.000000</td>\n",
       "      <td>3712.000000</td>\n",
       "    </tr>\n",
       "    <tr>\n",
       "      <th>mean</th>\n",
       "      <td>1.597124</td>\n",
       "      <td>2.293013</td>\n",
       "      <td>2.153669</td>\n",
       "      <td>1.979445</td>\n",
       "    </tr>\n",
       "    <tr>\n",
       "      <th>std</th>\n",
       "      <td>1.929800</td>\n",
       "      <td>2.035825</td>\n",
       "      <td>1.966809</td>\n",
       "      <td>1.939724</td>\n",
       "    </tr>\n",
       "    <tr>\n",
       "      <th>min</th>\n",
       "      <td>-3.400000</td>\n",
       "      <td>-3.400000</td>\n",
       "      <td>-3.400000</td>\n",
       "      <td>-3.400000</td>\n",
       "    </tr>\n",
       "    <tr>\n",
       "      <th>25%</th>\n",
       "      <td>0.200000</td>\n",
       "      <td>0.800000</td>\n",
       "      <td>0.700000</td>\n",
       "      <td>0.600000</td>\n",
       "    </tr>\n",
       "    <tr>\n",
       "      <th>50%</th>\n",
       "      <td>1.200000</td>\n",
       "      <td>2.000000</td>\n",
       "      <td>1.900000</td>\n",
       "      <td>1.700000</td>\n",
       "    </tr>\n",
       "    <tr>\n",
       "      <th>75%</th>\n",
       "      <td>2.600000</td>\n",
       "      <td>3.500000</td>\n",
       "      <td>3.300000</td>\n",
       "      <td>3.000000</td>\n",
       "    </tr>\n",
       "    <tr>\n",
       "      <th>max</th>\n",
       "      <td>10.400000</td>\n",
       "      <td>11.900000</td>\n",
       "      <td>10.200000</td>\n",
       "      <td>10.400000</td>\n",
       "    </tr>\n",
       "  </tbody>\n",
       "</table>\n",
       "</div>"
      ],
      "text/plain": [
       "               WAR        WAR_3        WAR_2        WAR_1\n",
       "count  4798.000000  2748.000000  3189.000000  3712.000000\n",
       "mean      1.597124     2.293013     2.153669     1.979445\n",
       "std       1.929800     2.035825     1.966809     1.939724\n",
       "min      -3.400000    -3.400000    -3.400000    -3.400000\n",
       "25%       0.200000     0.800000     0.700000     0.600000\n",
       "50%       1.200000     2.000000     1.900000     1.700000\n",
       "75%       2.600000     3.500000     3.300000     3.000000\n",
       "max      10.400000    11.900000    10.200000    10.400000"
      ]
     },
     "execution_count": 8,
     "metadata": {},
     "output_type": "execute_result"
    }
   ],
   "source": [
    "model_data[['WAR','WAR_3','WAR_2','WAR_1']].describe()"
   ]
  },
  {
   "cell_type": "code",
   "execution_count": 27,
   "metadata": {},
   "outputs": [
    {
     "data": {
      "text/plain": [
       "<matplotlib.axes._subplots.AxesSubplot at 0x150ad5a7d30>"
      ]
     },
     "execution_count": 27,
     "metadata": {},
     "output_type": "execute_result"
    },
    {
     "data": {
      "image/png": "[encoded data removed]",
      "text/plain": [
       "<Figure size 432x288 with 1 Axes>"
      ]
     },
     "metadata": {
      "needs_background": "light"
     },
     "output_type": "display_data"
    }
   ],
   "source": [
    "sns.distplot(model_data['WAR'])"
   ]
  },
  {
   "cell_type": "code",
   "execution_count": 9,
   "metadata": {},
   "outputs": [],
   "source": [
    "from sklearn.feature_selection import SelectKBest\n",
    "from sklearn.feature_selection import f_classif"
   ]
  },
  {
   "cell_type": "code",
   "execution_count": null,
   "metadata": {},
   "outputs": [],
   "source": []
  },
  {
   "cell_type": "code",
   "execution_count": 24,
   "metadata": {},
   "outputs": [
    {
     "data": {
      "text/plain": [
       "0       9.6\n",
       "1       8.4\n",
       "2       8.0\n",
       "3       7.9\n",
       "4       7.7\n",
       "       ... \n",
       "4412   -1.1\n",
       "4413   -1.3\n",
       "4414   -1.3\n",
       "4415   -1.7\n",
       "4416   -3.2\n",
       "Name: WAR, Length: 4417, dtype: float64"
      ]
     },
     "execution_count": 24,
     "metadata": {},
     "output_type": "execute_result"
    }
   ],
   "source": [
    "#model_data[model_data['Season']<2019].drop(['Season','AVG'],axis=1)\n",
    "model_data[model_data['Season']<2019]['WAR']"
   ]
  },
  {
   "cell_type": "code",
   "execution_count": 10,
   "metadata": {},
   "outputs": [],
   "source": [
    "# Get season data, drop season and target variable AVG\n",
    "#X_train = model_data[model_data['Season']<2019].drop(['Season','WAR'],axis=1)\n",
    "X_train = model_data[model_data['Season']<2019][['Age','AB_3','AVG_3','BABIP_3','BB%_3','BB/K_3','Contact%_3','FB%_3','G_3',\n",
    "'GB%_3','GDP_3','H_3','HBP_3','HR_3','HR/FB_3','Hard%_3','IFFB%_3','ISO_3',\n",
    "'K%_3','LD%_3','OPS_3','PA_3','R_3','RAR_3','RBI_3','SB_3','SF_3','SH_3',\n",
    "'SO_3','WAR_3','wOBA_3','wRAA_3','wRC_3','AB_2','AVG_2','BABIP_2','BB%_2',\n",
    "'BB/K_2','Contact%_2','FB%_2','G_2','GB%_2','GDP_2','H_2','HBP_2','HR_2',\n",
    "'HR/FB_2','Hard%_2','IFFB%_2','ISO_2','K%_2','LD%_2','OPS_2','PA_2','R_2',\n",
    "'RAR_2','RBI_2','SB_2','SF_2','SH_2','SO_2','WAR_2','wOBA_2','wRAA_2','wRC_2',\n",
    "'AB_1','AVG_1','BABIP_1','BB%_1','BB/K_1','Contact%_1','FB%_1','G_1','GB%_1',\n",
    "'GDP_1','H_1','HBP_1','HR_1','HR/FB_1','Hard%_1','IFFB%_1','ISO_1','K%_1',\n",
    "'LD%_1','OPS_1','PA_1','R_1','RAR_1','RBI_1','SB_1','SF_1','SH_1','SO_1',\n",
    "'WAR_1','wOBA_1','wRAA_1','wRC_1']]\n",
    "#X_test = model_data[model_data['Season']==2019].drop(['Season','WAR'],axis=1)\n",
    "X_test = model_data[model_data['Season']==2019][['Age','AB_3','AVG_3','BABIP_3','BB%_3','BB/K_3','Contact%_3','FB%_3','G_3',\n",
    "'GB%_3','GDP_3','H_3','HBP_3','HR_3','HR/FB_3','Hard%_3','IFFB%_3','ISO_3',\n",
    "'K%_3','LD%_3','OPS_3','PA_3','R_3','RAR_3','RBI_3','SB_3','SF_3','SH_3',\n",
    "'SO_3','WAR_3','wOBA_3','wRAA_3','wRC_3','AB_2','AVG_2','BABIP_2','BB%_2',\n",
    "'BB/K_2','Contact%_2','FB%_2','G_2','GB%_2','GDP_2','H_2','HBP_2','HR_2',\n",
    "'HR/FB_2','Hard%_2','IFFB%_2','ISO_2','K%_2','LD%_2','OPS_2','PA_2','R_2',\n",
    "'RAR_2','RBI_2','SB_2','SF_2','SH_2','SO_2','WAR_2','wOBA_2','wRAA_2','wRC_2',\n",
    "'AB_1','AVG_1','BABIP_1','BB%_1','BB/K_1','Contact%_1','FB%_1','G_1','GB%_1',\n",
    "'GDP_1','H_1','HBP_1','HR_1','HR/FB_1','Hard%_1','IFFB%_1','ISO_1','K%_1',\n",
    "'LD%_1','OPS_1','PA_1','R_1','RAR_1','RBI_1','SB_1','SF_1','SH_1','SO_1',\n",
    "'WAR_1','wOBA_1','wRAA_1','wRC_1']]\n",
    "\n",
    "\n",
    "# grab target variable\n",
    "Y_train = model_data[model_data['Season']<2019]['WAR']\n",
    "Y_test = model_data[model_data['Season']==2019]['WAR']\n",
    "\n"
   ]
  },
  {
   "cell_type": "code",
   "execution_count": 11,
   "metadata": {},
   "outputs": [],
   "source": [
    "test = SelectKBest(score_func=f_classif, k=10)"
   ]
  },
  {
   "cell_type": "code",
   "execution_count": 17,
   "metadata": {},
   "outputs": [],
   "source": [
    "fit = test.fit(X_train_imputed, Y_train)"
   ]
  },
  {
   "cell_type": "code",
   "execution_count": 18,
   "metadata": {},
   "outputs": [
    {
     "name": "stdout",
     "output_type": "stream",
     "text": [
      "[ 1.37295342  2.04941817  2.32437393  1.86542581  1.68472084  1.7107487\n",
      "  1.02475942  1.04968329  1.61645531  0.95260431  1.68292498  2.63923509\n",
      "  1.26115992  2.87006261  1.85088456  1.70096973  1.48222098  2.24890574\n",
      "  1.17034243  1.32894765  3.20487608  2.17138139  3.44228788  5.83850283\n",
      "  2.72076641  2.35378314  1.71825375  0.84395205  2.10729566  6.3294895\n",
      "  3.11520131  4.15451911  3.76325041  2.07807831  2.72162114  1.85267526\n",
      "  2.05030582  2.10073781  0.95103034  0.88523816  1.28503512  0.86408442\n",
      "  1.71107028  2.93528378  1.73900419  3.34399182  1.77087453  2.08537867\n",
      "  1.11745474  2.22920137  1.18103857  0.90626211  3.79559208  2.3220037\n",
      "  4.26344303  8.3240874   3.41927839  2.73067213  2.33484026  0.88033984\n",
      "  1.99231756  9.02922183  3.77995226  5.2795137   4.74173529  4.21663446\n",
      "  3.61942117  1.93214077  2.14825389  2.58471998  0.90639675  0.9140257\n",
      "  2.724867    0.92465739  2.51302018  5.47918462  2.41332466  5.14249863\n",
      "  2.23445548  2.74219781  1.19374     3.27213271  1.40452746  1.12133691\n",
      "  5.66535003  4.61112548  7.6573001  13.67955144  5.57515569  3.46308164\n",
      "  2.76674935  1.02041494  2.59017119 14.77293235  5.53215324  7.8591422\n",
      "  8.1454992 ]\n"
     ]
    }
   ],
   "source": [
    "print(fit.scores_)"
   ]
  },
  {
   "cell_type": "code",
   "execution_count": 20,
   "metadata": {},
   "outputs": [],
   "source": [
    "features = fit.transform(X_train_imputed)"
   ]
  },
  {
   "cell_type": "code",
   "execution_count": 22,
   "metadata": {},
   "outputs": [
    {
     "data": {
      "text/plain": [
       "array([[ 67.7,   6.6,  90.5, ...,   3.8,  33.3, 118. ],\n",
       "       [ 23.7,   2.3,  57.5, ...,   4.7,  28.7, 112. ],\n",
       "       [  5.8,   0.6,  12.4, ...,   1.2,  12.7,  94. ],\n",
       "       ...,\n",
       "       [ 19.2,   1. ,  18.3, ...,   1.1,  -4. ,  19. ],\n",
       "       [-18.6,  -2. ,  10.7, ...,  -1.1,  -6.6,  46. ],\n",
       "       [ 51.2,   5.4,  28.3, ...,   0. ,  -3.9,  60. ]])"
      ]
     },
     "execution_count": 22,
     "metadata": {},
     "output_type": "execute_result"
    }
   ],
   "source": [
    "features"
   ]
  },
  {
   "cell_type": "code",
   "execution_count": 26,
   "metadata": {},
   "outputs": [
    {
     "data": {
      "text/html": [
       "<div>\n",
       "<style scoped>\n",
       "    .dataframe tbody tr th:only-of-type {\n",
       "        vertical-align: middle;\n",
       "    }\n",
       "\n",
       "    .dataframe tbody tr th {\n",
       "        vertical-align: top;\n",
       "    }\n",
       "\n",
       "    .dataframe thead th {\n",
       "        text-align: right;\n",
       "    }\n",
       "</style>\n",
       "<table border=\"1\" class=\"dataframe\">\n",
       "  <thead>\n",
       "    <tr style=\"text-align: right;\">\n",
       "      <th></th>\n",
       "      <th>RAR_3</th>\n",
       "      <th>WAR_3</th>\n",
       "      <th>RAR_2</th>\n",
       "      <th>WAR_2</th>\n",
       "      <th>OPS_1</th>\n",
       "      <th>R_1</th>\n",
       "      <th>RAR_1</th>\n",
       "      <th>WAR_1</th>\n",
       "      <th>wRAA_1</th>\n",
       "      <th>wRC_1</th>\n",
       "    </tr>\n",
       "  </thead>\n",
       "  <tbody>\n",
       "    <tr>\n",
       "      <th>count</th>\n",
       "      <td>2549.000000</td>\n",
       "      <td>4417.000000</td>\n",
       "      <td>2952.000000</td>\n",
       "      <td>4417.000000</td>\n",
       "      <td>3432.000000</td>\n",
       "      <td>3432.000000</td>\n",
       "      <td>3432.000000</td>\n",
       "      <td>4417.000000</td>\n",
       "      <td>3432.000000</td>\n",
       "      <td>3432.000000</td>\n",
       "    </tr>\n",
       "    <tr>\n",
       "      <th>mean</th>\n",
       "      <td>22.369969</td>\n",
       "      <td>1.743491</td>\n",
       "      <td>20.927846</td>\n",
       "      <td>1.768859</td>\n",
       "      <td>0.762582</td>\n",
       "      <td>59.082459</td>\n",
       "      <td>19.323864</td>\n",
       "      <td>1.764388</td>\n",
       "      <td>5.933625</td>\n",
       "      <td>61.792832</td>\n",
       "    </tr>\n",
       "    <tr>\n",
       "      <th>std</th>\n",
       "      <td>19.948966</td>\n",
       "      <td>1.672853</td>\n",
       "      <td>19.260814</td>\n",
       "      <td>1.704588</td>\n",
       "      <td>0.096605</td>\n",
       "      <td>25.037062</td>\n",
       "      <td>18.929610</td>\n",
       "      <td>1.760453</td>\n",
       "      <td>15.307454</td>\n",
       "      <td>28.446495</td>\n",
       "    </tr>\n",
       "    <tr>\n",
       "      <th>min</th>\n",
       "      <td>-33.700000</td>\n",
       "      <td>-3.400000</td>\n",
       "      <td>-33.700000</td>\n",
       "      <td>-3.400000</td>\n",
       "      <td>0.382000</td>\n",
       "      <td>6.000000</td>\n",
       "      <td>-33.700000</td>\n",
       "      <td>-3.400000</td>\n",
       "      <td>-33.600000</td>\n",
       "      <td>-1.000000</td>\n",
       "    </tr>\n",
       "    <tr>\n",
       "      <th>25%</th>\n",
       "      <td>7.700000</td>\n",
       "      <td>1.000000</td>\n",
       "      <td>6.900000</td>\n",
       "      <td>1.000000</td>\n",
       "      <td>0.698000</td>\n",
       "      <td>39.000000</td>\n",
       "      <td>5.600000</td>\n",
       "      <td>0.900000</td>\n",
       "      <td>-4.500000</td>\n",
       "      <td>39.000000</td>\n",
       "    </tr>\n",
       "    <tr>\n",
       "      <th>50%</th>\n",
       "      <td>19.200000</td>\n",
       "      <td>1.000000</td>\n",
       "      <td>18.300000</td>\n",
       "      <td>1.000000</td>\n",
       "      <td>0.757000</td>\n",
       "      <td>57.000000</td>\n",
       "      <td>16.200000</td>\n",
       "      <td>1.000000</td>\n",
       "      <td>3.400000</td>\n",
       "      <td>59.000000</td>\n",
       "    </tr>\n",
       "    <tr>\n",
       "      <th>75%</th>\n",
       "      <td>33.900000</td>\n",
       "      <td>2.300000</td>\n",
       "      <td>31.900000</td>\n",
       "      <td>2.500000</td>\n",
       "      <td>0.822250</td>\n",
       "      <td>78.000000</td>\n",
       "      <td>29.900000</td>\n",
       "      <td>2.600000</td>\n",
       "      <td>13.725000</td>\n",
       "      <td>82.000000</td>\n",
       "    </tr>\n",
       "    <tr>\n",
       "      <th>max</th>\n",
       "      <td>122.100000</td>\n",
       "      <td>11.900000</td>\n",
       "      <td>98.200000</td>\n",
       "      <td>10.200000</td>\n",
       "      <td>1.114000</td>\n",
       "      <td>143.000000</td>\n",
       "      <td>98.200000</td>\n",
       "      <td>10.200000</td>\n",
       "      <td>77.300000</td>\n",
       "      <td>155.000000</td>\n",
       "    </tr>\n",
       "  </tbody>\n",
       "</table>\n",
       "</div>"
      ],
      "text/plain": [
       "             RAR_3        WAR_3        RAR_2        WAR_2        OPS_1  \\\n",
       "count  2549.000000  4417.000000  2952.000000  4417.000000  3432.000000   \n",
       "mean     22.369969     1.743491    20.927846     1.768859     0.762582   \n",
       "std      19.948966     1.672853    19.260814     1.704588     0.096605   \n",
       "min     -33.700000    -3.400000   -33.700000    -3.400000     0.382000   \n",
       "25%       7.700000     1.000000     6.900000     1.000000     0.698000   \n",
       "50%      19.200000     1.000000    18.300000     1.000000     0.757000   \n",
       "75%      33.900000     2.300000    31.900000     2.500000     0.822250   \n",
       "max     122.100000    11.900000    98.200000    10.200000     1.114000   \n",
       "\n",
       "               R_1        RAR_1        WAR_1       wRAA_1        wRC_1  \n",
       "count  3432.000000  3432.000000  4417.000000  3432.000000  3432.000000  \n",
       "mean     59.082459    19.323864     1.764388     5.933625    61.792832  \n",
       "std      25.037062    18.929610     1.760453    15.307454    28.446495  \n",
       "min       6.000000   -33.700000    -3.400000   -33.600000    -1.000000  \n",
       "25%      39.000000     5.600000     0.900000    -4.500000    39.000000  \n",
       "50%      57.000000    16.200000     1.000000     3.400000    59.000000  \n",
       "75%      78.000000    29.900000     2.600000    13.725000    82.000000  \n",
       "max     143.000000    98.200000    10.200000    77.300000   155.000000  "
      ]
     },
     "execution_count": 26,
     "metadata": {},
     "output_type": "execute_result"
    }
   ],
   "source": [
    "cols = fit.get_support(indices=True)\n",
    "features_df_new = X_train.iloc[:,cols]\n",
    "features_df_new.describe()"
   ]
  },
  {
   "cell_type": "code",
   "execution_count": 103,
   "metadata": {},
   "outputs": [
    {
     "name": "stdout",
     "output_type": "stream",
     "text": [
      "4417 4417\n"
     ]
    }
   ],
   "source": [
    "print(len(X_train),len(Y_train))"
   ]
  },
  {
   "cell_type": "code",
   "execution_count": 142,
   "metadata": {},
   "outputs": [
    {
     "data": {
      "text/html": [
       "<div>\n",
       "<style scoped>\n",
       "    .dataframe tbody tr th:only-of-type {\n",
       "        vertical-align: middle;\n",
       "    }\n",
       "\n",
       "    .dataframe tbody tr th {\n",
       "        vertical-align: top;\n",
       "    }\n",
       "\n",
       "    .dataframe thead th {\n",
       "        text-align: right;\n",
       "    }\n",
       "</style>\n",
       "<table border=\"1\" class=\"dataframe\">\n",
       "  <thead>\n",
       "    <tr style=\"text-align: right;\">\n",
       "      <th></th>\n",
       "      <th>Age</th>\n",
       "      <th>AB_3</th>\n",
       "      <th>AVG_3</th>\n",
       "      <th>BABIP_3</th>\n",
       "      <th>BB%_3</th>\n",
       "      <th>BB/K_3</th>\n",
       "      <th>Contact%_3</th>\n",
       "      <th>FB%_3</th>\n",
       "      <th>G_3</th>\n",
       "      <th>GB%_3</th>\n",
       "      <th>...</th>\n",
       "      <th>RAR_1</th>\n",
       "      <th>RBI_1</th>\n",
       "      <th>SB_1</th>\n",
       "      <th>SF_1</th>\n",
       "      <th>SH_1</th>\n",
       "      <th>SO_1</th>\n",
       "      <th>WAR_1</th>\n",
       "      <th>wOBA_1</th>\n",
       "      <th>wRAA_1</th>\n",
       "      <th>wRC_1</th>\n",
       "    </tr>\n",
       "  </thead>\n",
       "  <tbody>\n",
       "    <tr>\n",
       "      <th>0</th>\n",
       "      <td>31.0</td>\n",
       "      <td>601.0</td>\n",
       "      <td>0.286</td>\n",
       "      <td>0.308</td>\n",
       "      <td>0.115</td>\n",
       "      <td>0.61</td>\n",
       "      <td>0.746</td>\n",
       "      <td>0.389</td>\n",
       "      <td>155.0</td>\n",
       "      <td>0.456</td>\n",
       "      <td>...</td>\n",
       "      <td>39.6</td>\n",
       "      <td>121.0</td>\n",
       "      <td>15.0</td>\n",
       "      <td>4.0</td>\n",
       "      <td>0.0</td>\n",
       "      <td>139.0</td>\n",
       "      <td>3.8</td>\n",
       "      <td>0.389</td>\n",
       "      <td>33.3</td>\n",
       "      <td>118.0</td>\n",
       "    </tr>\n",
       "    <tr>\n",
       "      <th>1</th>\n",
       "      <td>24.0</td>\n",
       "      <td>263.0</td>\n",
       "      <td>0.293</td>\n",
       "      <td>0.297</td>\n",
       "      <td>0.049</td>\n",
       "      <td>0.35</td>\n",
       "      <td>0.851</td>\n",
       "      <td>0.425</td>\n",
       "      <td>69.0</td>\n",
       "      <td>0.336</td>\n",
       "      <td>...</td>\n",
       "      <td>48.6</td>\n",
       "      <td>116.0</td>\n",
       "      <td>20.0</td>\n",
       "      <td>8.0</td>\n",
       "      <td>0.0</td>\n",
       "      <td>113.0</td>\n",
       "      <td>4.7</td>\n",
       "      <td>0.382</td>\n",
       "      <td>28.7</td>\n",
       "      <td>112.0</td>\n",
       "    </tr>\n",
       "    <tr>\n",
       "      <th>2</th>\n",
       "      <td>33.0</td>\n",
       "      <td>202.0</td>\n",
       "      <td>0.292</td>\n",
       "      <td>0.291</td>\n",
       "      <td>0.072</td>\n",
       "      <td>0.73</td>\n",
       "      <td>0.853</td>\n",
       "      <td>0.331</td>\n",
       "      <td>52.0</td>\n",
       "      <td>0.486</td>\n",
       "      <td>...</td>\n",
       "      <td>12.8</td>\n",
       "      <td>104.0</td>\n",
       "      <td>1.0</td>\n",
       "      <td>4.0</td>\n",
       "      <td>0.0</td>\n",
       "      <td>87.0</td>\n",
       "      <td>1.2</td>\n",
       "      <td>0.355</td>\n",
       "      <td>12.7</td>\n",
       "      <td>94.0</td>\n",
       "    </tr>\n",
       "    <tr>\n",
       "      <th>3</th>\n",
       "      <td>26.0</td>\n",
       "      <td>NaN</td>\n",
       "      <td>NaN</td>\n",
       "      <td>NaN</td>\n",
       "      <td>NaN</td>\n",
       "      <td>NaN</td>\n",
       "      <td>NaN</td>\n",
       "      <td>NaN</td>\n",
       "      <td>NaN</td>\n",
       "      <td>NaN</td>\n",
       "      <td>...</td>\n",
       "      <td>41.5</td>\n",
       "      <td>68.0</td>\n",
       "      <td>8.0</td>\n",
       "      <td>6.0</td>\n",
       "      <td>7.0</td>\n",
       "      <td>174.0</td>\n",
       "      <td>4.0</td>\n",
       "      <td>0.335</td>\n",
       "      <td>1.9</td>\n",
       "      <td>87.0</td>\n",
       "    </tr>\n",
       "    <tr>\n",
       "      <th>4</th>\n",
       "      <td>27.0</td>\n",
       "      <td>592.0</td>\n",
       "      <td>0.331</td>\n",
       "      <td>0.298</td>\n",
       "      <td>0.121</td>\n",
       "      <td>1.62</td>\n",
       "      <td>0.871</td>\n",
       "      <td>0.403</td>\n",
       "      <td>154.0</td>\n",
       "      <td>0.416</td>\n",
       "      <td>...</td>\n",
       "      <td>84.1</td>\n",
       "      <td>137.0</td>\n",
       "      <td>7.0</td>\n",
       "      <td>3.0</td>\n",
       "      <td>0.0</td>\n",
       "      <td>50.0</td>\n",
       "      <td>8.1</td>\n",
       "      <td>0.447</td>\n",
       "      <td>62.6</td>\n",
       "      <td>142.0</td>\n",
       "    </tr>\n",
       "    <tr>\n",
       "      <th>...</th>\n",
       "      <td>...</td>\n",
       "      <td>...</td>\n",
       "      <td>...</td>\n",
       "      <td>...</td>\n",
       "      <td>...</td>\n",
       "      <td>...</td>\n",
       "      <td>...</td>\n",
       "      <td>...</td>\n",
       "      <td>...</td>\n",
       "      <td>...</td>\n",
       "      <td>...</td>\n",
       "      <td>...</td>\n",
       "      <td>...</td>\n",
       "      <td>...</td>\n",
       "      <td>...</td>\n",
       "      <td>...</td>\n",
       "      <td>...</td>\n",
       "      <td>...</td>\n",
       "      <td>...</td>\n",
       "      <td>...</td>\n",
       "      <td>...</td>\n",
       "    </tr>\n",
       "    <tr>\n",
       "      <th>4412</th>\n",
       "      <td>32.0</td>\n",
       "      <td>596.0</td>\n",
       "      <td>0.250</td>\n",
       "      <td>0.308</td>\n",
       "      <td>0.122</td>\n",
       "      <td>0.55</td>\n",
       "      <td>0.802</td>\n",
       "      <td>0.364</td>\n",
       "      <td>156.0</td>\n",
       "      <td>0.433</td>\n",
       "      <td>...</td>\n",
       "      <td>26.2</td>\n",
       "      <td>64.0</td>\n",
       "      <td>7.0</td>\n",
       "      <td>4.0</td>\n",
       "      <td>0.0</td>\n",
       "      <td>101.0</td>\n",
       "      <td>2.6</td>\n",
       "      <td>0.358</td>\n",
       "      <td>15.2</td>\n",
       "      <td>75.0</td>\n",
       "    </tr>\n",
       "    <tr>\n",
       "      <th>4413</th>\n",
       "      <td>30.0</td>\n",
       "      <td>526.0</td>\n",
       "      <td>0.270</td>\n",
       "      <td>0.279</td>\n",
       "      <td>0.060</td>\n",
       "      <td>0.61</td>\n",
       "      <td>0.882</td>\n",
       "      <td>0.371</td>\n",
       "      <td>152.0</td>\n",
       "      <td>0.436</td>\n",
       "      <td>...</td>\n",
       "      <td>8.3</td>\n",
       "      <td>64.0</td>\n",
       "      <td>3.0</td>\n",
       "      <td>4.0</td>\n",
       "      <td>0.0</td>\n",
       "      <td>61.0</td>\n",
       "      <td>0.8</td>\n",
       "      <td>0.311</td>\n",
       "      <td>-4.2</td>\n",
       "      <td>58.0</td>\n",
       "    </tr>\n",
       "    <tr>\n",
       "      <th>4414</th>\n",
       "      <td>30.0</td>\n",
       "      <td>NaN</td>\n",
       "      <td>NaN</td>\n",
       "      <td>NaN</td>\n",
       "      <td>NaN</td>\n",
       "      <td>NaN</td>\n",
       "      <td>NaN</td>\n",
       "      <td>NaN</td>\n",
       "      <td>NaN</td>\n",
       "      <td>NaN</td>\n",
       "      <td>...</td>\n",
       "      <td>11.4</td>\n",
       "      <td>29.0</td>\n",
       "      <td>2.0</td>\n",
       "      <td>4.0</td>\n",
       "      <td>2.0</td>\n",
       "      <td>35.0</td>\n",
       "      <td>1.1</td>\n",
       "      <td>0.296</td>\n",
       "      <td>-4.0</td>\n",
       "      <td>19.0</td>\n",
       "    </tr>\n",
       "    <tr>\n",
       "      <th>4415</th>\n",
       "      <td>39.0</td>\n",
       "      <td>440.0</td>\n",
       "      <td>0.245</td>\n",
       "      <td>0.253</td>\n",
       "      <td>0.064</td>\n",
       "      <td>0.60</td>\n",
       "      <td>0.874</td>\n",
       "      <td>0.387</td>\n",
       "      <td>120.0</td>\n",
       "      <td>0.403</td>\n",
       "      <td>...</td>\n",
       "      <td>-10.8</td>\n",
       "      <td>47.0</td>\n",
       "      <td>0.0</td>\n",
       "      <td>2.0</td>\n",
       "      <td>0.0</td>\n",
       "      <td>63.0</td>\n",
       "      <td>-1.1</td>\n",
       "      <td>0.303</td>\n",
       "      <td>-6.6</td>\n",
       "      <td>46.0</td>\n",
       "    </tr>\n",
       "    <tr>\n",
       "      <th>4416</th>\n",
       "      <td>32.0</td>\n",
       "      <td>573.0</td>\n",
       "      <td>0.262</td>\n",
       "      <td>0.319</td>\n",
       "      <td>0.125</td>\n",
       "      <td>0.40</td>\n",
       "      <td>0.670</td>\n",
       "      <td>0.435</td>\n",
       "      <td>160.0</td>\n",
       "      <td>0.318</td>\n",
       "      <td>...</td>\n",
       "      <td>0.1</td>\n",
       "      <td>61.0</td>\n",
       "      <td>1.0</td>\n",
       "      <td>4.0</td>\n",
       "      <td>0.0</td>\n",
       "      <td>195.0</td>\n",
       "      <td>0.0</td>\n",
       "      <td>0.312</td>\n",
       "      <td>-3.9</td>\n",
       "      <td>60.0</td>\n",
       "    </tr>\n",
       "  </tbody>\n",
       "</table>\n",
       "<p>4417 rows × 97 columns</p>\n",
       "</div>"
      ],
      "text/plain": [
       "       Age   AB_3  AVG_3  BABIP_3  BB%_3  BB/K_3  Contact%_3  FB%_3    G_3  \\\n",
       "0     31.0  601.0  0.286    0.308  0.115    0.61       0.746  0.389  155.0   \n",
       "1     24.0  263.0  0.293    0.297  0.049    0.35       0.851  0.425   69.0   \n",
       "2     33.0  202.0  0.292    0.291  0.072    0.73       0.853  0.331   52.0   \n",
       "3     26.0    NaN    NaN      NaN    NaN     NaN         NaN    NaN    NaN   \n",
       "4     27.0  592.0  0.331    0.298  0.121    1.62       0.871  0.403  154.0   \n",
       "...    ...    ...    ...      ...    ...     ...         ...    ...    ...   \n",
       "4412  32.0  596.0  0.250    0.308  0.122    0.55       0.802  0.364  156.0   \n",
       "4413  30.0  526.0  0.270    0.279  0.060    0.61       0.882  0.371  152.0   \n",
       "4414  30.0    NaN    NaN      NaN    NaN     NaN         NaN    NaN    NaN   \n",
       "4415  39.0  440.0  0.245    0.253  0.064    0.60       0.874  0.387  120.0   \n",
       "4416  32.0  573.0  0.262    0.319  0.125    0.40       0.670  0.435  160.0   \n",
       "\n",
       "      GB%_3  ...  RAR_1  RBI_1  SB_1  SF_1  SH_1   SO_1  WAR_1  wOBA_1  \\\n",
       "0     0.456  ...   39.6  121.0  15.0   4.0   0.0  139.0    3.8   0.389   \n",
       "1     0.336  ...   48.6  116.0  20.0   8.0   0.0  113.0    4.7   0.382   \n",
       "2     0.486  ...   12.8  104.0   1.0   4.0   0.0   87.0    1.2   0.355   \n",
       "3       NaN  ...   41.5   68.0   8.0   6.0   7.0  174.0    4.0   0.335   \n",
       "4     0.416  ...   84.1  137.0   7.0   3.0   0.0   50.0    8.1   0.447   \n",
       "...     ...  ...    ...    ...   ...   ...   ...    ...    ...     ...   \n",
       "4412  0.433  ...   26.2   64.0   7.0   4.0   0.0  101.0    2.6   0.358   \n",
       "4413  0.436  ...    8.3   64.0   3.0   4.0   0.0   61.0    0.8   0.311   \n",
       "4414    NaN  ...   11.4   29.0   2.0   4.0   2.0   35.0    1.1   0.296   \n",
       "4415  0.403  ...  -10.8   47.0   0.0   2.0   0.0   63.0   -1.1   0.303   \n",
       "4416  0.318  ...    0.1   61.0   1.0   4.0   0.0  195.0    0.0   0.312   \n",
       "\n",
       "      wRAA_1  wRC_1  \n",
       "0       33.3  118.0  \n",
       "1       28.7  112.0  \n",
       "2       12.7   94.0  \n",
       "3        1.9   87.0  \n",
       "4       62.6  142.0  \n",
       "...      ...    ...  \n",
       "4412    15.2   75.0  \n",
       "4413    -4.2   58.0  \n",
       "4414    -4.0   19.0  \n",
       "4415    -6.6   46.0  \n",
       "4416    -3.9   60.0  \n",
       "\n",
       "[4417 rows x 97 columns]"
      ]
     },
     "execution_count": 142,
     "metadata": {},
     "output_type": "execute_result"
    }
   ],
   "source": [
    "X_train"
   ]
  },
  {
   "cell_type": "code",
   "execution_count": 13,
   "metadata": {},
   "outputs": [],
   "source": [
    "#X_train['WAR_1'].fillna(X_train['WAR_1'].median()+2,inplace=True)\n",
    "#X_train['WAR_2'].fillna(X_train['WAR_2'].median()+2,inplace=True)\n",
    "#X_train['WAR_3'].fillna(X_train['WAR_3'].median()+2,inplace=True)\n",
    "\n",
    "X_train['WAR_1'].fillna(1,inplace=True)\n",
    "X_train['WAR_2'].fillna(1,inplace=True)\n",
    "X_train['WAR_3'].fillna(1,inplace=True)"
   ]
  },
  {
   "cell_type": "code",
   "execution_count": 414,
   "metadata": {},
   "outputs": [],
   "source": [
    "# fill w/ medina\n",
    "X_train.fillna(X_train.median(),inplace=True)\n",
    "X_test.fillna(X_train.median(),inplace=True)"
   ]
  },
  {
   "cell_type": "code",
   "execution_count": 415,
   "metadata": {},
   "outputs": [
    {
     "data": {
      "text/plain": [
       "1.0"
      ]
     },
     "execution_count": 415,
     "metadata": {},
     "output_type": "execute_result"
    }
   ],
   "source": [
    "X_train['WAR_3'].median()"
   ]
  },
  {
   "cell_type": "code",
   "execution_count": 416,
   "metadata": {},
   "outputs": [
    {
     "data": {
      "text/plain": [
       "WAR_3    1.0\n",
       "WAR_2    1.0\n",
       "WAR_1    4.0\n",
       "Name: 3, dtype: float64"
      ]
     },
     "execution_count": 416,
     "metadata": {},
     "output_type": "execute_result"
    }
   ],
   "source": [
    "X_train.loc[3,['WAR_3','WAR_2','WAR_1']]"
   ]
  },
  {
   "cell_type": "code",
   "execution_count": 425,
   "metadata": {},
   "outputs": [
    {
     "data": {
      "text/plain": [
       "Season               2007\n",
       "Name      Magglio Ordonez\n",
       "WAR                     8\n",
       "WAR_3                 0.6\n",
       "WAR_2                 1.2\n",
       "WAR_1                 1.2\n",
       "Name: 2, dtype: object"
      ]
     },
     "execution_count": 425,
     "metadata": {},
     "output_type": "execute_result"
    }
   ],
   "source": [
    "all_hit.loc[2,['Season','Name','WAR','WAR_3','WAR_2','WAR_1']]\n",
    "#all_hit.loc[3,['Season','WAR','WAR_3','WAR_2','WAR_1']]"
   ]
  },
  {
   "cell_type": "code",
   "execution_count": 424,
   "metadata": {},
   "outputs": [
    {
     "data": {
      "text/plain": [
       "8.0"
      ]
     },
     "execution_count": 424,
     "metadata": {},
     "output_type": "execute_result"
    }
   ],
   "source": [
    "Y_train.loc[2]"
   ]
  },
  {
   "cell_type": "code",
   "execution_count": 140,
   "metadata": {},
   "outputs": [
    {
     "data": {
      "text/html": [
       "<div>\n",
       "<style scoped>\n",
       "    .dataframe tbody tr th:only-of-type {\n",
       "        vertical-align: middle;\n",
       "    }\n",
       "\n",
       "    .dataframe tbody tr th {\n",
       "        vertical-align: top;\n",
       "    }\n",
       "\n",
       "    .dataframe thead th {\n",
       "        text-align: right;\n",
       "    }\n",
       "</style>\n",
       "<table border=\"1\" class=\"dataframe\">\n",
       "  <thead>\n",
       "    <tr style=\"text-align: right;\">\n",
       "      <th></th>\n",
       "      <th>Age</th>\n",
       "      <th>AB_3</th>\n",
       "      <th>AVG_3</th>\n",
       "      <th>BABIP_3</th>\n",
       "      <th>BB%_3</th>\n",
       "      <th>BB/K_3</th>\n",
       "      <th>Contact%_3</th>\n",
       "      <th>FB%_3</th>\n",
       "      <th>G_3</th>\n",
       "      <th>GB%_3</th>\n",
       "      <th>...</th>\n",
       "      <th>RAR_1</th>\n",
       "      <th>RBI_1</th>\n",
       "      <th>SB_1</th>\n",
       "      <th>SF_1</th>\n",
       "      <th>SH_1</th>\n",
       "      <th>SO_1</th>\n",
       "      <th>WAR_1</th>\n",
       "      <th>wOBA_1</th>\n",
       "      <th>wRAA_1</th>\n",
       "      <th>wRC_1</th>\n",
       "    </tr>\n",
       "  </thead>\n",
       "  <tbody>\n",
       "    <tr>\n",
       "      <th>0</th>\n",
       "      <td>31.0</td>\n",
       "      <td>601.0</td>\n",
       "      <td>0.286</td>\n",
       "      <td>0.308</td>\n",
       "      <td>0.115</td>\n",
       "      <td>0.61</td>\n",
       "      <td>0.746</td>\n",
       "      <td>0.389</td>\n",
       "      <td>155.0</td>\n",
       "      <td>0.456</td>\n",
       "      <td>...</td>\n",
       "      <td>39.6</td>\n",
       "      <td>121.0</td>\n",
       "      <td>15.0</td>\n",
       "      <td>4.0</td>\n",
       "      <td>0.0</td>\n",
       "      <td>139.0</td>\n",
       "      <td>3.8</td>\n",
       "      <td>0.389</td>\n",
       "      <td>33.3</td>\n",
       "      <td>118.0</td>\n",
       "    </tr>\n",
       "    <tr>\n",
       "      <th>1</th>\n",
       "      <td>24.0</td>\n",
       "      <td>263.0</td>\n",
       "      <td>0.293</td>\n",
       "      <td>0.297</td>\n",
       "      <td>0.049</td>\n",
       "      <td>0.35</td>\n",
       "      <td>0.851</td>\n",
       "      <td>0.425</td>\n",
       "      <td>69.0</td>\n",
       "      <td>0.336</td>\n",
       "      <td>...</td>\n",
       "      <td>48.6</td>\n",
       "      <td>116.0</td>\n",
       "      <td>20.0</td>\n",
       "      <td>8.0</td>\n",
       "      <td>0.0</td>\n",
       "      <td>113.0</td>\n",
       "      <td>4.7</td>\n",
       "      <td>0.382</td>\n",
       "      <td>28.7</td>\n",
       "      <td>112.0</td>\n",
       "    </tr>\n",
       "    <tr>\n",
       "      <th>2</th>\n",
       "      <td>33.0</td>\n",
       "      <td>202.0</td>\n",
       "      <td>0.292</td>\n",
       "      <td>0.291</td>\n",
       "      <td>0.072</td>\n",
       "      <td>0.73</td>\n",
       "      <td>0.853</td>\n",
       "      <td>0.331</td>\n",
       "      <td>52.0</td>\n",
       "      <td>0.486</td>\n",
       "      <td>...</td>\n",
       "      <td>12.8</td>\n",
       "      <td>104.0</td>\n",
       "      <td>1.0</td>\n",
       "      <td>4.0</td>\n",
       "      <td>0.0</td>\n",
       "      <td>87.0</td>\n",
       "      <td>1.2</td>\n",
       "      <td>0.355</td>\n",
       "      <td>12.7</td>\n",
       "      <td>94.0</td>\n",
       "    </tr>\n",
       "    <tr>\n",
       "      <th>3</th>\n",
       "      <td>26.0</td>\n",
       "      <td>NaN</td>\n",
       "      <td>NaN</td>\n",
       "      <td>NaN</td>\n",
       "      <td>NaN</td>\n",
       "      <td>NaN</td>\n",
       "      <td>NaN</td>\n",
       "      <td>NaN</td>\n",
       "      <td>NaN</td>\n",
       "      <td>NaN</td>\n",
       "      <td>...</td>\n",
       "      <td>41.5</td>\n",
       "      <td>68.0</td>\n",
       "      <td>8.0</td>\n",
       "      <td>6.0</td>\n",
       "      <td>7.0</td>\n",
       "      <td>174.0</td>\n",
       "      <td>4.0</td>\n",
       "      <td>0.335</td>\n",
       "      <td>1.9</td>\n",
       "      <td>87.0</td>\n",
       "    </tr>\n",
       "    <tr>\n",
       "      <th>4</th>\n",
       "      <td>27.0</td>\n",
       "      <td>592.0</td>\n",
       "      <td>0.331</td>\n",
       "      <td>0.298</td>\n",
       "      <td>0.121</td>\n",
       "      <td>1.62</td>\n",
       "      <td>0.871</td>\n",
       "      <td>0.403</td>\n",
       "      <td>154.0</td>\n",
       "      <td>0.416</td>\n",
       "      <td>...</td>\n",
       "      <td>84.1</td>\n",
       "      <td>137.0</td>\n",
       "      <td>7.0</td>\n",
       "      <td>3.0</td>\n",
       "      <td>0.0</td>\n",
       "      <td>50.0</td>\n",
       "      <td>8.1</td>\n",
       "      <td>0.447</td>\n",
       "      <td>62.6</td>\n",
       "      <td>142.0</td>\n",
       "    </tr>\n",
       "    <tr>\n",
       "      <th>...</th>\n",
       "      <td>...</td>\n",
       "      <td>...</td>\n",
       "      <td>...</td>\n",
       "      <td>...</td>\n",
       "      <td>...</td>\n",
       "      <td>...</td>\n",
       "      <td>...</td>\n",
       "      <td>...</td>\n",
       "      <td>...</td>\n",
       "      <td>...</td>\n",
       "      <td>...</td>\n",
       "      <td>...</td>\n",
       "      <td>...</td>\n",
       "      <td>...</td>\n",
       "      <td>...</td>\n",
       "      <td>...</td>\n",
       "      <td>...</td>\n",
       "      <td>...</td>\n",
       "      <td>...</td>\n",
       "      <td>...</td>\n",
       "      <td>...</td>\n",
       "    </tr>\n",
       "    <tr>\n",
       "      <th>4412</th>\n",
       "      <td>32.0</td>\n",
       "      <td>596.0</td>\n",
       "      <td>0.250</td>\n",
       "      <td>0.308</td>\n",
       "      <td>0.122</td>\n",
       "      <td>0.55</td>\n",
       "      <td>0.802</td>\n",
       "      <td>0.364</td>\n",
       "      <td>156.0</td>\n",
       "      <td>0.433</td>\n",
       "      <td>...</td>\n",
       "      <td>26.2</td>\n",
       "      <td>64.0</td>\n",
       "      <td>7.0</td>\n",
       "      <td>4.0</td>\n",
       "      <td>0.0</td>\n",
       "      <td>101.0</td>\n",
       "      <td>2.6</td>\n",
       "      <td>0.358</td>\n",
       "      <td>15.2</td>\n",
       "      <td>75.0</td>\n",
       "    </tr>\n",
       "    <tr>\n",
       "      <th>4413</th>\n",
       "      <td>30.0</td>\n",
       "      <td>526.0</td>\n",
       "      <td>0.270</td>\n",
       "      <td>0.279</td>\n",
       "      <td>0.060</td>\n",
       "      <td>0.61</td>\n",
       "      <td>0.882</td>\n",
       "      <td>0.371</td>\n",
       "      <td>152.0</td>\n",
       "      <td>0.436</td>\n",
       "      <td>...</td>\n",
       "      <td>8.3</td>\n",
       "      <td>64.0</td>\n",
       "      <td>3.0</td>\n",
       "      <td>4.0</td>\n",
       "      <td>0.0</td>\n",
       "      <td>61.0</td>\n",
       "      <td>0.8</td>\n",
       "      <td>0.311</td>\n",
       "      <td>-4.2</td>\n",
       "      <td>58.0</td>\n",
       "    </tr>\n",
       "    <tr>\n",
       "      <th>4414</th>\n",
       "      <td>30.0</td>\n",
       "      <td>NaN</td>\n",
       "      <td>NaN</td>\n",
       "      <td>NaN</td>\n",
       "      <td>NaN</td>\n",
       "      <td>NaN</td>\n",
       "      <td>NaN</td>\n",
       "      <td>NaN</td>\n",
       "      <td>NaN</td>\n",
       "      <td>NaN</td>\n",
       "      <td>...</td>\n",
       "      <td>11.4</td>\n",
       "      <td>29.0</td>\n",
       "      <td>2.0</td>\n",
       "      <td>4.0</td>\n",
       "      <td>2.0</td>\n",
       "      <td>35.0</td>\n",
       "      <td>1.1</td>\n",
       "      <td>0.296</td>\n",
       "      <td>-4.0</td>\n",
       "      <td>19.0</td>\n",
       "    </tr>\n",
       "    <tr>\n",
       "      <th>4415</th>\n",
       "      <td>39.0</td>\n",
       "      <td>440.0</td>\n",
       "      <td>0.245</td>\n",
       "      <td>0.253</td>\n",
       "      <td>0.064</td>\n",
       "      <td>0.60</td>\n",
       "      <td>0.874</td>\n",
       "      <td>0.387</td>\n",
       "      <td>120.0</td>\n",
       "      <td>0.403</td>\n",
       "      <td>...</td>\n",
       "      <td>-10.8</td>\n",
       "      <td>47.0</td>\n",
       "      <td>0.0</td>\n",
       "      <td>2.0</td>\n",
       "      <td>0.0</td>\n",
       "      <td>63.0</td>\n",
       "      <td>-1.1</td>\n",
       "      <td>0.303</td>\n",
       "      <td>-6.6</td>\n",
       "      <td>46.0</td>\n",
       "    </tr>\n",
       "    <tr>\n",
       "      <th>4416</th>\n",
       "      <td>32.0</td>\n",
       "      <td>573.0</td>\n",
       "      <td>0.262</td>\n",
       "      <td>0.319</td>\n",
       "      <td>0.125</td>\n",
       "      <td>0.40</td>\n",
       "      <td>0.670</td>\n",
       "      <td>0.435</td>\n",
       "      <td>160.0</td>\n",
       "      <td>0.318</td>\n",
       "      <td>...</td>\n",
       "      <td>0.1</td>\n",
       "      <td>61.0</td>\n",
       "      <td>1.0</td>\n",
       "      <td>4.0</td>\n",
       "      <td>0.0</td>\n",
       "      <td>195.0</td>\n",
       "      <td>0.0</td>\n",
       "      <td>0.312</td>\n",
       "      <td>-3.9</td>\n",
       "      <td>60.0</td>\n",
       "    </tr>\n",
       "  </tbody>\n",
       "</table>\n",
       "<p>4417 rows × 97 columns</p>\n",
       "</div>"
      ],
      "text/plain": [
       "       Age   AB_3  AVG_3  BABIP_3  BB%_3  BB/K_3  Contact%_3  FB%_3    G_3  \\\n",
       "0     31.0  601.0  0.286    0.308  0.115    0.61       0.746  0.389  155.0   \n",
       "1     24.0  263.0  0.293    0.297  0.049    0.35       0.851  0.425   69.0   \n",
       "2     33.0  202.0  0.292    0.291  0.072    0.73       0.853  0.331   52.0   \n",
       "3     26.0    NaN    NaN      NaN    NaN     NaN         NaN    NaN    NaN   \n",
       "4     27.0  592.0  0.331    0.298  0.121    1.62       0.871  0.403  154.0   \n",
       "...    ...    ...    ...      ...    ...     ...         ...    ...    ...   \n",
       "4412  32.0  596.0  0.250    0.308  0.122    0.55       0.802  0.364  156.0   \n",
       "4413  30.0  526.0  0.270    0.279  0.060    0.61       0.882  0.371  152.0   \n",
       "4414  30.0    NaN    NaN      NaN    NaN     NaN         NaN    NaN    NaN   \n",
       "4415  39.0  440.0  0.245    0.253  0.064    0.60       0.874  0.387  120.0   \n",
       "4416  32.0  573.0  0.262    0.319  0.125    0.40       0.670  0.435  160.0   \n",
       "\n",
       "      GB%_3  ...  RAR_1  RBI_1  SB_1  SF_1  SH_1   SO_1  WAR_1  wOBA_1  \\\n",
       "0     0.456  ...   39.6  121.0  15.0   4.0   0.0  139.0    3.8   0.389   \n",
       "1     0.336  ...   48.6  116.0  20.0   8.0   0.0  113.0    4.7   0.382   \n",
       "2     0.486  ...   12.8  104.0   1.0   4.0   0.0   87.0    1.2   0.355   \n",
       "3       NaN  ...   41.5   68.0   8.0   6.0   7.0  174.0    4.0   0.335   \n",
       "4     0.416  ...   84.1  137.0   7.0   3.0   0.0   50.0    8.1   0.447   \n",
       "...     ...  ...    ...    ...   ...   ...   ...    ...    ...     ...   \n",
       "4412  0.433  ...   26.2   64.0   7.0   4.0   0.0  101.0    2.6   0.358   \n",
       "4413  0.436  ...    8.3   64.0   3.0   4.0   0.0   61.0    0.8   0.311   \n",
       "4414    NaN  ...   11.4   29.0   2.0   4.0   2.0   35.0    1.1   0.296   \n",
       "4415  0.403  ...  -10.8   47.0   0.0   2.0   0.0   63.0   -1.1   0.303   \n",
       "4416  0.318  ...    0.1   61.0   1.0   4.0   0.0  195.0    0.0   0.312   \n",
       "\n",
       "      wRAA_1  wRC_1  \n",
       "0       33.3  118.0  \n",
       "1       28.7  112.0  \n",
       "2       12.7   94.0  \n",
       "3        1.9   87.0  \n",
       "4       62.6  142.0  \n",
       "...      ...    ...  \n",
       "4412    15.2   75.0  \n",
       "4413    -4.2   58.0  \n",
       "4414    -4.0   19.0  \n",
       "4415    -6.6   46.0  \n",
       "4416    -3.9   60.0  \n",
       "\n",
       "[4417 rows x 97 columns]"
      ]
     },
     "execution_count": 140,
     "metadata": {},
     "output_type": "execute_result"
    }
   ],
   "source": [
    "X_train"
   ]
  },
  {
   "cell_type": "markdown",
   "metadata": {},
   "source": [
    "## Grid search... these parameters take long time"
   ]
  },
  {
   "cell_type": "code",
   "execution_count": 466,
   "metadata": {},
   "outputs": [],
   "source": [
    "X_train['WAR_1'].fillna(1,inplace=True)\n",
    "X_train['WAR_2'].fillna(1,inplace=True)\n",
    "X_train['WAR_3'].fillna(1,inplace=True)\n",
    "\n",
    "pipe = Pipeline([('impute', SimpleImputer(strategy='median')),\n",
    "                 ('scaler', StandardScaler()),\n",
    "                 ('svr',SVR())\n",
    "                ])"
   ]
  },
  {
   "cell_type": "code",
   "execution_count": 467,
   "metadata": {},
   "outputs": [],
   "source": [
    "params = {'svr__C': [0.1, 1, 10],\n",
    "          'svr__kernel': ['linear','rbf'],\n",
    "          'svr__epsilon': [0.001, 0.01, 0.1]\n",
    "         }"
   ]
  },
  {
   "cell_type": "code",
   "execution_count": 468,
   "metadata": {},
   "outputs": [],
   "source": [
    "grid = GridSearchCV(pipe,\n",
    "                       param_grid=params,\n",
    "                       scoring={'r2': make_scorer(r2_score)},\n",
    "                       n_jobs=-1,\n",
    "                       cv=5,\n",
    "                       refit='r2')"
   ]
  },
  {
   "cell_type": "code",
   "execution_count": 469,
   "metadata": {},
   "outputs": [
    {
     "data": {
      "text/plain": [
       "GridSearchCV(cv=5,\n",
       "             estimator=Pipeline(steps=[('impute',\n",
       "                                        SimpleImputer(strategy='median')),\n",
       "                                       ('scaler', StandardScaler()),\n",
       "                                       ('svr', SVR())]),\n",
       "             n_jobs=-1,\n",
       "             param_grid={'svr__C': [0.1, 1, 10],\n",
       "                         'svr__epsilon': [0.001, 0.01, 0.1],\n",
       "                         'svr__kernel': ['linear', 'rbf']},\n",
       "             refit='r2', scoring={'r2': make_scorer(r2_score)})"
      ]
     },
     "execution_count": 469,
     "metadata": {},
     "output_type": "execute_result"
    }
   ],
   "source": [
    "grid.fit(X_train, Y_train)"
   ]
  },
  {
   "cell_type": "code",
   "execution_count": 470,
   "metadata": {},
   "outputs": [
    {
     "data": {
      "text/plain": [
       "{'svr__C': 0.1, 'svr__epsilon': 0.1, 'svr__kernel': 'linear'}"
      ]
     },
     "execution_count": 470,
     "metadata": {},
     "output_type": "execute_result"
    }
   ],
   "source": [
    "grid.best_params_"
   ]
  },
  {
   "cell_type": "code",
   "execution_count": 471,
   "metadata": {},
   "outputs": [
    {
     "data": {
      "text/plain": [
       "0.2635061026930723"
      ]
     },
     "execution_count": 471,
     "metadata": {},
     "output_type": "execute_result"
    }
   ],
   "source": [
    "grid.best_score_"
   ]
  },
  {
   "cell_type": "code",
   "execution_count": 104,
   "metadata": {},
   "outputs": [],
   "source": [
    "svr_model = Pipeline([('impute', SimpleImputer(strategy='median')),\n",
    "                 ('scaler', StandardScaler()),\n",
    "                 ('svr',SVR(C=0.1,epsilon=0.1,kernel='linear'))\n",
    "                ])"
   ]
  },
  {
   "cell_type": "code",
   "execution_count": 124,
   "metadata": {},
   "outputs": [
    {
     "data": {
      "text/plain": [
       "array([[ 9.6],\n",
       "       [ 8.4],\n",
       "       [ 8. ],\n",
       "       ...,\n",
       "       [-1.3],\n",
       "       [-1.7],\n",
       "       [-3.2]])"
      ]
     },
     "execution_count": 124,
     "metadata": {},
     "output_type": "execute_result"
    }
   ],
   "source": [
    "Y_train.values.reshape(-1,1)"
   ]
  },
  {
   "cell_type": "code",
   "execution_count": 125,
   "metadata": {},
   "outputs": [],
   "source": [
    "from sklearn.preprocessing import MinMaxScaler\n",
    "# create target scaler object\n",
    "target_scaler = MinMaxScaler()\n",
    "target_scaler.fit(Y_train.values.reshape(-1,1))\n",
    "\n",
    "train_y = target_scaler.transform(Y_train.values.reshape(-1,1))\n",
    "#test_y = target_scaler.transform(test_y)"
   ]
  },
  {
   "cell_type": "code",
   "execution_count": 110,
   "metadata": {},
   "outputs": [
    {
     "data": {
      "text/plain": [
       "0       9.6\n",
       "1       8.4\n",
       "2       8.0\n",
       "3       7.9\n",
       "4       7.7\n",
       "       ... \n",
       "4412   -1.1\n",
       "4413   -1.3\n",
       "4414   -1.3\n",
       "4415   -1.7\n",
       "4416   -3.2\n",
       "Name: WAR, Length: 4417, dtype: float64"
      ]
     },
     "execution_count": 110,
     "metadata": {},
     "output_type": "execute_result"
    }
   ],
   "source": [
    "Y_train"
   ]
  },
  {
   "cell_type": "code",
   "execution_count": 127,
   "metadata": {},
   "outputs": [
    {
     "data": {
      "text/plain": [
       "array([0.94202899, 0.85507246, 0.82608696, ..., 0.15217391, 0.12318841,\n",
       "       0.01449275])"
      ]
     },
     "execution_count": 127,
     "metadata": {},
     "output_type": "execute_result"
    }
   ],
   "source": [
    "train_y.ravel()"
   ]
  },
  {
   "cell_type": "code",
   "execution_count": 128,
   "metadata": {},
   "outputs": [
    {
     "data": {
      "text/plain": [
       "Pipeline(steps=[('impute', SimpleImputer(strategy='median')),\n",
       "                ('scaler', StandardScaler()),\n",
       "                ('svr', SVR(C=0.1, kernel='linear'))])"
      ]
     },
     "execution_count": 128,
     "metadata": {},
     "output_type": "execute_result"
    }
   ],
   "source": [
    "#svr_model.fit(X_train,Y_train)\n",
    "svr_model.fit(X_train,train_y.ravel())\n"
   ]
  },
  {
   "cell_type": "code",
   "execution_count": 129,
   "metadata": {},
   "outputs": [],
   "source": [
    "y_pred = svr_model.predict(X_train)"
   ]
  },
  {
   "cell_type": "code",
   "execution_count": 131,
   "metadata": {},
   "outputs": [
    {
     "data": {
      "text/plain": [
       "0.3369252634036628"
      ]
     },
     "execution_count": 131,
     "metadata": {},
     "output_type": "execute_result"
    }
   ],
   "source": [
    "r2_score(train_y,y_pred)"
   ]
  },
  {
   "cell_type": "code",
   "execution_count": null,
   "metadata": {},
   "outputs": [],
   "source": []
  },
  {
   "cell_type": "code",
   "execution_count": 33,
   "metadata": {},
   "outputs": [
    {
     "data": {
      "text/plain": [
       "0.32690388202392795"
      ]
     },
     "execution_count": 33,
     "metadata": {},
     "output_type": "execute_result"
    }
   ],
   "source": [
    "from sklearn.metrics import explained_variance_score\n",
    "explained_variance_score(Y_train,y_pred)"
   ]
  },
  {
   "cell_type": "code",
   "execution_count": 76,
   "metadata": {},
   "outputs": [],
   "source": [
    "from sklearn import linear_model\n",
    "baymod = linear_model.BayesianRidge()"
   ]
  },
  {
   "cell_type": "code",
   "execution_count": 16,
   "metadata": {},
   "outputs": [],
   "source": [
    "X_train['WAR_1'].fillna(1,inplace=True)\n",
    "X_train['WAR_2'].fillna(1,inplace=True)\n",
    "X_train['WAR_3'].fillna(1,inplace=True)\n",
    "impute = SimpleImputer(strategy='median')\n",
    "X_train_imputed = impute.fit_transform(X_train)"
   ]
  },
  {
   "cell_type": "code",
   "execution_count": 79,
   "metadata": {},
   "outputs": [
    {
     "data": {
      "text/plain": [
       "BayesianRidge()"
      ]
     },
     "execution_count": 79,
     "metadata": {},
     "output_type": "execute_result"
    }
   ],
   "source": [
    "baymod.fit(X_train_imputed,Y_train)"
   ]
  },
  {
   "cell_type": "code",
   "execution_count": 81,
   "metadata": {},
   "outputs": [],
   "source": [
    "bay_y_pred = baymod.predict(X_train_imputed)"
   ]
  },
  {
   "cell_type": "code",
   "execution_count": 82,
   "metadata": {},
   "outputs": [
    {
     "data": {
      "text/plain": [
       "0.31518158996619605"
      ]
     },
     "execution_count": 82,
     "metadata": {},
     "output_type": "execute_result"
    }
   ],
   "source": [
    "r2_score(Y_train,bay_y_pred)"
   ]
  },
  {
   "cell_type": "code",
   "execution_count": 499,
   "metadata": {},
   "outputs": [],
   "source": [
    "from sklearn.neural_network import MLPRegressor\n",
    "X_train['WAR_1'].fillna(1,inplace=True)\n",
    "X_train['WAR_2'].fillna(1,inplace=True)\n",
    "X_train['WAR_3'].fillna(1,inplace=True)\n",
    "impute = SimpleImputer(strategy='median')\n",
    "X_train_imputed = impute.fit_transform(X_train)\n",
    "regr = MLPRegressor(random_state=1, max_iter=50000)"
   ]
  },
  {
   "cell_type": "code",
   "execution_count": 500,
   "metadata": {},
   "outputs": [
    {
     "data": {
      "text/plain": [
       "MLPRegressor(max_iter=50000, random_state=1)"
      ]
     },
     "execution_count": 500,
     "metadata": {},
     "output_type": "execute_result"
    }
   ],
   "source": [
    "regr.fit(X_train_imputed, Y_train)"
   ]
  },
  {
   "cell_type": "code",
   "execution_count": 503,
   "metadata": {},
   "outputs": [],
   "source": [
    "nnreg_pred = regr.predict(X_train_imputed)"
   ]
  },
  {
   "cell_type": "code",
   "execution_count": 504,
   "metadata": {},
   "outputs": [
    {
     "data": {
      "text/plain": [
       "0.02126323930400764"
      ]
     },
     "execution_count": 504,
     "metadata": {},
     "output_type": "execute_result"
    }
   ],
   "source": [
    "r2_score(Y_train,nnreg_pred)"
   ]
  },
  {
   "cell_type": "code",
   "execution_count": 461,
   "metadata": {},
   "outputs": [
    {
     "data": {
      "text/plain": [
       "381"
      ]
     },
     "execution_count": 461,
     "metadata": {},
     "output_type": "execute_result"
    }
   ],
   "source": [
    "len(X_test)"
   ]
  },
  {
   "cell_type": "code",
   "execution_count": 91,
   "metadata": {},
   "outputs": [
    {
     "data": {
      "text/plain": [
       "0       9.6\n",
       "1       8.4\n",
       "2       8.0\n",
       "3       7.9\n",
       "6       6.9\n",
       "       ... \n",
       "4046    8.0\n",
       "4048    7.6\n",
       "4050    6.6\n",
       "4059    5.2\n",
       "4416   -3.2\n",
       "Name: WAR, Length: 82, dtype: float64"
      ]
     },
     "execution_count": 91,
     "metadata": {},
     "output_type": "execute_result"
    }
   ],
   "source": [
    "Y_train[pd.Series(Y_train-y_pred).abs() > 4]"
   ]
  },
  {
   "cell_type": "code",
   "execution_count": 50,
   "metadata": {},
   "outputs": [],
   "source": [
    "y_train_filtered = Y_train[pd.Series(Y_train-y_pred).abs() <= 4]"
   ]
  },
  {
   "cell_type": "code",
   "execution_count": 51,
   "metadata": {},
   "outputs": [],
   "source": [
    "y_pred_filtered = y_pred[pd.Series(Y_train-y_pred).abs() <= 4]"
   ]
  },
  {
   "cell_type": "code",
   "execution_count": 46,
   "metadata": {},
   "outputs": [
    {
     "data": {
      "text/plain": [
       "4417"
      ]
     },
     "execution_count": 46,
     "metadata": {},
     "output_type": "execute_result"
    }
   ],
   "source": [
    "len(Y_train)"
   ]
  },
  {
   "cell_type": "code",
   "execution_count": 52,
   "metadata": {},
   "outputs": [
    {
     "data": {
      "text/plain": [
       "4335"
      ]
     },
     "execution_count": 52,
     "metadata": {},
     "output_type": "execute_result"
    }
   ],
   "source": [
    "len(y_train_filtered)"
   ]
  },
  {
   "cell_type": "code",
   "execution_count": 53,
   "metadata": {},
   "outputs": [
    {
     "data": {
      "text/plain": [
       "0.3579003715834913"
      ]
     },
     "execution_count": 53,
     "metadata": {},
     "output_type": "execute_result"
    }
   ],
   "source": [
    "r2_score(y_train_filtered,y_pred_filtered)"
   ]
  },
  {
   "cell_type": "code",
   "execution_count": 69,
   "metadata": {},
   "outputs": [
    {
     "data": {
      "text/plain": [
       "579     0.8\n",
       "1058   -0.5\n",
       "1782   -0.5\n",
       "1976    1.8\n",
       "2208    7.1\n",
       "2780    0.9\n",
       "2953    5.4\n",
       "3382    2.9\n",
       "3971    0.0\n",
       "4416   -3.2\n",
       "4793   -1.3\n",
       "Name: WAR, dtype: float64"
      ]
     },
     "execution_count": 69,
     "metadata": {},
     "output_type": "execute_result"
    }
   ],
   "source": [
    "all_hit[all_hit['Name']=='Chris Davis']['WAR']"
   ]
  },
  {
   "cell_type": "code",
   "execution_count": 71,
   "metadata": {},
   "outputs": [],
   "source": [
    "test_preds = svr_model.predict(X_test)"
   ]
  },
  {
   "cell_type": "code",
   "execution_count": 87,
   "metadata": {},
   "outputs": [
    {
     "data": {
      "text/plain": [
       "0.3249783305218431"
      ]
     },
     "execution_count": 87,
     "metadata": {},
     "output_type": "execute_result"
    }
   ],
   "source": [
    "r2_score(Y_test,test_preds)"
   ]
  },
  {
   "cell_type": "code",
   "execution_count": 85,
   "metadata": {},
   "outputs": [],
   "source": [
    "X_test['WAR_1'].fillna(1,inplace=True)\n",
    "X_test['WAR_2'].fillna(1,inplace=True)\n",
    "X_test['WAR_3'].fillna(1,inplace=True)\n",
    "imputeTest = SimpleImputer(strategy='median')\n",
    "X_test_imputed = imputeTest.fit_transform(X_test)\n",
    "\n",
    "bay_ytest_pred = baymod.predict(X_test_imputed)"
   ]
  },
  {
   "cell_type": "code",
   "execution_count": 86,
   "metadata": {},
   "outputs": [
    {
     "data": {
      "text/plain": [
       "0.3378660479116157"
      ]
     },
     "execution_count": 86,
     "metadata": {},
     "output_type": "execute_result"
    }
   ],
   "source": [
    "r2_score(Y_test,bay_ytest_pred)"
   ]
  },
  {
   "cell_type": "code",
   "execution_count": 89,
   "metadata": {},
   "outputs": [
    {
     "data": {
      "text/plain": [
       "4417    False\n",
       "4418    False\n",
       "4419    False\n",
       "4420     True\n",
       "4421     True\n",
       "        ...  \n",
       "4793    False\n",
       "4794    False\n",
       "4795    False\n",
       "4796    False\n",
       "4797    False\n",
       "Name: WAR, Length: 381, dtype: bool"
      ]
     },
     "execution_count": 89,
     "metadata": {},
     "output_type": "execute_result"
    }
   ],
   "source": [
    "pd.Series(Y_test-bay_ytest_pred).abs() > 4"
   ]
  },
  {
   "cell_type": "code",
   "execution_count": 135,
   "metadata": {},
   "outputs": [
    {
     "data": {
      "text/plain": [
       "0.9229122055674518"
      ]
     },
     "execution_count": 135,
     "metadata": {},
     "output_type": "execute_result"
    }
   ],
   "source": [
    "y_true = [3, -0.5, 2, 7]\n",
    "y_pred = [2.5, -1.5, 2, 8]\n",
    "r2_score(y_true, y_pred)"
   ]
  },
  {
   "cell_type": "code",
   "execution_count": 136,
   "metadata": {},
   "outputs": [
    {
     "data": {
      "text/plain": [
       "<matplotlib.axes._subplots.AxesSubplot at 0x195051df6d0>"
      ]
     },
     "execution_count": 136,
     "metadata": {},
     "output_type": "execute_result"
    },
    {
     "data": {
      "image/png": "[encoded data removed]",
      "text/plain": [
       "<Figure size 432x288 with 1 Axes>"
      ]
     },
     "metadata": {
      "needs_background": "light"
     },
     "output_type": "display_data"
    }
   ],
   "source": [
    "sns.distplot(all_hit['WAR'])"
   ]
  },
  {
   "cell_type": "code",
   "execution_count": null,
   "metadata": {},
   "outputs": [],
   "source": []
  }
 ],
 "metadata": {
  "kernelspec": {
   "display_name": "Python 3",
   "language": "python",
   "name": "python3"
  },
  "language_info": {
   "codemirror_mode": {
    "name": "ipython",
    "version": 3
   },
   "file_extension": ".py",
   "mimetype": "text/x-python",
   "name": "python",
   "nbconvert_exporter": "python",
   "pygments_lexer": "ipython3",
   "version": "3.8.4rc1"
  },
  "varInspector": {
   "cols": {
    "lenName": 16,
    "lenType": 16,
    "lenVar": 40
   },
   "kernels_config": {
    "python": {
     "delete_cmd_postfix": "",
     "delete_cmd_prefix": "del ",
     "library": "var_list.py",
     "varRefreshCmd": "print(var_dic_list())"
    },
    "r": {
     "delete_cmd_postfix": ") ",
     "delete_cmd_prefix": "rm(",
     "library": "var_list.r",
     "varRefreshCmd": "cat(var_dic_list()) "
    }
   },
   "position": {
    "height": "583px",
    "left": "1576px",
    "right": "20px",
    "top": "120px",
    "width": "324px"
   },
   "types_to_exclude": [
    "module",
    "function",
    "builtin_function_or_method",
    "instance",
    "_Feature"
   ],
   "window_display": false
  }
 },
 "nbformat": 4,
 "nbformat_minor": 4
}
