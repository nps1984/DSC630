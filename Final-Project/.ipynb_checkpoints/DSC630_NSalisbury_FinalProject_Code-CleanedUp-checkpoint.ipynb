{
 "cells": [
  {
   "cell_type": "code",
   "execution_count": 46,
   "metadata": {},
   "outputs": [],
   "source": [
    "import numpy as np\n",
    "import pandas as pd\n",
    "import os\n",
    "from matplotlib import pyplot as plt\n",
    "import seaborn as sns\n",
    "from pybaseball import pitching_stats, batting_stats\n",
    "\n",
    "from sklearn.pipeline import Pipeline\n",
    "from sklearn.model_selection import train_test_split, GridSearchCV\n",
    "from sklearn.preprocessing import LabelEncoder\n",
    "from sklearn.decomposition import PCA, NMF\n",
    "from sklearn.feature_selection import SelectKBest, chi2\n",
    "from sklearn.svm import SVC\n",
    "\n",
    "from sklearn.svm import SVR\n",
    "from sklearn.model_selection import GridSearchCV\n",
    "from sklearn.model_selection import learning_curve\n",
    "from sklearn.kernel_ridge import KernelRidge\n",
    "import matplotlib.pyplot as plt\n",
    "from sklearn.preprocessing import OneHotEncoder, StandardScaler\n",
    "from sklearn.impute import SimpleImputer\n",
    "from sklearn.metrics import r2_score, mean_squared_error, make_scorer\n",
    "from sklearn.pipeline import make_pipeline\n",
    "\n",
    "from sklearn.feature_selection import SelectKBest\n",
    "from sklearn.feature_selection import f_classif\n",
    "from sklearn.preprocessing import MinMaxScaler\n",
    "\n",
    "from sklearn.metrics import explained_variance_score\n",
    "from sklearn import linear_model\n",
    "from sklearn.neural_network import MLPRegressor"
   ]
  },
  {
   "cell_type": "markdown",
   "metadata": {},
   "source": [
    "##### Data download\n",
    "Code below was is in a raw cell so it won't execute as it can take some time to execute. It is left here for reference. In subsequent sessions, the data was read via a saved CSV."
   ]
  },
  {
   "cell_type": "raw",
   "metadata": {},
   "source": [
    "seasons = [2007,2008,2009,2010,2011,2012,2013,2014,2015,2016,2017,2018,2019]\n",
    "\n",
    "list_hit_data = []\n",
    "\n",
    "for season in seasons:\n",
    "    # get prev 3 season range\n",
    "    begin_range = season - 3\n",
    "    end_range = season - 1\n",
    "    \n",
    "    # get current season stats\n",
    "    hit_data = batting_stats(season)\n",
    "    \n",
    "    # get previous seasons\n",
    "    hit_data_trans = batting_stats(begin_range, end_range)\n",
    "    \n",
    "    # clean up gross columns in both df's\n",
    "    hit_data.drop(list(hit_data.filter(regex='(pi)')),axis=1,inplace=True)\n",
    "    hit_data.drop(list(hit_data.filter(regex='(pfx)')),axis=1,inplace=True)\n",
    "    hit_data.drop(['IFFB','Pitches','Balls','Strikes','IFH','BUH',\n",
    "                   'FB% (Pitch)','FBv','SL%','SLv','CT%','CTv','CB%','CBv','CH%',\n",
    "                   'CHv','SF%','SFv','KN%','KNv','XX%','wFB','wSL','wCT','wCB','wCH',\n",
    "                   'wSF','wKN','wFB/C','wSL/C','wCT/C','wCB/C','wCH/C','wSF/C','wKN/C',\n",
    "                   'Clutch','BUH%','TTO%','GB','FB','LD','BU','OBP','SLG',\n",
    "                   'GB/FB','Bat','Rep','Pos','Dol','Spd','wRC+','WPA','-WPA',\n",
    "                   '+WPA','RE24','REW','pLI','phLI','PH','WPA/LI','PO%','BsR','Pace','Def',\n",
    "                   'wSB','UBR','Off','Lg','wGDP'\n",
    "                  ],axis=1,inplace=True)\n",
    "        \n",
    "    hit_data_trans.drop(list(hit_data_trans.filter(regex='(pi)')),axis=1,inplace=True)\n",
    "    hit_data_trans.drop(list(hit_data_trans.filter(regex='(pfx)')),axis=1,inplace=True)\n",
    "    hit_data_trans.drop(['IFFB','Pitches','Balls','Strikes','IFH','BUH',\n",
    "                   'FB% (Pitch)','FBv','SL%','SLv','CT%','CTv','CB%','CBv','CH%',\n",
    "                   'CHv','SF%','SFv','KN%','KNv','XX%','wFB','wSL','wCT','wCB','wCH',\n",
    "                   'wSF','wKN','wFB/C','wSL/C','wCT/C','wCB/C','wCH/C','wSF/C','wKN/C',\n",
    "                   'Clutch','BUH%','TTO%','GB','FB','LD','BU','OBP','SLG',\n",
    "                   'GB/FB','Bat','Rep','Pos','Dol','Spd','wRC+','WPA','-WPA',\n",
    "                   '+WPA','RE24','REW','pLI','phLI','PH','WPA/LI','PO%','BsR','Pace','Def',\n",
    "                   'wSB','UBR','Off','Lg','wGDP'\n",
    "                  ],axis=1,inplace=True)\n",
    "    \n",
    "    # filter out rows, this mostly hits pitchers and players w/o much playing time\n",
    "    hit_data = hit_data[hit_data['PA'] >= 180]\n",
    "    hit_data_trans = hit_data_trans[hit_data_trans['PA'] >= 180]\n",
    "\n",
    "    \n",
    "    # pivot the previous 3 years\n",
    "    hit_data_pivot = pd.pivot_table(hit_data_trans,index='Name',columns='Season')\n",
    "    hit_data_pivot = hit_data_pivot.sort_index(axis=1, level=1)\n",
    "    hit_data_pivot.columns = [f'{x}_{season-int(y)}' for x,y in hit_data_pivot.columns]\n",
    "    hit_data_pivot = hit_data_pivot.reset_index()\n",
    "    \n",
    "    # merge current season w/ previous 3 seasons\n",
    "    merged = hit_data.merge(hit_data_pivot, how='left', on='Name')\n",
    "    \n",
    "    list_hit_data.append(merged)\n",
    "    \n",
    "    \n",
    "all_hit = pd.concat(list_hit_data, ignore_index=True)\n",
    "    "
   ]
  },
  {
   "cell_type": "raw",
   "metadata": {},
   "source": [
    "all_hit.to_csv(f'all_hit_data.csv',index=False)"
   ]
  },
  {
   "cell_type": "code",
   "execution_count": 2,
   "metadata": {},
   "outputs": [],
   "source": [
    "# Load the data\n",
    "all_hit = pd.read_csv(f'all_hit_data.csv')"
   ]
  },
  {
   "cell_type": "markdown",
   "metadata": {},
   "source": [
    "Check distribution of some variables"
   ]
  },
  {
   "cell_type": "code",
   "execution_count": 4,
   "metadata": {},
   "outputs": [
    {
     "data": {
      "text/plain": [
       "<matplotlib.axes._subplots.AxesSubplot at 0x276e7c224c0>"
      ]
     },
     "execution_count": 4,
     "metadata": {},
     "output_type": "execute_result"
    },
    {
     "data": {
      "image/png": "[encoded data removed]",
      "text/plain": [
       "<Figure size 432x288 with 1 Axes>"
      ]
     },
     "metadata": {
      "needs_background": "light"
     },
     "output_type": "display_data"
    }
   ],
   "source": [
    "sns.distplot(all_hit['PA'])"
   ]
  },
  {
   "cell_type": "code",
   "execution_count": 6,
   "metadata": {},
   "outputs": [
    {
     "data": {
      "text/plain": [
       "<matplotlib.axes._subplots.AxesSubplot at 0x276ebd25b20>"
      ]
     },
     "execution_count": 6,
     "metadata": {},
     "output_type": "execute_result"
    },
    {
     "data": {
      "image/png": "[encoded data removed]",
      "text/plain": [
       "<Figure size 432x288 with 1 Axes>"
      ]
     },
     "metadata": {
      "needs_background": "light"
     },
     "output_type": "display_data"
    }
   ],
   "source": [
    "sns.distplot(all_hit['AVG'])"
   ]
  },
  {
   "cell_type": "code",
   "execution_count": 7,
   "metadata": {},
   "outputs": [
    {
     "data": {
      "text/plain": [
       "<matplotlib.axes._subplots.AxesSubplot at 0x276ebe0a070>"
      ]
     },
     "execution_count": 7,
     "metadata": {},
     "output_type": "execute_result"
    },
    {
     "data": {
      "image/png": "[encoded data removed]",
      "text/plain": [
       "<Figure size 432x288 with 1 Axes>"
      ]
     },
     "metadata": {
      "needs_background": "light"
     },
     "output_type": "display_data"
    }
   ],
   "source": [
    "sns.distplot(all_hit['LD%'])"
   ]
  },
  {
   "cell_type": "code",
   "execution_count": 9,
   "metadata": {},
   "outputs": [
    {
     "data": {
      "text/plain": [
       "<matplotlib.axes._subplots.AxesSubplot at 0x276ebee1a60>"
      ]
     },
     "execution_count": 9,
     "metadata": {},
     "output_type": "execute_result"
    },
    {
     "data": {
      "image/png": "[encoded data removed]",
      "text/plain": [
       "<Figure size 432x288 with 1 Axes>"
      ]
     },
     "metadata": {
      "needs_background": "light"
     },
     "output_type": "display_data"
    }
   ],
   "source": [
    "sns.distplot(all_hit['Pull%'])"
   ]
  },
  {
   "cell_type": "code",
   "execution_count": 10,
   "metadata": {},
   "outputs": [
    {
     "data": {
      "text/plain": [
       "<matplotlib.axes._subplots.AxesSubplot at 0x276ec0d7a90>"
      ]
     },
     "execution_count": 10,
     "metadata": {},
     "output_type": "execute_result"
    },
    {
     "data": {
      "image/png": "[encoded data removed]",
      "text/plain": [
       "<Figure size 432x288 with 1 Axes>"
      ]
     },
     "metadata": {
      "needs_background": "light"
     },
     "output_type": "display_data"
    }
   ],
   "source": [
    "sns.distplot(all_hit['O-Swing%'])"
   ]
  },
  {
   "cell_type": "code",
   "execution_count": 12,
   "metadata": {},
   "outputs": [
    {
     "data": {
      "text/plain": [
       "<matplotlib.axes._subplots.AxesSubplot at 0x276ec5324f0>"
      ]
     },
     "execution_count": 12,
     "metadata": {},
     "output_type": "execute_result"
    },
    {
     "data": {
      "image/png": "[encoded data removed]",
      "text/plain": [
       "<Figure size 432x288 with 1 Axes>"
      ]
     },
     "metadata": {
      "needs_background": "light"
     },
     "output_type": "display_data"
    }
   ],
   "source": [
    "sns.distplot(all_hit['WAR'])"
   ]
  },
  {
   "cell_type": "code",
   "execution_count": 11,
   "metadata": {},
   "outputs": [
    {
     "data": {
      "text/plain": [
       "<seaborn.axisgrid.FacetGrid at 0x276ec04aa60>"
      ]
     },
     "execution_count": 11,
     "metadata": {},
     "output_type": "execute_result"
    },
    {
     "data": {
      "image/png": "[encoded data removed]",
      "text/plain": [
       "<Figure size 360x360 with 1 Axes>"
      ]
     },
     "metadata": {
      "needs_background": "light"
     },
     "output_type": "display_data"
    }
   ],
   "source": [
    "sns.relplot(x='Age',y='WAR',data=all_hit[all_hit['WAR_3']>4])"
   ]
  },
  {
   "cell_type": "code",
   "execution_count": 16,
   "metadata": {},
   "outputs": [],
   "source": [
    "# This removes current season data except age and WAR and only leaves pivoted previous season\n",
    "# WAR for current season will be chopped off into the target variable\n",
    "model_data = all_hit.filter(regex='(^Age$)|(^WAR$)|(^Season$)|(_\\d$)', axis=1)"
   ]
  },
  {
   "cell_type": "code",
   "execution_count": 17,
   "metadata": {},
   "outputs": [],
   "source": [
    "# split train/test\n",
    "# seasons before 2019\n",
    "X_train = model_data[model_data['Season']<2019][['Age','AB_3','AVG_3','BABIP_3','BB%_3','BB/K_3','Contact%_3','FB%_3','G_3',\n",
    "'GB%_3','GDP_3','H_3','HBP_3','HR_3','HR/FB_3','Hard%_3','IFFB%_3','ISO_3',\n",
    "'K%_3','LD%_3','OPS_3','PA_3','R_3','RAR_3','RBI_3','SB_3','SF_3','SH_3',\n",
    "'SO_3','WAR_3','wOBA_3','wRAA_3','wRC_3','AB_2','AVG_2','BABIP_2','BB%_2',\n",
    "'BB/K_2','Contact%_2','FB%_2','G_2','GB%_2','GDP_2','H_2','HBP_2','HR_2',\n",
    "'HR/FB_2','Hard%_2','IFFB%_2','ISO_2','K%_2','LD%_2','OPS_2','PA_2','R_2',\n",
    "'RAR_2','RBI_2','SB_2','SF_2','SH_2','SO_2','WAR_2','wOBA_2','wRAA_2','wRC_2',\n",
    "'AB_1','AVG_1','BABIP_1','BB%_1','BB/K_1','Contact%_1','FB%_1','G_1','GB%_1',\n",
    "'GDP_1','H_1','HBP_1','HR_1','HR/FB_1','Hard%_1','IFFB%_1','ISO_1','K%_1',\n",
    "'LD%_1','OPS_1','PA_1','R_1','RAR_1','RBI_1','SB_1','SF_1','SH_1','SO_1',\n",
    "'WAR_1','wOBA_1','wRAA_1','wRC_1']]\n",
    "\n",
    "# 2019 season\n",
    "X_test = model_data[model_data['Season']==2019][['Age','AB_3','AVG_3','BABIP_3','BB%_3','BB/K_3','Contact%_3','FB%_3','G_3',\n",
    "'GB%_3','GDP_3','H_3','HBP_3','HR_3','HR/FB_3','Hard%_3','IFFB%_3','ISO_3',\n",
    "'K%_3','LD%_3','OPS_3','PA_3','R_3','RAR_3','RBI_3','SB_3','SF_3','SH_3',\n",
    "'SO_3','WAR_3','wOBA_3','wRAA_3','wRC_3','AB_2','AVG_2','BABIP_2','BB%_2',\n",
    "'BB/K_2','Contact%_2','FB%_2','G_2','GB%_2','GDP_2','H_2','HBP_2','HR_2',\n",
    "'HR/FB_2','Hard%_2','IFFB%_2','ISO_2','K%_2','LD%_2','OPS_2','PA_2','R_2',\n",
    "'RAR_2','RBI_2','SB_2','SF_2','SH_2','SO_2','WAR_2','wOBA_2','wRAA_2','wRC_2',\n",
    "'AB_1','AVG_1','BABIP_1','BB%_1','BB/K_1','Contact%_1','FB%_1','G_1','GB%_1',\n",
    "'GDP_1','H_1','HBP_1','HR_1','HR/FB_1','Hard%_1','IFFB%_1','ISO_1','K%_1',\n",
    "'LD%_1','OPS_1','PA_1','R_1','RAR_1','RBI_1','SB_1','SF_1','SH_1','SO_1',\n",
    "'WAR_1','wOBA_1','wRAA_1','wRC_1']]"
   ]
  },
  {
   "cell_type": "code",
   "execution_count": 74,
   "metadata": {},
   "outputs": [],
   "source": [
    "# grab target variable\n",
    "Y_train = model_data[model_data['Season']<2019]['WAR']\n",
    "Y_test = model_data[model_data['Season']==2019]['WAR']"
   ]
  },
  {
   "cell_type": "code",
   "execution_count": 18,
   "metadata": {},
   "outputs": [
    {
     "data": {
      "text/html": [
       "<div>\n",
       "<style scoped>\n",
       "    .dataframe tbody tr th:only-of-type {\n",
       "        vertical-align: middle;\n",
       "    }\n",
       "\n",
       "    .dataframe tbody tr th {\n",
       "        vertical-align: top;\n",
       "    }\n",
       "\n",
       "    .dataframe thead th {\n",
       "        text-align: right;\n",
       "    }\n",
       "</style>\n",
       "<table border=\"1\" class=\"dataframe\">\n",
       "  <thead>\n",
       "    <tr style=\"text-align: right;\">\n",
       "      <th></th>\n",
       "      <th>WAR</th>\n",
       "      <th>WAR_3</th>\n",
       "      <th>WAR_2</th>\n",
       "      <th>WAR_1</th>\n",
       "    </tr>\n",
       "  </thead>\n",
       "  <tbody>\n",
       "    <tr>\n",
       "      <th>count</th>\n",
       "      <td>4798.000000</td>\n",
       "      <td>2748.000000</td>\n",
       "      <td>3189.000000</td>\n",
       "      <td>3712.000000</td>\n",
       "    </tr>\n",
       "    <tr>\n",
       "      <th>mean</th>\n",
       "      <td>1.597124</td>\n",
       "      <td>2.293013</td>\n",
       "      <td>2.153669</td>\n",
       "      <td>1.979445</td>\n",
       "    </tr>\n",
       "    <tr>\n",
       "      <th>std</th>\n",
       "      <td>1.929800</td>\n",
       "      <td>2.035825</td>\n",
       "      <td>1.966809</td>\n",
       "      <td>1.939724</td>\n",
       "    </tr>\n",
       "    <tr>\n",
       "      <th>min</th>\n",
       "      <td>-3.400000</td>\n",
       "      <td>-3.400000</td>\n",
       "      <td>-3.400000</td>\n",
       "      <td>-3.400000</td>\n",
       "    </tr>\n",
       "    <tr>\n",
       "      <th>25%</th>\n",
       "      <td>0.200000</td>\n",
       "      <td>0.800000</td>\n",
       "      <td>0.700000</td>\n",
       "      <td>0.600000</td>\n",
       "    </tr>\n",
       "    <tr>\n",
       "      <th>50%</th>\n",
       "      <td>1.200000</td>\n",
       "      <td>2.000000</td>\n",
       "      <td>1.900000</td>\n",
       "      <td>1.700000</td>\n",
       "    </tr>\n",
       "    <tr>\n",
       "      <th>75%</th>\n",
       "      <td>2.600000</td>\n",
       "      <td>3.500000</td>\n",
       "      <td>3.300000</td>\n",
       "      <td>3.000000</td>\n",
       "    </tr>\n",
       "    <tr>\n",
       "      <th>max</th>\n",
       "      <td>10.400000</td>\n",
       "      <td>11.900000</td>\n",
       "      <td>10.200000</td>\n",
       "      <td>10.400000</td>\n",
       "    </tr>\n",
       "  </tbody>\n",
       "</table>\n",
       "</div>"
      ],
      "text/plain": [
       "               WAR        WAR_3        WAR_2        WAR_1\n",
       "count  4798.000000  2748.000000  3189.000000  3712.000000\n",
       "mean      1.597124     2.293013     2.153669     1.979445\n",
       "std       1.929800     2.035825     1.966809     1.939724\n",
       "min      -3.400000    -3.400000    -3.400000    -3.400000\n",
       "25%       0.200000     0.800000     0.700000     0.600000\n",
       "50%       1.200000     2.000000     1.900000     1.700000\n",
       "75%       2.600000     3.500000     3.300000     3.000000\n",
       "max      10.400000    11.900000    10.200000    10.400000"
      ]
     },
     "execution_count": 18,
     "metadata": {},
     "output_type": "execute_result"
    }
   ],
   "source": [
    "model_data[['WAR','WAR_3','WAR_2','WAR_1']].describe()"
   ]
  },
  {
   "cell_type": "markdown",
   "metadata": {},
   "source": [
    "### Select Features\n",
    "Run through a process to see what my best features are"
   ]
  },
  {
   "cell_type": "code",
   "execution_count": 20,
   "metadata": {},
   "outputs": [],
   "source": [
    "# create selector\n",
    "selector = SelectKBest(score_func=f_classif, k=10)"
   ]
  },
  {
   "cell_type": "code",
   "execution_count": 23,
   "metadata": {},
   "outputs": [],
   "source": [
    "# impute data\n",
    "X_train['WAR_1'].fillna(1,inplace=True)\n",
    "X_train['WAR_2'].fillna(1,inplace=True)\n",
    "X_train['WAR_3'].fillna(1,inplace=True)\n",
    "imputeTrain = SimpleImputer(strategy='median')\n",
    "X_train_imputed = imputeTrain.fit_transform(X_train)"
   ]
  },
  {
   "cell_type": "code",
   "execution_count": 28,
   "metadata": {},
   "outputs": [],
   "source": [
    "fit = selector.fit(X_train_imputed, Y_train)"
   ]
  },
  {
   "cell_type": "code",
   "execution_count": 29,
   "metadata": {},
   "outputs": [],
   "source": [
    "features = fit.transform(X_train_imputed)"
   ]
  },
  {
   "cell_type": "code",
   "execution_count": 30,
   "metadata": {},
   "outputs": [
    {
     "data": {
      "text/html": [
       "<div>\n",
       "<style scoped>\n",
       "    .dataframe tbody tr th:only-of-type {\n",
       "        vertical-align: middle;\n",
       "    }\n",
       "\n",
       "    .dataframe tbody tr th {\n",
       "        vertical-align: top;\n",
       "    }\n",
       "\n",
       "    .dataframe thead th {\n",
       "        text-align: right;\n",
       "    }\n",
       "</style>\n",
       "<table border=\"1\" class=\"dataframe\">\n",
       "  <thead>\n",
       "    <tr style=\"text-align: right;\">\n",
       "      <th></th>\n",
       "      <th>RAR_3</th>\n",
       "      <th>WAR_3</th>\n",
       "      <th>RAR_2</th>\n",
       "      <th>WAR_2</th>\n",
       "      <th>OPS_1</th>\n",
       "      <th>R_1</th>\n",
       "      <th>RAR_1</th>\n",
       "      <th>WAR_1</th>\n",
       "      <th>wRAA_1</th>\n",
       "      <th>wRC_1</th>\n",
       "    </tr>\n",
       "  </thead>\n",
       "  <tbody>\n",
       "    <tr>\n",
       "      <th>count</th>\n",
       "      <td>2549.000000</td>\n",
       "      <td>4417.000000</td>\n",
       "      <td>2952.000000</td>\n",
       "      <td>4417.000000</td>\n",
       "      <td>3432.000000</td>\n",
       "      <td>3432.000000</td>\n",
       "      <td>3432.000000</td>\n",
       "      <td>4417.000000</td>\n",
       "      <td>3432.000000</td>\n",
       "      <td>3432.000000</td>\n",
       "    </tr>\n",
       "    <tr>\n",
       "      <th>mean</th>\n",
       "      <td>22.369969</td>\n",
       "      <td>1.743491</td>\n",
       "      <td>20.927846</td>\n",
       "      <td>1.768859</td>\n",
       "      <td>0.762582</td>\n",
       "      <td>59.082459</td>\n",
       "      <td>19.323864</td>\n",
       "      <td>1.764388</td>\n",
       "      <td>5.933625</td>\n",
       "      <td>61.792832</td>\n",
       "    </tr>\n",
       "    <tr>\n",
       "      <th>std</th>\n",
       "      <td>19.948966</td>\n",
       "      <td>1.672853</td>\n",
       "      <td>19.260814</td>\n",
       "      <td>1.704588</td>\n",
       "      <td>0.096605</td>\n",
       "      <td>25.037062</td>\n",
       "      <td>18.929610</td>\n",
       "      <td>1.760453</td>\n",
       "      <td>15.307454</td>\n",
       "      <td>28.446495</td>\n",
       "    </tr>\n",
       "    <tr>\n",
       "      <th>min</th>\n",
       "      <td>-33.700000</td>\n",
       "      <td>-3.400000</td>\n",
       "      <td>-33.700000</td>\n",
       "      <td>-3.400000</td>\n",
       "      <td>0.382000</td>\n",
       "      <td>6.000000</td>\n",
       "      <td>-33.700000</td>\n",
       "      <td>-3.400000</td>\n",
       "      <td>-33.600000</td>\n",
       "      <td>-1.000000</td>\n",
       "    </tr>\n",
       "    <tr>\n",
       "      <th>25%</th>\n",
       "      <td>7.700000</td>\n",
       "      <td>1.000000</td>\n",
       "      <td>6.900000</td>\n",
       "      <td>1.000000</td>\n",
       "      <td>0.698000</td>\n",
       "      <td>39.000000</td>\n",
       "      <td>5.600000</td>\n",
       "      <td>0.900000</td>\n",
       "      <td>-4.500000</td>\n",
       "      <td>39.000000</td>\n",
       "    </tr>\n",
       "    <tr>\n",
       "      <th>50%</th>\n",
       "      <td>19.200000</td>\n",
       "      <td>1.000000</td>\n",
       "      <td>18.300000</td>\n",
       "      <td>1.000000</td>\n",
       "      <td>0.757000</td>\n",
       "      <td>57.000000</td>\n",
       "      <td>16.200000</td>\n",
       "      <td>1.000000</td>\n",
       "      <td>3.400000</td>\n",
       "      <td>59.000000</td>\n",
       "    </tr>\n",
       "    <tr>\n",
       "      <th>75%</th>\n",
       "      <td>33.900000</td>\n",
       "      <td>2.300000</td>\n",
       "      <td>31.900000</td>\n",
       "      <td>2.500000</td>\n",
       "      <td>0.822250</td>\n",
       "      <td>78.000000</td>\n",
       "      <td>29.900000</td>\n",
       "      <td>2.600000</td>\n",
       "      <td>13.725000</td>\n",
       "      <td>82.000000</td>\n",
       "    </tr>\n",
       "    <tr>\n",
       "      <th>max</th>\n",
       "      <td>122.100000</td>\n",
       "      <td>11.900000</td>\n",
       "      <td>98.200000</td>\n",
       "      <td>10.200000</td>\n",
       "      <td>1.114000</td>\n",
       "      <td>143.000000</td>\n",
       "      <td>98.200000</td>\n",
       "      <td>10.200000</td>\n",
       "      <td>77.300000</td>\n",
       "      <td>155.000000</td>\n",
       "    </tr>\n",
       "  </tbody>\n",
       "</table>\n",
       "</div>"
      ],
      "text/plain": [
       "             RAR_3        WAR_3        RAR_2        WAR_2        OPS_1  \\\n",
       "count  2549.000000  4417.000000  2952.000000  4417.000000  3432.000000   \n",
       "mean     22.369969     1.743491    20.927846     1.768859     0.762582   \n",
       "std      19.948966     1.672853    19.260814     1.704588     0.096605   \n",
       "min     -33.700000    -3.400000   -33.700000    -3.400000     0.382000   \n",
       "25%       7.700000     1.000000     6.900000     1.000000     0.698000   \n",
       "50%      19.200000     1.000000    18.300000     1.000000     0.757000   \n",
       "75%      33.900000     2.300000    31.900000     2.500000     0.822250   \n",
       "max     122.100000    11.900000    98.200000    10.200000     1.114000   \n",
       "\n",
       "               R_1        RAR_1        WAR_1       wRAA_1        wRC_1  \n",
       "count  3432.000000  3432.000000  4417.000000  3432.000000  3432.000000  \n",
       "mean     59.082459    19.323864     1.764388     5.933625    61.792832  \n",
       "std      25.037062    18.929610     1.760453    15.307454    28.446495  \n",
       "min       6.000000   -33.700000    -3.400000   -33.600000    -1.000000  \n",
       "25%      39.000000     5.600000     0.900000    -4.500000    39.000000  \n",
       "50%      57.000000    16.200000     1.000000     3.400000    59.000000  \n",
       "75%      78.000000    29.900000     2.600000    13.725000    82.000000  \n",
       "max     143.000000    98.200000    10.200000    77.300000   155.000000  "
      ]
     },
     "execution_count": 30,
     "metadata": {},
     "output_type": "execute_result"
    }
   ],
   "source": [
    "# Get columns that relate to best features\n",
    "cols = fit.get_support(indices=True)\n",
    "features_df_new = X_train.iloc[:,cols]\n",
    "features_df_new.describe()"
   ]
  },
  {
   "cell_type": "markdown",
   "metadata": {},
   "source": [
    "#### Test a pipeline & gridsearch"
   ]
  },
  {
   "cell_type": "code",
   "execution_count": 31,
   "metadata": {},
   "outputs": [],
   "source": [
    "# We've hardcoded values for the WAR_# statistics, but there may be some other values that need imputed\n",
    "# So add scaler and imputer to pipeline\n",
    "pipe = Pipeline([('impute', SimpleImputer(strategy='median')),\n",
    "                 ('scaler', StandardScaler()),\n",
    "                 ('svr',SVR())\n",
    "                ])"
   ]
  },
  {
   "cell_type": "code",
   "execution_count": 32,
   "metadata": {},
   "outputs": [],
   "source": [
    "# set parameters to search\n",
    "params = {'svr__C': [0.1, 1, 10],\n",
    "          'svr__kernel': ['linear','rbf'],\n",
    "          'svr__epsilon': [0.001, 0.01, 0.1]\n",
    "         }"
   ]
  },
  {
   "cell_type": "code",
   "execution_count": 33,
   "metadata": {},
   "outputs": [],
   "source": [
    "# build a search\n",
    "grid = GridSearchCV(pipe,\n",
    "                       param_grid=params,\n",
    "                       scoring={'r2': make_scorer(r2_score)},\n",
    "                       n_jobs=-1,\n",
    "                       cv=5,\n",
    "                       refit='r2')"
   ]
  },
  {
   "cell_type": "code",
   "execution_count": 34,
   "metadata": {},
   "outputs": [
    {
     "data": {
      "text/plain": [
       "GridSearchCV(cv=5,\n",
       "             estimator=Pipeline(steps=[('impute',\n",
       "                                        SimpleImputer(strategy='median')),\n",
       "                                       ('scaler', StandardScaler()),\n",
       "                                       ('svr', SVR())]),\n",
       "             n_jobs=-1,\n",
       "             param_grid={'svr__C': [0.1, 1, 10],\n",
       "                         'svr__epsilon': [0.001, 0.01, 0.1],\n",
       "                         'svr__kernel': ['linear', 'rbf']},\n",
       "             refit='r2', scoring={'r2': make_scorer(r2_score)})"
      ]
     },
     "execution_count": 34,
     "metadata": {},
     "output_type": "execute_result"
    }
   ],
   "source": [
    "# run grid search\n",
    "grid.fit(X_train, Y_train)"
   ]
  },
  {
   "cell_type": "code",
   "execution_count": 35,
   "metadata": {},
   "outputs": [
    {
     "data": {
      "text/plain": [
       "{'svr__C': 0.1, 'svr__epsilon': 0.1, 'svr__kernel': 'linear'}"
      ]
     },
     "execution_count": 35,
     "metadata": {},
     "output_type": "execute_result"
    }
   ],
   "source": [
    "grid.best_params_"
   ]
  },
  {
   "cell_type": "code",
   "execution_count": 36,
   "metadata": {},
   "outputs": [
    {
     "data": {
      "text/plain": [
       "0.2634992602046511"
      ]
     },
     "execution_count": 36,
     "metadata": {},
     "output_type": "execute_result"
    }
   ],
   "source": [
    "grid.best_score_"
   ]
  },
  {
   "cell_type": "code",
   "execution_count": 37,
   "metadata": {},
   "outputs": [],
   "source": [
    "# Create model based on best\n",
    "svr_model = Pipeline([('impute', SimpleImputer(strategy='median')),\n",
    "                 ('scaler', StandardScaler()),\n",
    "                 ('svr',SVR(C=0.1,epsilon=0.1,kernel='linear'))\n",
    "                ])"
   ]
  },
  {
   "cell_type": "code",
   "execution_count": 41,
   "metadata": {},
   "outputs": [],
   "source": [
    "# test scaling target\n",
    "# create target scaler object\n",
    "target_scaler = MinMaxScaler()\n",
    "\n",
    "# reshape values for scaler and fit\n",
    "target_scaler.fit(Y_train.values.reshape(-1,1))\n",
    "\n",
    "# transform target\n",
    "Y_train_trans = target_scaler.transform(Y_train.values.reshape(-1,1))"
   ]
  },
  {
   "cell_type": "code",
   "execution_count": 42,
   "metadata": {},
   "outputs": [
    {
     "data": {
      "text/plain": [
       "array([0.94202899, 0.85507246, 0.82608696, ..., 0.15217391, 0.12318841,\n",
       "       0.01449275])"
      ]
     },
     "execution_count": 42,
     "metadata": {},
     "output_type": "execute_result"
    }
   ],
   "source": [
    "# preview values using ravel\n",
    "Y_train_trans.ravel()"
   ]
  },
  {
   "cell_type": "code",
   "execution_count": 43,
   "metadata": {},
   "outputs": [
    {
     "data": {
      "text/plain": [
       "Pipeline(steps=[('impute', SimpleImputer(strategy='median')),\n",
       "                ('scaler', StandardScaler()),\n",
       "                ('svr', SVR(C=0.1, kernel='linear'))])"
      ]
     },
     "execution_count": 43,
     "metadata": {},
     "output_type": "execute_result"
    }
   ],
   "source": [
    "# Refit model with scaled data\n",
    "svr_model.fit(X_train,Y_train_trans.ravel())"
   ]
  },
  {
   "cell_type": "code",
   "execution_count": 44,
   "metadata": {},
   "outputs": [],
   "source": [
    "# get predictions\n",
    "y_pred = svr_model.predict(X_train)"
   ]
  },
  {
   "cell_type": "code",
   "execution_count": 45,
   "metadata": {},
   "outputs": [
    {
     "data": {
      "text/plain": [
       "0.3420593864391033"
      ]
     },
     "execution_count": 45,
     "metadata": {},
     "output_type": "execute_result"
    }
   ],
   "source": [
    "# get score w/ scaled values\n",
    "r2_score(Y_train_trans,y_pred)"
   ]
  },
  {
   "cell_type": "code",
   "execution_count": 47,
   "metadata": {},
   "outputs": [
    {
     "data": {
      "text/plain": [
       "0.3420958855165094"
      ]
     },
     "execution_count": 47,
     "metadata": {},
     "output_type": "execute_result"
    }
   ],
   "source": [
    "# try different scorer\n",
    "explained_variance_score(Y_train_trans,y_pred)"
   ]
  },
  {
   "cell_type": "code",
   "execution_count": 48,
   "metadata": {},
   "outputs": [],
   "source": [
    "# look at a different model, no grid search\n",
    "baymod = linear_model.BayesianRidge()"
   ]
  },
  {
   "cell_type": "code",
   "execution_count": 50,
   "metadata": {},
   "outputs": [
    {
     "data": {
      "text/plain": [
       "BayesianRidge()"
      ]
     },
     "execution_count": 50,
     "metadata": {},
     "output_type": "execute_result"
    }
   ],
   "source": [
    "# remember we have imputed values in our data, which this model requires.\n",
    "# fit on unscaled target\n",
    "baymod.fit(X_train_imputed,Y_train)"
   ]
  },
  {
   "cell_type": "code",
   "execution_count": 51,
   "metadata": {},
   "outputs": [],
   "source": [
    "# get predictions\n",
    "bay_y_pred = baymod.predict(X_train_imputed)"
   ]
  },
  {
   "cell_type": "code",
   "execution_count": 52,
   "metadata": {},
   "outputs": [
    {
     "data": {
      "text/plain": [
       "0.31518158996619605"
      ]
     },
     "execution_count": 52,
     "metadata": {},
     "output_type": "execute_result"
    }
   ],
   "source": [
    "# score the model\n",
    "r2_score(Y_train,bay_y_pred)"
   ]
  },
  {
   "cell_type": "code",
   "execution_count": 55,
   "metadata": {},
   "outputs": [
    {
     "data": {
      "text/plain": [
       "BayesianRidge()"
      ]
     },
     "execution_count": 55,
     "metadata": {},
     "output_type": "execute_result"
    }
   ],
   "source": [
    "# re-fit model with scaled data\n",
    "baymod2 = linear_model.BayesianRidge()\n",
    "baymod2.fit(X_train_imputed,Y_train_trans.ravel())"
   ]
  },
  {
   "cell_type": "code",
   "execution_count": 59,
   "metadata": {},
   "outputs": [],
   "source": [
    "bay2_y_pred = baymod2.predict(X_train_imputed)"
   ]
  },
  {
   "cell_type": "code",
   "execution_count": 60,
   "metadata": {},
   "outputs": [
    {
     "data": {
      "text/plain": [
       "0.3154423814395101"
      ]
     },
     "execution_count": 60,
     "metadata": {},
     "output_type": "execute_result"
    }
   ],
   "source": [
    "r2_score(Y_train_trans.ravel(),bay2_y_pred)"
   ]
  },
  {
   "cell_type": "code",
   "execution_count": 61,
   "metadata": {},
   "outputs": [],
   "source": [
    "# try a final model, again w/o gridsearch\n",
    "regr = MLPRegressor(random_state=1, max_iter=50000)"
   ]
  },
  {
   "cell_type": "code",
   "execution_count": 62,
   "metadata": {},
   "outputs": [
    {
     "data": {
      "text/plain": [
       "MLPRegressor(max_iter=50000, random_state=1)"
      ]
     },
     "execution_count": 62,
     "metadata": {},
     "output_type": "execute_result"
    }
   ],
   "source": [
    "regr.fit(X_train_imputed, Y_train)"
   ]
  },
  {
   "cell_type": "code",
   "execution_count": 63,
   "metadata": {},
   "outputs": [],
   "source": [
    "nnreg_pred = regr.predict(X_train_imputed)"
   ]
  },
  {
   "cell_type": "code",
   "execution_count": 64,
   "metadata": {},
   "outputs": [
    {
     "data": {
      "text/plain": [
       "0.02126323930401941"
      ]
     },
     "execution_count": 64,
     "metadata": {},
     "output_type": "execute_result"
    }
   ],
   "source": [
    "r2_score(Y_train,nnreg_pred)"
   ]
  },
  {
   "cell_type": "code",
   "execution_count": 66,
   "metadata": {},
   "outputs": [],
   "source": [
    "# Redo again, with scaled targets again\n",
    "regr2 = MLPRegressor(random_state=1, max_iter=50000)\n",
    "regr2.fit(X_train_imputed, Y_train_trans.ravel())\n",
    "nnreg_pred2 = regr2.predict(X_train_imputed)"
   ]
  },
  {
   "cell_type": "code",
   "execution_count": 68,
   "metadata": {},
   "outputs": [
    {
     "data": {
      "text/plain": [
       "-24.546357344880345"
      ]
     },
     "execution_count": 68,
     "metadata": {},
     "output_type": "execute_result"
    }
   ],
   "source": [
    "r2_score(Y_train_trans.ravel(),nnreg_pred2)"
   ]
  },
  {
   "cell_type": "code",
   "execution_count": 77,
   "metadata": {},
   "outputs": [],
   "source": [
    "## Run my best model against test data\n",
    "\n",
    "# imput war_# values. others will be imputed by pipeline\n",
    "X_test['WAR_1'].fillna(1,inplace=True)\n",
    "X_test['WAR_2'].fillna(1,inplace=True)\n",
    "X_test['WAR_3'].fillna(1,inplace=True)\n",
    "\n",
    "# pipeline did not include scaling target, so do that now\n",
    "test_target_scaler = MinMaxScaler()\n",
    "\n",
    "# reshape values for scaler and fit\n",
    "test_target_scaler.fit(Y_test.values.reshape(-1,1))\n",
    "\n",
    "# transform target\n",
    "Y_test_trans = test_target_scaler.transform(Y_test.values.reshape(-1,1))\n",
    "\n"
   ]
  },
  {
   "cell_type": "code",
   "execution_count": 78,
   "metadata": {},
   "outputs": [],
   "source": [
    "# predict against test set\n",
    "test_preds = svr_model.predict(X_test)"
   ]
  },
  {
   "cell_type": "code",
   "execution_count": 80,
   "metadata": {},
   "outputs": [
    {
     "data": {
      "text/plain": [
       "0.307518259681842"
      ]
     },
     "execution_count": 80,
     "metadata": {},
     "output_type": "execute_result"
    }
   ],
   "source": [
    "# score model against test set\n",
    "r2_score(Y_test_trans,test_preds)"
   ]
  },
  {
   "cell_type": "markdown",
   "metadata": {},
   "source": [
    "### Explore Why Models aren't so good"
   ]
  },
  {
   "cell_type": "code",
   "execution_count": 70,
   "metadata": {},
   "outputs": [
    {
     "data": {
      "text/html": [
       "<div>\n",
       "<style scoped>\n",
       "    .dataframe tbody tr th:only-of-type {\n",
       "        vertical-align: middle;\n",
       "    }\n",
       "\n",
       "    .dataframe tbody tr th {\n",
       "        vertical-align: top;\n",
       "    }\n",
       "\n",
       "    .dataframe thead th {\n",
       "        text-align: right;\n",
       "    }\n",
       "</style>\n",
       "<table border=\"1\" class=\"dataframe\">\n",
       "  <thead>\n",
       "    <tr style=\"text-align: right;\">\n",
       "      <th></th>\n",
       "      <th>Season</th>\n",
       "      <th>WAR</th>\n",
       "    </tr>\n",
       "  </thead>\n",
       "  <tbody>\n",
       "    <tr>\n",
       "      <th>579</th>\n",
       "      <td>2008.0</td>\n",
       "      <td>0.8</td>\n",
       "    </tr>\n",
       "    <tr>\n",
       "      <th>1058</th>\n",
       "      <td>2009.0</td>\n",
       "      <td>-0.5</td>\n",
       "    </tr>\n",
       "    <tr>\n",
       "      <th>1782</th>\n",
       "      <td>2011.0</td>\n",
       "      <td>-0.5</td>\n",
       "    </tr>\n",
       "    <tr>\n",
       "      <th>1976</th>\n",
       "      <td>2012.0</td>\n",
       "      <td>1.8</td>\n",
       "    </tr>\n",
       "    <tr>\n",
       "      <th>2208</th>\n",
       "      <td>2013.0</td>\n",
       "      <td>7.1</td>\n",
       "    </tr>\n",
       "    <tr>\n",
       "      <th>2780</th>\n",
       "      <td>2014.0</td>\n",
       "      <td>0.9</td>\n",
       "    </tr>\n",
       "    <tr>\n",
       "      <th>2953</th>\n",
       "      <td>2015.0</td>\n",
       "      <td>5.4</td>\n",
       "    </tr>\n",
       "    <tr>\n",
       "      <th>3382</th>\n",
       "      <td>2016.0</td>\n",
       "      <td>2.9</td>\n",
       "    </tr>\n",
       "    <tr>\n",
       "      <th>3971</th>\n",
       "      <td>2017.0</td>\n",
       "      <td>0.0</td>\n",
       "    </tr>\n",
       "    <tr>\n",
       "      <th>4416</th>\n",
       "      <td>2018.0</td>\n",
       "      <td>-3.2</td>\n",
       "    </tr>\n",
       "    <tr>\n",
       "      <th>4793</th>\n",
       "      <td>2019.0</td>\n",
       "      <td>-1.3</td>\n",
       "    </tr>\n",
       "  </tbody>\n",
       "</table>\n",
       "</div>"
      ],
      "text/plain": [
       "      Season  WAR\n",
       "579   2008.0  0.8\n",
       "1058  2009.0 -0.5\n",
       "1782  2011.0 -0.5\n",
       "1976  2012.0  1.8\n",
       "2208  2013.0  7.1\n",
       "2780  2014.0  0.9\n",
       "2953  2015.0  5.4\n",
       "3382  2016.0  2.9\n",
       "3971  2017.0  0.0\n",
       "4416  2018.0 -3.2\n",
       "4793  2019.0 -1.3"
      ]
     },
     "execution_count": 70,
     "metadata": {},
     "output_type": "execute_result"
    }
   ],
   "source": [
    "all_hit[all_hit['Name']=='Chris Davis'][['Season','WAR']]"
   ]
  },
  {
   "cell_type": "code",
   "execution_count": 71,
   "metadata": {},
   "outputs": [
    {
     "data": {
      "text/html": [
       "<div>\n",
       "<style scoped>\n",
       "    .dataframe tbody tr th:only-of-type {\n",
       "        vertical-align: middle;\n",
       "    }\n",
       "\n",
       "    .dataframe tbody tr th {\n",
       "        vertical-align: top;\n",
       "    }\n",
       "\n",
       "    .dataframe thead th {\n",
       "        text-align: right;\n",
       "    }\n",
       "</style>\n",
       "<table border=\"1\" class=\"dataframe\">\n",
       "  <thead>\n",
       "    <tr style=\"text-align: right;\">\n",
       "      <th></th>\n",
       "      <th>Season</th>\n",
       "      <th>WAR</th>\n",
       "    </tr>\n",
       "  </thead>\n",
       "  <tbody>\n",
       "    <tr>\n",
       "      <th>1828</th>\n",
       "      <td>2012.0</td>\n",
       "      <td>10.1</td>\n",
       "    </tr>\n",
       "    <tr>\n",
       "      <th>2202</th>\n",
       "      <td>2013.0</td>\n",
       "      <td>10.2</td>\n",
       "    </tr>\n",
       "    <tr>\n",
       "      <th>2570</th>\n",
       "      <td>2014.0</td>\n",
       "      <td>8.3</td>\n",
       "    </tr>\n",
       "    <tr>\n",
       "      <th>2940</th>\n",
       "      <td>2015.0</td>\n",
       "      <td>9.3</td>\n",
       "    </tr>\n",
       "    <tr>\n",
       "      <th>3308</th>\n",
       "      <td>2016.0</td>\n",
       "      <td>9.7</td>\n",
       "    </tr>\n",
       "    <tr>\n",
       "      <th>3681</th>\n",
       "      <td>2017.0</td>\n",
       "      <td>6.8</td>\n",
       "    </tr>\n",
       "    <tr>\n",
       "      <th>4045</th>\n",
       "      <td>2018.0</td>\n",
       "      <td>9.8</td>\n",
       "    </tr>\n",
       "    <tr>\n",
       "      <th>4417</th>\n",
       "      <td>2019.0</td>\n",
       "      <td>8.6</td>\n",
       "    </tr>\n",
       "  </tbody>\n",
       "</table>\n",
       "</div>"
      ],
      "text/plain": [
       "      Season   WAR\n",
       "1828  2012.0  10.1\n",
       "2202  2013.0  10.2\n",
       "2570  2014.0   8.3\n",
       "2940  2015.0   9.3\n",
       "3308  2016.0   9.7\n",
       "3681  2017.0   6.8\n",
       "4045  2018.0   9.8\n",
       "4417  2019.0   8.6"
      ]
     },
     "execution_count": 71,
     "metadata": {},
     "output_type": "execute_result"
    }
   ],
   "source": [
    "all_hit[all_hit['Name']=='Mike Trout'][['Season','WAR']]"
   ]
  },
  {
   "cell_type": "code",
   "execution_count": 95,
   "metadata": {},
   "outputs": [
    {
     "data": {
      "text/html": [
       "<div>\n",
       "<style scoped>\n",
       "    .dataframe tbody tr th:only-of-type {\n",
       "        vertical-align: middle;\n",
       "    }\n",
       "\n",
       "    .dataframe tbody tr th {\n",
       "        vertical-align: top;\n",
       "    }\n",
       "\n",
       "    .dataframe thead th {\n",
       "        text-align: right;\n",
       "    }\n",
       "</style>\n",
       "<table border=\"1\" class=\"dataframe\">\n",
       "  <thead>\n",
       "    <tr style=\"text-align: right;\">\n",
       "      <th></th>\n",
       "      <th>Name</th>\n",
       "      <th>Season</th>\n",
       "      <th>WAR</th>\n",
       "      <th>WAR_1</th>\n",
       "      <th>WAR_2</th>\n",
       "      <th>WAR_3</th>\n",
       "    </tr>\n",
       "  </thead>\n",
       "  <tbody>\n",
       "    <tr>\n",
       "      <th>0</th>\n",
       "      <td>Alex Rodriguez</td>\n",
       "      <td>2007.0</td>\n",
       "      <td>9.6</td>\n",
       "      <td>3.8</td>\n",
       "      <td>9.1</td>\n",
       "      <td>6.6</td>\n",
       "    </tr>\n",
       "    <tr>\n",
       "      <th>1</th>\n",
       "      <td>David Wright</td>\n",
       "      <td>2007.0</td>\n",
       "      <td>8.4</td>\n",
       "      <td>4.7</td>\n",
       "      <td>5.8</td>\n",
       "      <td>2.3</td>\n",
       "    </tr>\n",
       "    <tr>\n",
       "      <th>2</th>\n",
       "      <td>Magglio Ordonez</td>\n",
       "      <td>2007.0</td>\n",
       "      <td>8.0</td>\n",
       "      <td>1.2</td>\n",
       "      <td>1.2</td>\n",
       "      <td>0.6</td>\n",
       "    </tr>\n",
       "    <tr>\n",
       "      <th>3</th>\n",
       "      <td>Curtis Granderson</td>\n",
       "      <td>2007.0</td>\n",
       "      <td>7.9</td>\n",
       "      <td>4.0</td>\n",
       "      <td>NaN</td>\n",
       "      <td>NaN</td>\n",
       "    </tr>\n",
       "    <tr>\n",
       "      <th>7</th>\n",
       "      <td>Matt Holliday</td>\n",
       "      <td>2007.0</td>\n",
       "      <td>6.9</td>\n",
       "      <td>3.5</td>\n",
       "      <td>2.6</td>\n",
       "      <td>1.3</td>\n",
       "    </tr>\n",
       "    <tr>\n",
       "      <th>...</th>\n",
       "      <td>...</td>\n",
       "      <td>...</td>\n",
       "      <td>...</td>\n",
       "      <td>...</td>\n",
       "      <td>...</td>\n",
       "      <td>...</td>\n",
       "    </tr>\n",
       "    <tr>\n",
       "      <th>3687</th>\n",
       "      <td>Tommy Pham</td>\n",
       "      <td>2017.0</td>\n",
       "      <td>6.2</td>\n",
       "      <td>0.4</td>\n",
       "      <td>NaN</td>\n",
       "      <td>NaN</td>\n",
       "    </tr>\n",
       "    <tr>\n",
       "      <th>4044</th>\n",
       "      <td>Mookie Betts</td>\n",
       "      <td>2018.0</td>\n",
       "      <td>10.4</td>\n",
       "      <td>5.3</td>\n",
       "      <td>8.3</td>\n",
       "      <td>4.8</td>\n",
       "    </tr>\n",
       "    <tr>\n",
       "      <th>4048</th>\n",
       "      <td>Alex Bregman</td>\n",
       "      <td>2018.0</td>\n",
       "      <td>7.6</td>\n",
       "      <td>3.5</td>\n",
       "      <td>1.0</td>\n",
       "      <td>NaN</td>\n",
       "    </tr>\n",
       "    <tr>\n",
       "      <th>4050</th>\n",
       "      <td>Matt Chapman</td>\n",
       "      <td>2018.0</td>\n",
       "      <td>6.6</td>\n",
       "      <td>2.8</td>\n",
       "      <td>NaN</td>\n",
       "      <td>NaN</td>\n",
       "    </tr>\n",
       "    <tr>\n",
       "      <th>4416</th>\n",
       "      <td>Chris Davis</td>\n",
       "      <td>2018.0</td>\n",
       "      <td>-3.2</td>\n",
       "      <td>0.0</td>\n",
       "      <td>2.9</td>\n",
       "      <td>5.4</td>\n",
       "    </tr>\n",
       "  </tbody>\n",
       "</table>\n",
       "<p>69 rows × 6 columns</p>\n",
       "</div>"
      ],
      "text/plain": [
       "                   Name  Season   WAR  WAR_1  WAR_2  WAR_3\n",
       "0        Alex Rodriguez  2007.0   9.6    3.8    9.1    6.6\n",
       "1          David Wright  2007.0   8.4    4.7    5.8    2.3\n",
       "2       Magglio Ordonez  2007.0   8.0    1.2    1.2    0.6\n",
       "3     Curtis Granderson  2007.0   7.9    4.0    NaN    NaN\n",
       "7         Matt Holliday  2007.0   6.9    3.5    2.6    1.3\n",
       "...                 ...     ...   ...    ...    ...    ...\n",
       "3687         Tommy Pham  2017.0   6.2    0.4    NaN    NaN\n",
       "4044       Mookie Betts  2018.0  10.4    5.3    8.3    4.8\n",
       "4048       Alex Bregman  2018.0   7.6    3.5    1.0    NaN\n",
       "4050       Matt Chapman  2018.0   6.6    2.8    NaN    NaN\n",
       "4416        Chris Davis  2018.0  -3.2    0.0    2.9    5.4\n",
       "\n",
       "[69 rows x 6 columns]"
      ]
     },
     "execution_count": 95,
     "metadata": {},
     "output_type": "execute_result"
    }
   ],
   "source": [
    "# training data but with all columns\n",
    "full_feature_train = all_hit[all_hit['Season']<2019]\n",
    "\n",
    "# get all of the records in which the predicted and actual was greater than 4 WAR\n",
    "full_feature_train[pd.Series(Y_train-bay_y_pred).abs() > 4][['Name','Season','WAR','WAR_1','WAR_2','WAR_3']]\n",
    "\n",
    "### only 69 that were WAY off"
   ]
  },
  {
   "cell_type": "code",
   "execution_count": 104,
   "metadata": {},
   "outputs": [
    {
     "data": {
      "text/plain": [
       "5.140032614690294"
      ]
     },
     "execution_count": 104,
     "metadata": {},
     "output_type": "execute_result"
    }
   ],
   "source": [
    "# This is mookie betts prediction\n",
    "bay_y_pred[4044]"
   ]
  },
  {
   "cell_type": "code",
   "execution_count": 106,
   "metadata": {},
   "outputs": [
    {
     "data": {
      "text/plain": [
       "10.4"
      ]
     },
     "execution_count": 106,
     "metadata": {},
     "output_type": "execute_result"
    }
   ],
   "source": [
    "# mookies actual (also see above)\n",
    "Y_train[4044]"
   ]
  },
  {
   "cell_type": "code",
   "execution_count": 107,
   "metadata": {},
   "outputs": [
    {
     "data": {
      "text/html": [
       "<div>\n",
       "<style scoped>\n",
       "    .dataframe tbody tr th:only-of-type {\n",
       "        vertical-align: middle;\n",
       "    }\n",
       "\n",
       "    .dataframe tbody tr th {\n",
       "        vertical-align: top;\n",
       "    }\n",
       "\n",
       "    .dataframe thead th {\n",
       "        text-align: right;\n",
       "    }\n",
       "</style>\n",
       "<table border=\"1\" class=\"dataframe\">\n",
       "  <thead>\n",
       "    <tr style=\"text-align: right;\">\n",
       "      <th></th>\n",
       "      <th>Name</th>\n",
       "      <th>Season</th>\n",
       "      <th>WAR</th>\n",
       "      <th>WAR_1</th>\n",
       "      <th>WAR_2</th>\n",
       "      <th>WAR_3</th>\n",
       "    </tr>\n",
       "  </thead>\n",
       "  <tbody>\n",
       "    <tr>\n",
       "      <th>23</th>\n",
       "      <td>Carlos Beltran</td>\n",
       "      <td>2007.0</td>\n",
       "      <td>5.1</td>\n",
       "      <td>7.8</td>\n",
       "      <td>2.3</td>\n",
       "      <td>6.4</td>\n",
       "    </tr>\n",
       "    <tr>\n",
       "      <th>24</th>\n",
       "      <td>Miguel Cabrera</td>\n",
       "      <td>2007.0</td>\n",
       "      <td>5.0</td>\n",
       "      <td>6.3</td>\n",
       "      <td>5.1</td>\n",
       "      <td>2.3</td>\n",
       "    </tr>\n",
       "    <tr>\n",
       "      <th>46</th>\n",
       "      <td>Derek Jeter</td>\n",
       "      <td>2007.0</td>\n",
       "      <td>3.6</td>\n",
       "      <td>6.1</td>\n",
       "      <td>4.4</td>\n",
       "      <td>4.7</td>\n",
       "    </tr>\n",
       "    <tr>\n",
       "      <th>49</th>\n",
       "      <td>Jim Thome</td>\n",
       "      <td>2007.0</td>\n",
       "      <td>3.4</td>\n",
       "      <td>4.8</td>\n",
       "      <td>-0.1</td>\n",
       "      <td>4.1</td>\n",
       "    </tr>\n",
       "    <tr>\n",
       "      <th>51</th>\n",
       "      <td>Bobby Abreu</td>\n",
       "      <td>2007.0</td>\n",
       "      <td>3.4</td>\n",
       "      <td>3.6</td>\n",
       "      <td>3.8</td>\n",
       "      <td>5.7</td>\n",
       "    </tr>\n",
       "    <tr>\n",
       "      <th>...</th>\n",
       "      <td>...</td>\n",
       "      <td>...</td>\n",
       "      <td>...</td>\n",
       "      <td>...</td>\n",
       "      <td>...</td>\n",
       "      <td>...</td>\n",
       "    </tr>\n",
       "    <tr>\n",
       "      <th>4378</th>\n",
       "      <td>Danny Valencia</td>\n",
       "      <td>2018.0</td>\n",
       "      <td>-0.4</td>\n",
       "      <td>-0.5</td>\n",
       "      <td>1.5</td>\n",
       "      <td>2.8</td>\n",
       "    </tr>\n",
       "    <tr>\n",
       "      <th>4381</th>\n",
       "      <td>Jace Peterson</td>\n",
       "      <td>2018.0</td>\n",
       "      <td>-0.4</td>\n",
       "      <td>-0.5</td>\n",
       "      <td>0.1</td>\n",
       "      <td>1.0</td>\n",
       "    </tr>\n",
       "    <tr>\n",
       "      <th>4386</th>\n",
       "      <td>Nick Hundley</td>\n",
       "      <td>2018.0</td>\n",
       "      <td>-0.5</td>\n",
       "      <td>-0.1</td>\n",
       "      <td>-0.4</td>\n",
       "      <td>1.2</td>\n",
       "    </tr>\n",
       "    <tr>\n",
       "      <th>4397</th>\n",
       "      <td>Gregor Blanco</td>\n",
       "      <td>2018.0</td>\n",
       "      <td>-0.7</td>\n",
       "      <td>0.6</td>\n",
       "      <td>-0.7</td>\n",
       "      <td>2.0</td>\n",
       "    </tr>\n",
       "    <tr>\n",
       "      <th>4415</th>\n",
       "      <td>Victor Martinez</td>\n",
       "      <td>2018.0</td>\n",
       "      <td>-1.7</td>\n",
       "      <td>-1.1</td>\n",
       "      <td>1.1</td>\n",
       "      <td>-2.0</td>\n",
       "    </tr>\n",
       "  </tbody>\n",
       "</table>\n",
       "<p>2132 rows × 6 columns</p>\n",
       "</div>"
      ],
      "text/plain": [
       "                 Name  Season  WAR  WAR_1  WAR_2  WAR_3\n",
       "23     Carlos Beltran  2007.0  5.1    7.8    2.3    6.4\n",
       "24     Miguel Cabrera  2007.0  5.0    6.3    5.1    2.3\n",
       "46        Derek Jeter  2007.0  3.6    6.1    4.4    4.7\n",
       "49          Jim Thome  2007.0  3.4    4.8   -0.1    4.1\n",
       "51        Bobby Abreu  2007.0  3.4    3.6    3.8    5.7\n",
       "...               ...     ...  ...    ...    ...    ...\n",
       "4378   Danny Valencia  2018.0 -0.4   -0.5    1.5    2.8\n",
       "4381    Jace Peterson  2018.0 -0.4   -0.5    0.1    1.0\n",
       "4386     Nick Hundley  2018.0 -0.5   -0.1   -0.4    1.2\n",
       "4397    Gregor Blanco  2018.0 -0.7    0.6   -0.7    2.0\n",
       "4415  Victor Martinez  2018.0 -1.7   -1.1    1.1   -2.0\n",
       "\n",
       "[2132 rows x 6 columns]"
      ]
     },
     "execution_count": 107,
     "metadata": {},
     "output_type": "execute_result"
    }
   ],
   "source": [
    "# get all of the records in which the predicted and actual was greater than 1 WAR\n",
    "full_feature_train[pd.Series(Y_train-bay_y_pred).abs() < 1][['Name','Season','WAR','WAR_1','WAR_2','WAR_3']]"
   ]
  },
  {
   "cell_type": "code",
   "execution_count": 109,
   "metadata": {},
   "outputs": [
    {
     "data": {
      "text/plain": [
       "5.126079541906414"
      ]
     },
     "execution_count": 109,
     "metadata": {},
     "output_type": "execute_result"
    }
   ],
   "source": [
    "# half were less than 1\n",
    "bay_y_pred[23]"
   ]
  },
  {
   "cell_type": "code",
   "execution_count": 110,
   "metadata": {},
   "outputs": [
    {
     "data": {
      "text/plain": [
       "5.1"
      ]
     },
     "execution_count": 110,
     "metadata": {},
     "output_type": "execute_result"
    }
   ],
   "source": [
    "Y_train[23]"
   ]
  },
  {
   "cell_type": "code",
   "execution_count": 111,
   "metadata": {},
   "outputs": [
    {
     "data": {
      "text/html": [
       "<div>\n",
       "<style scoped>\n",
       "    .dataframe tbody tr th:only-of-type {\n",
       "        vertical-align: middle;\n",
       "    }\n",
       "\n",
       "    .dataframe tbody tr th {\n",
       "        vertical-align: top;\n",
       "    }\n",
       "\n",
       "    .dataframe thead th {\n",
       "        text-align: right;\n",
       "    }\n",
       "</style>\n",
       "<table border=\"1\" class=\"dataframe\">\n",
       "  <thead>\n",
       "    <tr style=\"text-align: right;\">\n",
       "      <th></th>\n",
       "      <th>Name</th>\n",
       "      <th>Season</th>\n",
       "      <th>WAR</th>\n",
       "      <th>WAR_1</th>\n",
       "      <th>WAR_2</th>\n",
       "      <th>WAR_3</th>\n",
       "    </tr>\n",
       "  </thead>\n",
       "  <tbody>\n",
       "    <tr>\n",
       "      <th>4</th>\n",
       "      <td>Albert Pujols</td>\n",
       "      <td>2007.0</td>\n",
       "      <td>7.7</td>\n",
       "      <td>8.1</td>\n",
       "      <td>7.7</td>\n",
       "      <td>7.8</td>\n",
       "    </tr>\n",
       "    <tr>\n",
       "      <th>10</th>\n",
       "      <td>Grady Sizemore</td>\n",
       "      <td>2007.0</td>\n",
       "      <td>6.4</td>\n",
       "      <td>7.9</td>\n",
       "      <td>5.6</td>\n",
       "      <td>NaN</td>\n",
       "    </tr>\n",
       "    <tr>\n",
       "      <th>11</th>\n",
       "      <td>David Ortiz</td>\n",
       "      <td>2007.0</td>\n",
       "      <td>6.3</td>\n",
       "      <td>5.3</td>\n",
       "      <td>5.3</td>\n",
       "      <td>4.2</td>\n",
       "    </tr>\n",
       "    <tr>\n",
       "      <th>12</th>\n",
       "      <td>Ichiro Suzuki</td>\n",
       "      <td>2007.0</td>\n",
       "      <td>6.1</td>\n",
       "      <td>5.6</td>\n",
       "      <td>3.6</td>\n",
       "      <td>7.1</td>\n",
       "    </tr>\n",
       "    <tr>\n",
       "      <th>15</th>\n",
       "      <td>Jose Reyes</td>\n",
       "      <td>2007.0</td>\n",
       "      <td>5.6</td>\n",
       "      <td>5.7</td>\n",
       "      <td>1.7</td>\n",
       "      <td>0.5</td>\n",
       "    </tr>\n",
       "    <tr>\n",
       "      <th>...</th>\n",
       "      <td>...</td>\n",
       "      <td>...</td>\n",
       "      <td>...</td>\n",
       "      <td>...</td>\n",
       "      <td>...</td>\n",
       "      <td>...</td>\n",
       "    </tr>\n",
       "    <tr>\n",
       "      <th>4398</th>\n",
       "      <td>Chris Owings</td>\n",
       "      <td>2018.0</td>\n",
       "      <td>-0.7</td>\n",
       "      <td>0.3</td>\n",
       "      <td>1.0</td>\n",
       "      <td>-1.1</td>\n",
       "    </tr>\n",
       "    <tr>\n",
       "      <th>4399</th>\n",
       "      <td>Carlos Asuaje</td>\n",
       "      <td>2018.0</td>\n",
       "      <td>-0.7</td>\n",
       "      <td>0.6</td>\n",
       "      <td>NaN</td>\n",
       "      <td>NaN</td>\n",
       "    </tr>\n",
       "    <tr>\n",
       "      <th>4403</th>\n",
       "      <td>Hunter Pence</td>\n",
       "      <td>2018.0</td>\n",
       "      <td>-0.8</td>\n",
       "      <td>0.8</td>\n",
       "      <td>1.6</td>\n",
       "      <td>1.3</td>\n",
       "    </tr>\n",
       "    <tr>\n",
       "      <th>4404</th>\n",
       "      <td>Drew Butera</td>\n",
       "      <td>2018.0</td>\n",
       "      <td>-0.8</td>\n",
       "      <td>NaN</td>\n",
       "      <td>NaN</td>\n",
       "      <td>NaN</td>\n",
       "    </tr>\n",
       "    <tr>\n",
       "      <th>4405</th>\n",
       "      <td>Ryon Healy</td>\n",
       "      <td>2018.0</td>\n",
       "      <td>-0.9</td>\n",
       "      <td>0.3</td>\n",
       "      <td>1.5</td>\n",
       "      <td>NaN</td>\n",
       "    </tr>\n",
       "  </tbody>\n",
       "</table>\n",
       "<p>1437 rows × 6 columns</p>\n",
       "</div>"
      ],
      "text/plain": [
       "                Name  Season  WAR  WAR_1  WAR_2  WAR_3\n",
       "4      Albert Pujols  2007.0  7.7    8.1    7.7    7.8\n",
       "10    Grady Sizemore  2007.0  6.4    7.9    5.6    NaN\n",
       "11       David Ortiz  2007.0  6.3    5.3    5.3    4.2\n",
       "12     Ichiro Suzuki  2007.0  6.1    5.6    3.6    7.1\n",
       "15        Jose Reyes  2007.0  5.6    5.7    1.7    0.5\n",
       "...              ...     ...  ...    ...    ...    ...\n",
       "4398    Chris Owings  2018.0 -0.7    0.3    1.0   -1.1\n",
       "4399   Carlos Asuaje  2018.0 -0.7    0.6    NaN    NaN\n",
       "4403    Hunter Pence  2018.0 -0.8    0.8    1.6    1.3\n",
       "4404     Drew Butera  2018.0 -0.8    NaN    NaN    NaN\n",
       "4405      Ryon Healy  2018.0 -0.9    0.3    1.5    NaN\n",
       "\n",
       "[1437 rows x 6 columns]"
      ]
     },
     "execution_count": 111,
     "metadata": {},
     "output_type": "execute_result"
    }
   ],
   "source": [
    "# get all of the records in which the predicted and actual was between than 1 & 2 WAR\n",
    "full_feature_train[(pd.Series(Y_train-bay_y_pred).abs()>=1) & (pd.Series(Y_train-bay_y_pred).abs()<=2)][['Name','Season','WAR','WAR_1','WAR_2','WAR_3']]"
   ]
  },
  {
   "cell_type": "code",
   "execution_count": 112,
   "metadata": {},
   "outputs": [
    {
     "data": {
      "text/plain": [
       "4.401189481734935"
      ]
     },
     "execution_count": 112,
     "metadata": {},
     "output_type": "execute_result"
    }
   ],
   "source": [
    "# half were less than 1\n",
    "bay_y_pred[11]"
   ]
  },
  {
   "cell_type": "code",
   "execution_count": 113,
   "metadata": {},
   "outputs": [
    {
     "data": {
      "text/plain": [
       "6.3"
      ]
     },
     "execution_count": 113,
     "metadata": {},
     "output_type": "execute_result"
    }
   ],
   "source": [
    "Y_train[11]"
   ]
  },
  {
   "cell_type": "code",
   "execution_count": 114,
   "metadata": {},
   "outputs": [],
   "source": [
    "# Almost all were 0-2 WAR off. I think that is reasonable, so while score isn't high, I think the predictions are solid"
   ]
  },
  {
   "cell_type": "code",
   "execution_count": null,
   "metadata": {},
   "outputs": [],
   "source": []
  }
 ],
 "metadata": {
  "kernelspec": {
   "display_name": "Python 3",
   "language": "python",
   "name": "python3"
  },
  "language_info": {
   "codemirror_mode": {
    "name": "ipython",
    "version": 3
   },
   "file_extension": ".py",
   "mimetype": "text/x-python",
   "name": "python",
   "nbconvert_exporter": "python",
   "pygments_lexer": "ipython3",
   "version": "3.8.4rc1"
  },
  "varInspector": {
   "cols": {
    "lenName": 16,
    "lenType": 16,
    "lenVar": 40
   },
   "kernels_config": {
    "python": {
     "delete_cmd_postfix": "",
     "delete_cmd_prefix": "del ",
     "library": "var_list.py",
     "varRefreshCmd": "print(var_dic_list())"
    },
    "r": {
     "delete_cmd_postfix": ") ",
     "delete_cmd_prefix": "rm(",
     "library": "var_list.r",
     "varRefreshCmd": "cat(var_dic_list()) "
    }
   },
   "types_to_exclude": [
    "module",
    "function",
    "builtin_function_or_method",
    "instance",
    "_Feature"
   ],
   "window_display": false
  }
 },
 "nbformat": 4,
 "nbformat_minor": 4
}
