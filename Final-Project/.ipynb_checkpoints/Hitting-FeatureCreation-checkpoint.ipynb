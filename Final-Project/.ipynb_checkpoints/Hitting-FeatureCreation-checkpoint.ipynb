{
 "cells": [
  {
   "cell_type": "code",
   "execution_count": 1,
   "metadata": {},
   "outputs": [],
   "source": [
    "from requests import Session\n",
    "from requests.exceptions import HTTPError\n",
    "import json\n",
    "import time\n",
    "import pandas as pd\n",
    "from random import uniform\n",
    "import os\n",
    "import copy\n",
    "from matplotlib import pyplot as plt\n",
    "import seaborn as sns"
   ]
  },
  {
   "cell_type": "code",
   "execution_count": 19,
   "metadata": {},
   "outputs": [],
   "source": [
    "# Create a class to retry failed requests\n",
    "class ResilientSession(Session):\n",
    "    \"\"\"\n",
    "    This class is supposed to retry requests that return temporary errors.\n",
    "    At this moment it supports: 500, 502, 503, 504\n",
    "    \"\"\"\n",
    "\n",
    "    def request(self, method, url, **kwargs):\n",
    "        counter = 0\n",
    "\n",
    "        while True:\n",
    "            counter += 1\n",
    "\n",
    "            r = super(ResilientSession, self).request(method, url, **kwargs)\n",
    "\n",
    "            if r.status_code in [ 500, 502, 503, 504 ]:\n",
    "                delay = 10 * counter\n",
    "                logging.warn(\"Got recoverable error [%s] from %s %s, retry #%s in %ss\" % (r.status_code, method, url, counter, delay))\n",
    "                time.sleep(delay)\n",
    "                continue\n",
    "\n",
    "            return r"
   ]
  },
  {
   "cell_type": "code",
   "execution_count": 20,
   "metadata": {},
   "outputs": [],
   "source": [
    "# Create session object\n",
    "s = ResilientSession()"
   ]
  },
  {
   "cell_type": "code",
   "execution_count": 8,
   "metadata": {},
   "outputs": [],
   "source": [
    "# Load the data downloaded from api\n",
    "hitting_temp = pd.read_csv('hitting_data_2012_2019.csv')"
   ]
  },
  {
   "cell_type": "code",
   "execution_count": 9,
   "metadata": {},
   "outputs": [],
   "source": [
    "# Didn't save it correctly, so drop a column\n",
    "hitting_temp.drop('Unnamed: 0', axis=1, inplace=True)"
   ]
  },
  {
   "cell_type": "code",
   "execution_count": 10,
   "metadata": {},
   "outputs": [],
   "source": [
    "# Season 2019 plans to be test data, so let's remove it from our analysis now\n",
    "hitting_temp.drop(hitting_temp[hitting_temp['season'] !=2019].index, inplace = True) "
   ]
  },
  {
   "cell_type": "code",
   "execution_count": 11,
   "metadata": {},
   "outputs": [],
   "source": [
    "# Some players move teams during the season, I just want their overall stats to calculate their overall score\n",
    "# This series contains IDs of players that moved.\n",
    "movedPlayers = hitting_temp[hitting_temp['team'].isnull()]['id']"
   ]
  },
  {
   "cell_type": "code",
   "execution_count": 12,
   "metadata": {},
   "outputs": [],
   "source": [
    "# Remove team specific playerIDs leaving rolled up stats\n",
    "hitting_temp.drop(hitting_temp[hitting_temp['id'].isin(movedPlayers) & \n",
    "                               hitting_temp['team'].notnull()].index,inplace = True)"
   ]
  },
  {
   "cell_type": "code",
   "execution_count": 13,
   "metadata": {},
   "outputs": [],
   "source": [
    "# If primary position is null, fill it with DH\n",
    "hitting_temp['primaryPosition'].fillna('DH',inplace = True)"
   ]
  },
  {
   "cell_type": "code",
   "execution_count": 14,
   "metadata": {},
   "outputs": [],
   "source": [
    "# Create labels based on games played\n",
    "bin_labels = ['role','bench','platoon','everyday']\n",
    "hitting_temp['playing_time'] = hitting_temp.groupby('primaryPosition')['gamesPlayed'].transform(\n",
    "    lambda x: pd.qcut(x,q=4, labels=bin_labels))"
   ]
  },
  {
   "cell_type": "code",
   "execution_count": 16,
   "metadata": {},
   "outputs": [],
   "source": [
    "# Some stats come in as string because of some \"filler\" data. Coerce them into numbers\n",
    "hitting_temp['avg'] = pd.to_numeric(hitting_temp['avg'],errors='coerce')\n",
    "hitting_temp['obp'] = pd.to_numeric(hitting_temp['obp'],errors='coerce')\n",
    "hitting_temp['slg'] = pd.to_numeric(hitting_temp['slg'],errors='coerce')\n",
    "hitting_temp['stolenBasePercentage'] = pd.to_numeric(hitting_temp['stolenBasePercentage'],errors='coerce')\n",
    "hitting_temp['babip'] = pd.to_numeric(hitting_temp['babip'],errors='coerce')\n",
    "hitting_temp['groundOutsToAirouts'] = pd.to_numeric(hitting_temp['groundOutsToAirouts'],errors='coerce')\n",
    "hitting_temp['atBatsPerHomeRun'] = pd.to_numeric(hitting_temp['atBatsPerHomeRun'],errors='coerce')"
   ]
  },
  {
   "cell_type": "code",
   "execution_count": 21,
   "metadata": {},
   "outputs": [],
   "source": [
    "# get a list of season starts\n",
    "# Get the **ALL** seasons\n",
    "seasonStarts = {}\n",
    "try:\n",
    "    seasonResponse = s.get('https://statsapi.mlb.com/api/v1/seasons/all?sportId=1')\n",
    "    seasonResponse.raise_for_status()\n",
    "\n",
    "    # access JSON content\n",
    "    jsonSeasonResponse = seasonResponse.json()\n",
    "\n",
    "except HTTPError as http_err:\n",
    "    print(f'HTTP error occurred: {http_err}')\n",
    "except Exception as err:\n",
    "    print(f'Other error occurred[season]: {err}')\n",
    "\n",
    "for season in jsonSeasonResponse['seasons']:\n",
    "    # Get data for 2012 through 2019\n",
    "    if int(season['seasonId']) >= 2012 and int(season['seasonId']) < 2020:\n",
    "        seasonStarts[season['seasonId']] = season['regularSeasonStartDate']\n",
    "    else:\n",
    "        continue\n"
   ]
  },
  {
   "cell_type": "code",
   "execution_count": 22,
   "metadata": {},
   "outputs": [],
   "source": [
    "# Add a season start column to our data set\n",
    "hitting_temp['season_start'] = hitting_temp['season'].apply(lambda x:seasonStarts[str(x)] )"
   ]
  },
  {
   "cell_type": "code",
   "execution_count": 23,
   "metadata": {},
   "outputs": [],
   "source": [
    "# Use season start to calculate a players age at the start of a season\n",
    "hitting_temp['age_at_start'] = (np.floor((pd.to_datetime(hitting_temp['season_start']) - \n",
    "             pd.to_datetime(hitting_temp['birthDate'])).dt.days / 365.25)).astype(int)"
   ]
  },
  {
   "cell_type": "code",
   "execution_count": 24,
   "metadata": {},
   "outputs": [],
   "source": [
    "# categorize players by age at start of the season\n",
    "hitting_temp['age_group'] = pd.qcut(hitting_temp['age_at_start'], 4, labels=[\"young\", \"prime\", \"pastprime\", \"old\"])"
   ]
  },
  {
   "cell_type": "code",
   "execution_count": null,
   "metadata": {},
   "outputs": [],
   "source": []
  }
 ],
 "metadata": {
  "kernelspec": {
   "display_name": "Python 3",
   "language": "python",
   "name": "python3"
  },
  "language_info": {
   "codemirror_mode": {
    "name": "ipython",
    "version": 3
   },
   "file_extension": ".py",
   "mimetype": "text/x-python",
   "name": "python",
   "nbconvert_exporter": "python",
   "pygments_lexer": "ipython3",
   "version": "3.7.0"
  },
  "varInspector": {
   "cols": {
    "lenName": 16,
    "lenType": 16,
    "lenVar": 40
   },
   "kernels_config": {
    "python": {
     "delete_cmd_postfix": "",
     "delete_cmd_prefix": "del ",
     "library": "var_list.py",
     "varRefreshCmd": "print(var_dic_list())"
    },
    "r": {
     "delete_cmd_postfix": ") ",
     "delete_cmd_prefix": "rm(",
     "library": "var_list.r",
     "varRefreshCmd": "cat(var_dic_list()) "
    }
   },
   "types_to_exclude": [
    "module",
    "function",
    "builtin_function_or_method",
    "instance",
    "_Feature"
   ],
   "window_display": false
  }
 },
 "nbformat": 4,
 "nbformat_minor": 4
}
